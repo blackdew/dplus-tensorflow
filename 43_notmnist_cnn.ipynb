{
 "cells": [
  {
   "cell_type": "markdown",
   "metadata": {},
   "source": [
    "# 33. notMNIST CNN\n",
    "\n",
    "<p style=\"text-align: right;\">\n",
    "blackdew7@gmail.com<br>\n",
    "Your name :\n",
    "</p>\n",
    "\n",
    "### 텐서플로 실습시간 그 일곱번째!<br>\n",
    "\n",
    "#### 선행지식\n",
    "1. TensorFlow 다루기 기초\n",
    "2. 모델링을 한다는 것에 대한 이해.\n",
    "3. Supervised Learning 중 Classification에 대한 기본 지식.\n",
    "4. CNN에 대한 기본 구조와 개념\n",
    "\n",
    "#### 실습목표\n",
    "1. CNN의 구조를 Graph로 그려낼 수 있다.\n",
    "2. 그려낸 Graph를 텐서플로우를 이용해 코딩할 수 있다.\n",
    "\n",
    "#### 사용데이터.\n",
    "\n",
    "01. Multinomial Classification : http://yann.lecun.com/exdb/mnist/"
   ]
  },
  {
   "cell_type": "markdown",
   "metadata": {},
   "source": [
    "## 00. 라이브러리 불러오기"
   ]
  },
  {
   "cell_type": "code",
   "execution_count": null,
   "metadata": {
    "collapsed": true
   },
   "outputs": [],
   "source": [
    "# 메모리 초기화\n",
    "%reset"
   ]
  },
  {
   "cell_type": "code",
   "execution_count": 1,
   "metadata": {
    "collapsed": true
   },
   "outputs": [],
   "source": [
    "import sys\n",
    "import tarfile\n",
    "\n",
    "tar = tarfile.open('./data/notMNIST_small.tar.gz')\n",
    "sys.stdout.flush()\n",
    "tar.extractall('./data/')\n",
    "tar.close()"
   ]
  },
  {
   "cell_type": "code",
   "execution_count": null,
   "metadata": {
    "collapsed": true
   },
   "outputs": [],
   "source": [
    "# MNIST and Convolutional Neural Network\n",
    "import tensorflow as tf\n",
    "import random\n",
    "import numpy as np\n",
    "import matplotlib.pyplot as plt"
   ]
  },
  {
   "cell_type": "markdown",
   "metadata": {},
   "source": [
    "## 00. 이미지 로더"
   ]
  },
  {
   "cell_type": "code",
   "execution_count": null,
   "metadata": {
    "collapsed": true
   },
   "outputs": [],
   "source": [
    "!pip install imageio"
   ]
  },
  {
   "cell_type": "code",
   "execution_count": null,
   "metadata": {
    "collapsed": true
   },
   "outputs": [],
   "source": [
    "from image_loader import ImageLoader\n",
    "mnist = ImageLoader('./data/notMNIST_small/', ['A', 'B', 'C', 'D', 'E', 'F', 'G', 'H', 'I', 'J'])"
   ]
  },
  {
   "cell_type": "markdown",
   "metadata": {},
   "source": [
    "### 이미지 로딩 테스트"
   ]
  },
  {
   "cell_type": "code",
   "execution_count": null,
   "metadata": {
    "collapsed": true,
    "scrolled": true
   },
   "outputs": [],
   "source": [
    "print(len(mnist.train.images))   # Images in the training set.\n",
    "print(len(mnist.train.labels))   # Labels in the training set.\n",
    "print(len(mnist.test.images))    # Images in the test set.\n",
    "print(len(mnist.test.labels))    # Labels in the test set.\n",
    "\n",
    "train, label = mnist.train.next_batch(100) # To retrieve specified number of data in a batch\n",
    "\n",
    "print(np.array(train).shape)\n",
    "print(np.array(label).shape)"
   ]
  },
  {
   "cell_type": "markdown",
   "metadata": {},
   "source": [
    "## 01. Import Library & Prepare notMNIST Data"
   ]
  },
  {
   "cell_type": "code",
   "execution_count": null,
   "metadata": {
    "collapsed": true
   },
   "outputs": [],
   "source": [
    "import tensorflow as tf\n",
    "from tbij import show_graph # Tensor Board In Jupyter notebook. You can see this later.\n",
    "\n",
    "import numpy as np\n",
    "import matplotlib.pyplot as plt\n",
    "\n",
    "from image_loader import ImageLoader\n",
    "mnist = ImageLoader('./data/notMNIST_small/', ['A', 'B', 'C', 'D', 'E', 'F', 'G', 'H', 'I', 'J'])"
   ]
  },
  {
   "cell_type": "markdown",
   "metadata": {},
   "source": [
    "## 02. Prepare Variables for a CNN Graph with TF"
   ]
  },
  {
   "cell_type": "code",
   "execution_count": null,
   "metadata": {
    "collapsed": true
   },
   "outputs": [],
   "source": [
    "# Graph Clear\n",
    "tf.reset_default_graph()\n",
    "tf.set_random_seed(2017) # random seeding - reproduct\n",
    "\n",
    "############################\n",
    "# Place Holders\n",
    "\n",
    "X = tf.placeholder(tf.float32, [None, 28, 28], name=\"X\")\n",
    "X_img = tf.reshape(X, [-1, 28, 28, 1], name=\"X_img\")\n",
    "Y = tf.placeholder(tf.float32, [None, 10], name=\"Y\")\n"
   ]
  },
  {
   "cell_type": "markdown",
   "metadata": {},
   "source": [
    "## 03. Make a CNN Graph with TF"
   ]
  },
  {
   "cell_type": "code",
   "execution_count": null,
   "metadata": {
    "collapsed": true
   },
   "outputs": [],
   "source": [
    "#########################\n",
    "# ConvLayer 01 \n",
    "\n",
    "with tf.name_scope(\"layer1_conv\"):\n",
    "\n",
    "    # for Conv Layer 01 filter - shape=(3, 3, 1)\n",
    "    W1 = tf.Variable(tf.random_normal([3, 3, 1, 32], stddev=0.01), name=\"W1\")\n",
    "\n",
    "    # Convolution Layer 01 -> (?, 28, 28, 32)\n",
    "    L1_conv = tf.nn.conv2d(X_img, W1, strides=[1, 1, 1, 1], padding='SAME', name=\"L1_conv\")\n",
    "    L1_conv = tf.nn.relu(L1_conv, name=\"L1_relu\")\n",
    "\n",
    "    # Pooling Layer 01 -> (?, 14, 14, 32)\n",
    "    L1_pool = tf.nn.max_pool(L1_conv, ksize=[1, 2, 2, 1], \n",
    "                             strides=[1, 2, 2, 1], padding='SAME', name=\"L1_max_pool\")\n",
    "\n",
    "    \n",
    "#########################\n",
    "# ConvLayer 02\n",
    "\n",
    "with tf.name_scope(\"layer2_conv\"):\n",
    "\n",
    "    # for Conv Layer 02 filter - shape=(3, 3, 32)\n",
    "    W2 = tf.Variable(tf.random_normal([3, 3, 32, 64], stddev=0.01), name=\"W2\")\n",
    "\n",
    "    # Convolution Layer 02 -> (?, 14, 14, 64)\n",
    "    L2_conv = tf.nn.conv2d(L1_pool, W2, strides=[1, 1, 1, 1], padding='SAME', name=\"L2_conv\")\n",
    "    L2_conv = tf.nn.relu(L2_conv, name=\"L2_relu\")\n",
    "\n",
    "    # Pooling Layer 02 -> (?, 7, 7, 64)\n",
    "    L2_pool = tf.nn.max_pool(L2_conv, ksize=[1, 2, 2, 1], \n",
    "                             strides=[1, 2, 2, 1], padding='SAME', name=\"L2_max_pool\")\n",
    "\n",
    "    \n",
    "#########################\n",
    "# Fully Connected Layer 01\n",
    "\n",
    "with tf.name_scope(\"layer1_fc\"):\n",
    "\n",
    "    ###############################\n",
    "    # Flatten layer\n",
    "    L_flat = tf.reshape(L2_pool, [-1, 7 * 7 * 64], name=\"L_flat\")\n",
    "\n",
    "    # for Final FC 7x7x64 inputs -> 1000\n",
    "    W1_fc = tf.Variable(tf.random_normal([7 * 7 * 64, 1000], stddev=0.01), name=\"W1_fc\")\n",
    "\n",
    "    # for Final FC Layer 1: 7x7x64 inputs -> 1000\n",
    "    L1_fc = tf.matmul(L_flat, W1_fc, name=\"L1_fc\")\n",
    "    L1_fc = tf.nn.relu(L1_fc, name=\"L1_fc_relu\")\n",
    "\n",
    "    #########################\n",
    "    # Dropout\n",
    "    keep_prob = tf.placeholder(tf.float32, name=\"keep_prob\")\n",
    "    L1_fc_dropout = tf.nn.dropout(L1_fc, keep_prob=keep_prob, name=\"dropout\")\n",
    "    #########################\n",
    "    \n",
    "    \n",
    "#########################\n",
    "# Fully Connected Layer 02\n",
    "\n",
    "with tf.name_scope(\"layer2_fc\"):\n",
    "\n",
    "    # for Final FC 1000 inputs -> 10\n",
    "    W2_fc = tf.Variable(tf.random_normal([1000, 10], stddev=0.01), name=\"W2_fc\")\n",
    "\n",
    "    # bias\n",
    "    b = tf.Variable(tf.random_normal([10]), name=\"bias\")\n",
    "\n",
    "    # for Final FC Layer 2: 1000 inputs -> 10\n",
    "    logits = tf.add(tf.matmul(L1_fc_dropout, W2_fc), b, name=\"logits\")\n",
    "\n",
    "    \n",
    "#########################\n",
    "# Cost & Optimizer\n",
    "\n",
    "learning_rate = 0.001\n",
    "\n",
    "with tf.name_scope(\"Optimizer\"):\n",
    "    # Cost(loss) function & Optimizer\n",
    "    cross_entropy = tf.nn.softmax_cross_entropy_with_logits(logits=logits, labels=Y, name=\"cross_entropy\")\n",
    "    cost = tf.reduce_mean(cross_entropy, name=\"cost\")\n",
    "    optimizer = tf.train.AdamOptimizer(learning_rate=learning_rate).minimize(cost)\n",
    "\n",
    "###########################\n",
    "# Evaluation\n",
    "with tf.name_scope(\"Prediction\"):\n",
    "    # Test model and check accuracy\n",
    "    correct_prediction = tf.equal(tf.argmax(logits, 1), tf.argmax(Y, 1), name=\"compare\")\n",
    "    accuracy = tf.reduce_mean(tf.cast(correct_prediction, tf.float32), name=\"accuracy\")"
   ]
  },
  {
   "cell_type": "markdown",
   "metadata": {},
   "source": [
    "## 04. Train & Evaluation"
   ]
  },
  {
   "cell_type": "code",
   "execution_count": null,
   "metadata": {
    "collapsed": true,
    "scrolled": false
   },
   "outputs": [],
   "source": [
    "#########################\n",
    "# Session initialize\n",
    "\n",
    "sess = tf.Session()\n",
    "sess.run(tf.global_variables_initializer())\n",
    "\n",
    "###########################\n",
    "# Traning\n",
    "\n",
    "print('Learning started. It takes sometime.')\n",
    "\n",
    "epochs = 1\n",
    "batch_size = 500\n",
    "\n",
    "for epoch in range(epochs):\n",
    "    print(\"%dth epoch\" % (epoch + 1))\n",
    "\n",
    "    # 총 갯수: 15000여개를 500개씩 (batch_size) 나누어 훈련 \n",
    "    #        => 30번 (n_of_batches) 훈련하게 된다. \n",
    "    n_of_batches = int(len(mnist.train.images) / batch_size)\n",
    "    \n",
    "    for i in range(n_of_batches):\n",
    "        X_batch, Y_batch = mnist.train.next_batch(batch_size)\n",
    "        # 학습 진행\n",
    "        sess.run(optimizer, feed_dict={X: X_batch, Y: Y_batch, keep_prob: 0.7})\n",
    "        \n",
    "        if ((i + 1) % 2 == 0):\n",
    "            # 학습 상황 디스플레이\n",
    "            loss = sess.run(cost, feed_dict={X: X_batch, Y: Y_batch, keep_prob: 0.7})\n",
    "            print(\"%dth records, training cost: %.3f\" % (((i + 1) * batch_size), loss))\n",
    "            \n",
    "print(\"Training Complete\")\n",
    "\n",
    "print('Accuracy: %.2f' % (sess.run(accuracy, feed_dict={X: mnist.test.images, \n",
    "                                                        Y: mnist.test.labels, \n",
    "                                                        keep_prob: 1.0}) * 100))"
   ]
  },
  {
   "cell_type": "markdown",
   "metadata": {},
   "source": [
    "#### 그래프를 그려보자"
   ]
  },
  {
   "cell_type": "code",
   "execution_count": null,
   "metadata": {
    "collapsed": true
   },
   "outputs": [],
   "source": [
    "from tbij import show_graph # Tensor Board In Jupyter notebook. You can see this later.\n",
    "show_graph(tf.get_default_graph().as_graph_def())"
   ]
  },
  {
   "cell_type": "markdown",
   "metadata": {},
   "source": [
    "### 성능을 한 번 확인해 보자. 제대로 되고 있는걸까?"
   ]
  },
  {
   "cell_type": "code",
   "execution_count": null,
   "metadata": {
    "collapsed": true
   },
   "outputs": [],
   "source": [
    "# Get one and predict\n",
    "labels = ['A', 'B', 'C', 'D', 'E', 'F', 'G', 'H', 'I', 'J']\n",
    "r = random.randint(0, len(mnist.test.images) - 1)\n",
    "\n",
    "y = sess.run(tf.argmax(np.reshape(mnist.test.labels[r:r + 1], (1, 10)), 1))\n",
    "y_pred = sess.run(tf.argmax(logits, 1), \n",
    "                  feed_dict={X: np.reshape(mnist.test.images[r:r + 1], (-1, 28, 28)), \n",
    "                             keep_prob: 1.0})\n",
    "\n",
    "print(\"Label: \", labels[int(y)])\n",
    "print(\"Prediction: \", labels[int(y_pred)])\n",
    "\n",
    "import matplotlib.pyplot as plt\n",
    "plt.imshow(np.reshape(mnist.test.images[r:r + 1], (28, 28)), cmap='Greys', interpolation='nearest')\n",
    "plt.show()"
   ]
  },
  {
   "cell_type": "markdown",
   "metadata": {},
   "source": [
    "## 05. More Deep"
   ]
  },
  {
   "cell_type": "code",
   "execution_count": null,
   "metadata": {
    "collapsed": true
   },
   "outputs": [],
   "source": [
    "import tensorflow as tf\n",
    "from tbij import show_graph # Tensor Board In Jupyter notebook. You can see this later.\n",
    "\n",
    "import numpy as np\n",
    "import matplotlib.pyplot as plt\n",
    "\n",
    "from image_loader import ImageLoader\n",
    "mnist = ImageLoader('./data/notMNIST_small/', ['A', 'B', 'C', 'D', 'E', 'F', 'G', 'H', 'I', 'J'])"
   ]
  },
  {
   "cell_type": "code",
   "execution_count": null,
   "metadata": {
    "collapsed": true
   },
   "outputs": [],
   "source": [
    "# Graph Clear\n",
    "tf.reset_default_graph()\n",
    "tf.set_random_seed(2017) # random seeding - reproduct\n",
    "\n",
    "############################\n",
    "# Place Holders\n",
    "\n",
    "X = tf.placeholder(tf.float32, [None, 28, 28], name=\"X\")\n",
    "X_img = tf.reshape(X, [-1, 28, 28, 1], name=\"X_img\")\n",
    "Y = tf.placeholder(tf.float32, [None, 10], name=\"Y\")\n"
   ]
  },
  {
   "cell_type": "code",
   "execution_count": null,
   "metadata": {
    "collapsed": true
   },
   "outputs": [],
   "source": [
    "#########################\n",
    "# ConvLayer 01, 02\n",
    "\n",
    "with tf.name_scope(\"layer1_conv\"):\n",
    "\n",
    "    # for Conv Layer 01 filter - shape=(3, 3, 1)\n",
    "    W1 = tf.Variable(tf.random_normal([3, 3, 1, 16], stddev=0.01),  name=\"W1\")\n",
    "\n",
    "    # Convolution Layer 01 -> (?, 28, 28, 16)\n",
    "    L1_conv = tf.nn.conv2d(X_img, W1, strides=[1, 1, 1, 1], padding='SAME', name=\"L1_conv\")\n",
    "    L1_conv = tf.nn.relu(L1_conv, name=\"L1_relu\")\n",
    "\n",
    "    # for Conv Layer 01 filter - shape=(3, 3, 16)\n",
    "    W2 = tf.Variable(tf.random_normal([3, 3, 16, 32], stddev=0.01), name=\"W2\")\n",
    "\n",
    "    # Convolution Layer 01 -> (?, 28, 28, 32)\n",
    "    L2_conv = tf.nn.conv2d(L1_conv, W2, strides=[1, 1, 1, 1], padding='SAME', name=\"L2_conv\")\n",
    "    L2_conv = tf.nn.relu(L2_conv, name=\"L2_relu\")\n",
    "    \n",
    "    # Pooling Layer 01 -> (?, 14, 14, 32)\n",
    "    L12_pool = tf.nn.max_pool(L2_conv, ksize=[1, 2, 2, 1], \n",
    "                              strides=[1, 2, 2, 1], padding='SAME', name=\"L12_max_pool\")\n",
    "\n",
    "    \n",
    "#########################\n",
    "# ConvLayer 03, 04\n",
    "\n",
    "with tf.name_scope(\"layer2_conv\"):\n",
    "\n",
    "    # for Conv Layer 02 filter - shape=(3, 3, 32)\n",
    "    W3 = tf.Variable(tf.random_normal([3, 3, 32, 48], stddev=0.01), name=\"W3\")\n",
    "\n",
    "    # Convolution Layer 02 -> (?, 14, 14, 32)\n",
    "    L3_conv = tf.nn.conv2d(L12_pool, W3, strides=[1, 1, 1, 1], padding='SAME', name=\"L3_conv\")\n",
    "    L3_conv = tf.nn.relu(L3_conv, name=\"L3_relu\")\n",
    "\n",
    "    # for Conv Layer 02 filter - shape=(3, 3, 48)\n",
    "    W4 = tf.Variable(tf.random_normal([3, 3, 48, 64], stddev=0.01), name=\"W4\")\n",
    "\n",
    "    # Convolution Layer 02 -> (?, 14, 14, 64)\n",
    "    L4_conv = tf.nn.conv2d(L3_conv, W4, strides=[1, 1, 1, 1], padding='SAME', name=\"L4_conv\")\n",
    "    L4_conv = tf.nn.relu(L4_conv, name=\"L4_relu\")\n",
    "\n",
    "    # Pooling Layer 02 -> (?, 7, 7, 64)\n",
    "    L34_pool = tf.nn.max_pool(L4_conv, ksize=[1, 2, 2, 1], strides=[1, 2, 2, 1], padding='SAME', name=\"L34_max_pool\")\n",
    "\n",
    "    \n",
    "#########################\n",
    "# Fully Connected Layer 01\n",
    "\n",
    "with tf.name_scope(\"layer1_fc\"):\n",
    "\n",
    "    ###############################\n",
    "    # Flatten layer\n",
    "    L_flat = tf.reshape(L34_pool, [-1, 7 * 7 * 64], name=\"L_flat\")\n",
    "\n",
    "    # for Final FC 7x7x64 inputs -> 1000\n",
    "    W1_fc = tf.Variable(tf.random_normal([7 * 7 * 64, 1000], stddev=0.01), name=\"W1_fc\")\n",
    "\n",
    "    # for Final FC Layer 1: 7x7x64 inputs -> 1000\n",
    "    L1_fc = tf.matmul(L_flat, W1_fc, name=\"L1_fc\")\n",
    "    L1_fc = tf.nn.relu(L1_fc, name=\"L1_fc_relu\")\n",
    "\n",
    "    #########################\n",
    "    # Dropout\n",
    "    keep_prob = tf.placeholder(tf.float32, name=\"keep_prob\")\n",
    "    L1_fc_dropout = tf.nn.dropout(L1_fc, keep_prob=keep_prob, name=\"dropout\")\n",
    "    #########################\n",
    "    \n",
    "    \n",
    "#########################\n",
    "# Fully Connected Layer 02\n",
    "\n",
    "with tf.name_scope(\"layer2_fc\"):\n",
    "\n",
    "    # for Final FC 1000 inputs -> 10\n",
    "    W2_fc = tf.Variable(tf.random_normal([1000, 10], stddev=0.01), name=\"W2_fc\")\n",
    "\n",
    "    # bias\n",
    "    b = tf.Variable(tf.random_normal([10]), name=\"bias\")\n",
    "\n",
    "    # for Final FC Layer 2: 1000 inputs -> 10\n",
    "    logits = tf.add(tf.matmul(L1_fc_dropout, W2_fc), b, name=\"logits\")\n",
    "\n",
    "    \n",
    "#########################\n",
    "# Cost & Optimizer\n",
    "\n",
    "learning_rate = 0.001\n",
    "\n",
    "with tf.name_scope(\"Optimizer\"):\n",
    "    # Cost(loss) function & Optimizer\n",
    "    cross_entropy = tf.nn.softmax_cross_entropy_with_logits(logits=logits, labels=Y, name=\"cross_entropy\")\n",
    "    cost = tf.reduce_mean(cross_entropy, name=\"cost\")\n",
    "    optimizer = tf.train.AdamOptimizer(learning_rate=learning_rate).minimize(cost)\n",
    "\n",
    "\n",
    "###########################\n",
    "# Evaluation\n",
    "with tf.name_scope(\"Prediction\"):\n",
    "    # Test model and check accuracy\n",
    "    correct_prediction = tf.equal(tf.argmax(logits, 1), tf.argmax(Y, 1), name=\"compare\")\n",
    "    accuracy = tf.reduce_mean(tf.cast(correct_prediction, tf.float32), name=\"accuracy\")"
   ]
  },
  {
   "cell_type": "code",
   "execution_count": null,
   "metadata": {
    "collapsed": true
   },
   "outputs": [],
   "source": [
    "#########################\n",
    "# Session initialize\n",
    "\n",
    "sess = tf.Session()\n",
    "sess.run(tf.global_variables_initializer())\n",
    "\n",
    "###########################\n",
    "# Traning\n",
    "\n",
    "print('Learning started. It takes sometime.')\n",
    "\n",
    "epochs = 10\n",
    "batch_size = 500\n",
    "\n",
    "for epoch in range(epochs):\n",
    "    print(\"%dth epoch\" % (epoch + 1))\n",
    "\n",
    "    # 총 갯수: 55000개를 500개씩 (batch_size) 나누어 훈련 \n",
    "    #        => 110번 (n_of_batches) 훈련하게 된다. \n",
    "    n_of_batches = int(len(mnist.train.images) / batch_size)\n",
    "    \n",
    "    for i in range(n_of_batches):\n",
    "        X_batch, Y_batch = mnist.train.next_batch(batch_size)\n",
    "        # 학습 진행\n",
    "        sess.run(optimizer, feed_dict={X: X_batch, Y: Y_batch, keep_prob: 0.7})\n",
    "        \n",
    "        if ((i + 1) % 2 == 0):\n",
    "            # 학습 상황 디스플레이\n",
    "            loss = sess.run(cost, feed_dict={X: X_batch, Y: Y_batch, keep_prob: 0.7})\n",
    "            print(\"%dth records, training cost: %.3f\" % (((i + 1) * batch_size), loss))\n",
    "        \n",
    "print(\"Training Complete\")\n",
    "    \n",
    "print('Accuracy: %.2f' % (sess.run(accuracy, feed_dict={X: mnist.test.images, \n",
    "                                                        Y: mnist.test.labels, \n",
    "                                                        keep_prob: 1.0}) * 100))"
   ]
  },
  {
   "cell_type": "markdown",
   "metadata": {},
   "source": [
    "#### 그래프를 그려보자"
   ]
  },
  {
   "cell_type": "code",
   "execution_count": null,
   "metadata": {
    "collapsed": true
   },
   "outputs": [],
   "source": [
    "from tbij import show_graph # Tensor Board In Jupyter notebook. You can see this later.\n",
    "show_graph(tf.get_default_graph().as_graph_def())"
   ]
  },
  {
   "cell_type": "markdown",
   "metadata": {},
   "source": [
    "## 06. 대체 뭘 학습한 것인가?"
   ]
  },
  {
   "cell_type": "code",
   "execution_count": null,
   "metadata": {
    "collapsed": true
   },
   "outputs": [],
   "source": [
    "%matplotlib inline\n",
    "import matplotlib.pyplot as plt\n",
    "import math\n",
    "import numpy as np\n",
    "\n",
    "def plot_conv_weights(weights, input_channel=0):\n",
    "    \n",
    "    with tf.Session() as sess:\n",
    "        sess.run(tf.global_variables_initializer())\n",
    "\n",
    "        w = sess.run(weights)\n",
    "\n",
    "        w_min = np.min(w)\n",
    "        w_max = np.max(w)\n",
    "\n",
    "        num_filters = w.shape[3]\n",
    "        num_grids = math.ceil(math.sqrt(num_filters))\n",
    "        fig, axes = plt.subplots(num_grids, num_grids)\n",
    "\n",
    "        for i, ax in enumerate(axes.flat):\n",
    "            if i < num_filters:\n",
    "                img = w[:, :, input_channel, i]\n",
    "                ax.imshow(img, vmin=w_min, vmax=w_max, interpolation='nearest', cmap='seismic')\n",
    "\n",
    "            ax.set_xticks([])\n",
    "            ax.set_yticks([])\n",
    "\n",
    "        plt.show()"
   ]
  },
  {
   "cell_type": "code",
   "execution_count": null,
   "metadata": {
    "collapsed": true
   },
   "outputs": [],
   "source": [
    "plot_conv_weights(weights=W1)"
   ]
  },
  {
   "cell_type": "code",
   "execution_count": null,
   "metadata": {
    "collapsed": true
   },
   "outputs": [],
   "source": [
    "%matplotlib inline\n",
    "import matplotlib.pyplot as plt\n",
    "import math\n",
    "import numpy as np\n",
    "\n",
    "def plot_conv_layer(layer, image):\n",
    "\n",
    "    with tf.Session() as sess:\n",
    "\n",
    "        sess.run(tf.global_variables_initializer())\n",
    "\n",
    "        feed_dict = {X: [image]}\n",
    "        values = sess.run(layer, feed_dict=feed_dict)\n",
    "\n",
    "        num_filters = values.shape[3]\n",
    "        num_grids = math.ceil(math.sqrt(num_filters))\n",
    "        fig, axes = plt.subplots(num_grids, num_grids)\n",
    "\n",
    "        for i, ax in enumerate(axes.flat):\n",
    "            if i < num_filters:\n",
    "                img = values[0, :, :, i]\n",
    "                ax.imshow(img, interpolation='nearest', cmap='binary')\n",
    "                \n",
    "            ax.set_xticks([])\n",
    "            ax.set_yticks([])\n",
    "\n",
    "        plt.show()"
   ]
  },
  {
   "cell_type": "code",
   "execution_count": null,
   "metadata": {
    "collapsed": true
   },
   "outputs": [],
   "source": [
    "img_shape = (28, 28)\n",
    "\n",
    "def plot_image(image):\n",
    "    plt.imshow(image.reshape(img_shape),\n",
    "               interpolation='nearest',\n",
    "               cmap='binary')\n",
    "\n",
    "    plt.show()\n",
    "    \n",
    "image1 = mnist.test.images[0]\n",
    "plot_image(image1)\n",
    "\n",
    "image2 = mnist.test.images[1]\n",
    "plot_image(image2)"
   ]
  },
  {
   "cell_type": "code",
   "execution_count": null,
   "metadata": {
    "collapsed": true
   },
   "outputs": [],
   "source": [
    "plot_conv_layer(layer=L2_pool, image=image1)"
   ]
  },
  {
   "cell_type": "code",
   "execution_count": null,
   "metadata": {
    "collapsed": true
   },
   "outputs": [],
   "source": [
    "# 세션을 종료하자\n",
    "sess.close()"
   ]
  }
 ],
 "metadata": {
  "kernelspec": {
   "display_name": "Python 3",
   "language": "python",
   "name": "python3"
  },
  "language_info": {
   "codemirror_mode": {
    "name": "ipython",
    "version": 3
   },
   "file_extension": ".py",
   "mimetype": "text/x-python",
   "name": "python",
   "nbconvert_exporter": "python",
   "pygments_lexer": "ipython3",
   "version": "3.6.2"
  }
 },
 "nbformat": 4,
 "nbformat_minor": 2
}
