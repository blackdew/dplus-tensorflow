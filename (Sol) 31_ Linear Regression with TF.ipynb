{
 "cells": [
  {
   "cell_type": "markdown",
   "metadata": {
    "nbpresent": {
     "id": "324c3256-4054-4685-a71c-ae0fe87670c2"
    }
   },
   "source": [
    "# 01. Linear Regression with TF\n",
    "\n",
    "<p style=\"text-align: right;\">\n",
    "rayleigh@dplus.company<br>\n",
    "Your name :\n",
    "</p>\n",
    "\n",
    "### 텐서플로 실습시간 그 두번째!<br>\n",
    "\n",
    "#### 선행지식\n",
    "1. 모델링을 한다는 것에 대한 이해.\n",
    "2. Supervised Learning 중 Regression에 대한 기본 지식.\n",
    "3. 리니어 리그레션에 대한 기본 구조와 개념\n",
    "4. 앞서 진행한 실습에 대한 추억(00. TensorFlow Basics, 01. Linear Regression with TF)\n",
    "\n",
    "#### 실습목표\n",
    "1. Linear Regression의 구조를 Graph로 그려낼 수 있다.\n",
    "2. tf.Variable과 초기화, Optimizer를 사용할 수 있다.\n",
    "3. 그려낸 Graph를 텐서플로우를 이용해 코딩할 수 있다.\n",
    "4. (Optional) Statistical Model의 Signal & Ratio 를 이해한다.\n",
    "5. (Optional) Encoding이 무엇인지 이해한다. --> Dummy Variable, Onehot-encoding 등의 필요성을 이해한다.\n",
    "\n",
    "\n",
    "#### 사용데이터.\n",
    "\n",
    "01. Univariate Linear Regression : Lemonade.csv (가상 데이터셋)\n",
    "02. Multivariate Linear Regression : http://archive.ics.uci.edu/ml/datasets/Bike+Sharing+Dataset"
   ]
  },
  {
   "cell_type": "markdown",
   "metadata": {},
   "source": [
    "# Univariate Linear Regression"
   ]
  },
  {
   "cell_type": "markdown",
   "metadata": {},
   "source": [
    "## 00. 라이브러리 불러오기"
   ]
  },
  {
   "cell_type": "code",
   "execution_count": null,
   "metadata": {},
   "outputs": [],
   "source": [
    "%matplotlib inline\n",
    "%config InlineBackend.figure_format = 'retina'\n",
    "\n",
    "import pandas as pd\n",
    "import numpy as np\n",
    "import tensorflow as tf\n",
    "import matplotlib.pyplot as plt\n",
    "import time\n",
    "import os"
   ]
  },
  {
   "cell_type": "markdown",
   "metadata": {},
   "source": [
    "## 01. 데이터 불러오기 & 문제정의 & 전처리\n",
    "\n",
    "여러분은 이동식 레모네이드 카페, '롤로노아'의 사장입니다.<br>\n",
    "차별화된 맛과, 원재료의 신선함. 한 번도 안먹어본 사람은 있을 수 있어도, 한 번만 마셔본 사람은 없다!<br>\n",
    "수년간 늦봄~초가을에 포장마차를 끌고 행복을 팔며 느꼈던 것은...<br>\n",
    "#### 여러분의 불행은 팔지못하고 남은 재료의 양과 비례한다는 것입니다.<br>\n",
    "\n",
    "갈기 편하게 미리 손질해둔 레몬은 그날이 지나면 더 이상 갈아서 팔 수가 없습니다..<br>\n",
    "물론, 하루이틀쯤 지났다고 해서 맛이 크게 변할리 없고 냉장고 안에서 쉽게 상할리 없지만, 분명 퀄리티가 다릅니다.<br>\n",
    "오늘도 당신은, 눈물을 흘리며 레몬을 버립니다..."
   ]
  },
  {
   "cell_type": "code",
   "execution_count": null,
   "metadata": {},
   "outputs": [],
   "source": [
    "data = pd.read_csv('Lemonade.csv')\n",
    "print(data.shape)\n",
    "data.head(n=10)"
   ]
  },
  {
   "cell_type": "code",
   "execution_count": null,
   "metadata": {
    "collapsed": true
   },
   "outputs": [],
   "source": [
    "# Pandas Dataframe to Numpy Array\n",
    "np_data = data.values\n",
    "\n",
    "# Shuffle\n",
    "np.random.shuffle(np_data)\n",
    "\n",
    "# Split\n",
    "train, test = np_data[:1600], np_data[1600:]\n",
    "\n",
    "X_train, Y_train = train[:, 0].reshape(-1, 1), train[:, 1].reshape(-1, 1)\n",
    "X_test, Y_test = test[:, 0].reshape(-1, 1), test[:, 1].reshape(-1, 1)"
   ]
  },
  {
   "cell_type": "code",
   "execution_count": null,
   "metadata": {
    "collapsed": true
   },
   "outputs": [],
   "source": [
    "# 20개의 데이터 산점도\n",
    "data[:20].plot.scatter(x='Temperature', y='lemonade')"
   ]
  },
  {
   "cell_type": "markdown",
   "metadata": {},
   "source": [
    "## 02. 손으로 그려보는 Linear Regression\n",
    "\n",
    "\n",
    "\n",
    "*직접, 손으로 구조를 설계 해보는 것은 중요하다.*<br>\n",
    "\n",
    "여러분이 텐서플로우로 '그래프'를 코딩하기에 최대한 편한 설계도를 그리면 된다.<br>\n",
    "꼭 Data flow Graph, Computation Grpah, Probabilistic Graph 등의 표현을 따를 필요는 없다.(물론, 익히면 좋다.)<br>\n",
    "#### 이번엔 같이 그려보자!\n",
    "##### 하나하나 이해하면서 다같이 그려보자!\n",
    "\n",
    "![regression](img/regression_0.png)"
   ]
  },
  {
   "cell_type": "markdown",
   "metadata": {},
   "source": [
    "#### 차원을 반드시 고려 해야한다."
   ]
  },
  {
   "cell_type": "code",
   "execution_count": null,
   "metadata": {
    "collapsed": true
   },
   "outputs": [],
   "source": [
    "print(X_train.shape, Y_train.shape)"
   ]
  },
  {
   "cell_type": "markdown",
   "metadata": {},
   "source": [
    "## 03. Make a Graph with TF"
   ]
  },
  {
   "cell_type": "code",
   "execution_count": null,
   "metadata": {
    "collapsed": true
   },
   "outputs": [],
   "source": [
    "'''\n",
    "print(X_train.shape, Y_train.shape)\n",
    "(1600, 1),   (1600, 1)\n",
    "'''\n",
    "# Graph Clear & Make your Graph reproducible\n",
    "tf.reset_default_graph()\n",
    "tf.set_random_seed(2017)\n",
    "\n",
    "# Hyper-Parameters & Option\n",
    "learning_rate = 0.01\n",
    "\n",
    "# Placeholders\n",
    "X = tf.placeholder(dtype=tf.float32, shape=[None, 1], name='X_input')\n",
    "Y = tf.placeholder(dtype=tf.float32, shape=[None, 1], name='Y_input')\n",
    "\n",
    "# Weight & Bias\n",
    "W = tf.Variable(tf.random_normal([1, 1]), name='weight')\n",
    "b = tf.Variable(tf.random_normal([1]), name='bias')\n",
    "\n",
    "# Hypothesis\n",
    "Y_pred = tf.add(tf.matmul(X, W), b, name='Y_predicted')\n",
    "\n",
    "# Cost(loss) function & Optimizer\n",
    "cost = tf.reduce_mean(tf.squared_difference(Y, Y_pred), name='MSE')\n",
    "optimizer = tf.train.AdamOptimizer(learning_rate=learning_rate).minimize(cost)\n"
   ]
  },
  {
   "cell_type": "markdown",
   "metadata": {},
   "source": [
    "## 04. Train! Session!"
   ]
  },
  {
   "cell_type": "code",
   "execution_count": null,
   "metadata": {
    "collapsed": true
   },
   "outputs": [],
   "source": [
    "sess = tf.Session()\n",
    "sess.run(tf.global_variables_initializer())\n",
    "\n",
    "learning_rate = 1\n",
    "\n",
    "start = time.clock()\n",
    "for i in range(2000):\n",
    "    # 학습 진행\n",
    "    sess.run(optimizer, feed_dict={X: X_train, Y: Y_train})\n",
    "    \n",
    "    if (i % 100 == 0):\n",
    "        # 학습 상황 디스플레이\n",
    "        tr_l = sess.run(cost, feed_dict={X: X_train, Y: Y_train})\n",
    "        print(\"{}th training---- training loss: {:.2f}\".format(i, tr_l))\n",
    "\n",
    "print(\"Training Complete\")\n",
    "end = time.clock()\n",
    "\n",
    "print(\"Total elapsed time: {}\".format(end - start))\n",
    "print(\"Test loss: {:.2f}\".format(sess.run(cost, feed_dict={X: X_test, Y: Y_test})))\n",
    "\n",
    "Y_predicted = sess.run(Y_pred, feed_dict={X: X_test, Y: Y_test})"
   ]
  },
  {
   "cell_type": "markdown",
   "metadata": {},
   "source": [
    "#### 데이터의 인풋은 온도였습니다. 아웃풋은 판매량이었구요.\n",
    "\n",
    "아래의 내용이 해석이 되어야 합니다."
   ]
  },
  {
   "cell_type": "code",
   "execution_count": null,
   "metadata": {
    "collapsed": true
   },
   "outputs": [],
   "source": [
    "print(sess.run([W, b]))"
   ]
  },
  {
   "cell_type": "code",
   "execution_count": null,
   "metadata": {
    "collapsed": true
   },
   "outputs": [],
   "source": [
    "# 세션을 닫아야 합니다.\n",
    "sess.close()"
   ]
  },
  {
   "cell_type": "markdown",
   "metadata": {},
   "source": [
    "### Check"
   ]
  },
  {
   "cell_type": "code",
   "execution_count": null,
   "metadata": {
    "collapsed": true
   },
   "outputs": [],
   "source": [
    "temp = pd.DataFrame({'Y_real': Y_test.reshape(-1, ), 'Y_predicted': Y_predicted.reshape(-1, )})\n",
    "temp.plot.scatter(x='Y_real', y='Y_predicted', figsize=(5, 5))"
   ]
  },
  {
   "cell_type": "code",
   "execution_count": null,
   "metadata": {
    "collapsed": true
   },
   "outputs": [],
   "source": [
    "%reset()"
   ]
  },
  {
   "cell_type": "markdown",
   "metadata": {},
   "source": [
    "# Multivariate Linear Regression"
   ]
  },
  {
   "cell_type": "markdown",
   "metadata": {
    "nbpresent": {
     "id": "77420740-c7d1-42dc-8cbf-f131e6ac7001"
    }
   },
   "source": [
    "## 00. 라이브러리 불러오기"
   ]
  },
  {
   "cell_type": "code",
   "execution_count": null,
   "metadata": {
    "collapsed": true,
    "nbpresent": {
     "id": "41a29509-236f-4951-a9d2-6c2cf4963c6b"
    }
   },
   "outputs": [],
   "source": [
    "%matplotlib inline\n",
    "%config InlineBackend.figure_format = 'retina'\n",
    "\n",
    "import pandas as pd\n",
    "import numpy as np\n",
    "import tensorflow as tf\n",
    "import matplotlib.pyplot as plt\n",
    "import time\n",
    "import os\n",
    "\n",
    "# 현재 작업 디렉토리 확인\n",
    "os.getcwd()"
   ]
  },
  {
   "cell_type": "markdown",
   "metadata": {
    "nbpresent": {
     "id": "ae941080-9b54-48d0-9c2e-d789737ca6a3"
    }
   },
   "source": [
    "## 01. 데이터 불러오기 & 문제정의 & 전처리"
   ]
  },
  {
   "cell_type": "code",
   "execution_count": null,
   "metadata": {
    "collapsed": true,
    "nbpresent": {
     "id": "dfdb1509-35cf-46ef-8552-f6b07ed1fbaf"
    },
    "scrolled": false
   },
   "outputs": [],
   "source": [
    "rides = pd.read_csv('./Bike-Sharing-Dataset/hour.csv')\n",
    "print(rides.shape)\n",
    "rides.head(n=3)"
   ]
  },
  {
   "cell_type": "markdown",
   "metadata": {
    "nbpresent": {
     "id": "439e3e1e-bdee-49a7-9a18-11f87ded9522"
    }
   },
   "source": [
    "#### 데이터 설명.\n",
    "\n",
    "Bike sharing systems are new generation of traditional bike rentals where whole process from membership, rental and return back has become automatic.<br>\n",
    "(구글번역) 자전거 공유 시스템은 멤버쉽, 렌탈 및 리턴 백의 전체 프로세스가 자동으로 이루어지는 전통적인 자전거 렌탈의 차세대 제품입니다.<br>\n",
    "\n",
    "[들어가서 Data Set Information을 읽어보자.](http://archive.ics.uci.edu/ml/datasets/Bike+Sharing+Dataset)\n",
    "\n",
    "[ 무언가를 위한 어떤 필요!! ]\n",
    "의 첫 출발로 자전거를 빌려가는 양에 대한 예측을 진행할 것이다."
   ]
  },
  {
   "cell_type": "code",
   "execution_count": null,
   "metadata": {
    "collapsed": true
   },
   "outputs": [],
   "source": [
    "# 일부의 데이터를 그래프로 확인.\n",
    "rides[:24*10].plot(x='dteday', y='cnt')"
   ]
  },
  {
   "cell_type": "code",
   "execution_count": null,
   "metadata": {
    "collapsed": true
   },
   "outputs": [],
   "source": [
    "rides[:24*10].plot.scatter(x='atemp', y='cnt')"
   ]
  },
  {
   "cell_type": "markdown",
   "metadata": {},
   "source": [
    "### Dummy Variable & Drop\n",
    "\n",
    "데이터셋 안에 '국가'라는 컬럼이 있다고 생각해보자.<br>\n",
    "그걸 그대로 사용할 때 펼쳐질 에러에 대해서 논해보자."
   ]
  },
  {
   "cell_type": "code",
   "execution_count": null,
   "metadata": {
    "collapsed": true
   },
   "outputs": [],
   "source": [
    "# 더비 변수 생성, one hot encoding\n",
    "dummy_fields = ['season', 'weathersit', 'mnth', 'hr', 'weekday']\n",
    "for each in dummy_fields:\n",
    "    dummies = pd.get_dummies(rides[each], prefix=each, drop_first=False)\n",
    "    rides = pd.concat([rides, dummies], axis=1)\n",
    "\n",
    "# 필요없는 칼럼 제거\n",
    "fields_to_drop = ['instant', 'dteday', 'season', 'weathersit', 'mnth', 'hr', 'weekday']\n",
    "data = rides.drop(fields_to_drop, axis=1)\n",
    "data.head()"
   ]
  },
  {
   "cell_type": "markdown",
   "metadata": {},
   "source": [
    "### Scaling"
   ]
  },
  {
   "cell_type": "code",
   "execution_count": null,
   "metadata": {
    "collapsed": true
   },
   "outputs": [],
   "source": [
    "# scaling 이전의 데이터\n",
    "data[['casual', 'registered', 'cnt', 'temp', 'atemp', 'hum', 'windspeed']].head(n=10)"
   ]
  },
  {
   "cell_type": "code",
   "execution_count": null,
   "metadata": {
    "collapsed": true
   },
   "outputs": [],
   "source": [
    "quant_features = ['casual', 'registered', 'cnt', 'temp', 'atemp', 'hum', 'windspeed']\n",
    "# Store scalings in a dictionary so we can convert back later\n",
    "scaled_features = {}\n",
    "for each in quant_features:\n",
    "    mean, std = data[each].mean(), data[each].std()\n",
    "    scaled_features[each] = [mean, std]\n",
    "    data.loc[:, each] = (data[each] - mean) / std\n",
    "    \n",
    "data[['casual', 'registered', 'cnt', 'temp', 'atemp', 'hum', 'windspeed']].head(n=10)"
   ]
  },
  {
   "cell_type": "markdown",
   "metadata": {},
   "source": [
    "### Splitting the data into training, testing sets\n",
    "\n",
    "맨 마지막의 61일을 test_set으로, 나머지를 Training set으로 둔다.<br>\n",
    "\"일단은 익숙해지자. \""
   ]
  },
  {
   "cell_type": "code",
   "execution_count": null,
   "metadata": {
    "collapsed": true,
    "nbpresent": {
     "id": "6d01f784-fa77-43fc-a1de-5dca9733fe37"
    }
   },
   "outputs": [],
   "source": [
    "train_data, test_data = data[:-61*24], data[-61*24:]\n",
    "\n",
    "target_fields = ['cnt', 'casual', 'registered']\n",
    "test_features, test_targets = test_data.drop(target_fields, axis=1), test_data[target_fields]\n",
    "train_features, train_targets = train_data.drop(target_fields, axis=1), train_data[target_fields]\n",
    "\n",
    "train_targets.head()"
   ]
  },
  {
   "cell_type": "code",
   "execution_count": null,
   "metadata": {
    "collapsed": true
   },
   "outputs": [],
   "source": [
    "test_X, test_Y = test_features.values, test_targets.values\n",
    "train_X, train_Y = train_features.values, train_targets.values\n",
    "\n",
    "print(train_X, train_Y)"
   ]
  },
  {
   "cell_type": "code",
   "execution_count": null,
   "metadata": {
    "collapsed": true
   },
   "outputs": [],
   "source": [
    "print(train_X.shape, train_Y.shape)"
   ]
  },
  {
   "cell_type": "markdown",
   "metadata": {},
   "source": [
    "## 02. 손으로 그려보는 Linear Regression\n",
    "\n",
    "\n",
    "\n",
    "*직접, 손으로 구조를 설계 해보는 것은 중요하다.*<br>\n",
    "\n",
    "여러분이 텐서플로우로 '그래프'를 코딩하기에 최대한 편한 설계도를 그리면 된다.<br>\n",
    "꼭 Data flow Graph, Computation Grpah, Probabilistic Graph 등의 표현을 따를 필요는 없다.(물론, 익히면 좋다.)<br>"
   ]
  },
  {
   "cell_type": "markdown",
   "metadata": {},
   "source": [
    "### 예시.  여러분이 직접 그려보기 전에는 실행 시키지 말기!\n",
    "\n",
    "[리그레션01](img/regression_1.PNG)\n",
    "[리그레션02](img/regression_2.PNG)"
   ]
  },
  {
   "cell_type": "markdown",
   "metadata": {},
   "source": [
    "### 반드시 차원을 고려 할 것!\n",
    "\n",
    "X의 shape = [ 채워넣기! , 채워넣기! ]\n",
    "\n",
    "Y의 shape = [ 채워넣기! , 채워넣기! ]\n",
    "\n",
    "W의 shape = [ 채워넣기! , 채워넣기! ]\n",
    "\n",
    "bias의 shape = [ 채워넣기! , 채워넣기! ]\n",
    "\n",
    "연산순서는?"
   ]
  },
  {
   "cell_type": "markdown",
   "metadata": {},
   "source": [
    "## 03. Make a Graph with TF"
   ]
  },
  {
   "cell_type": "code",
   "execution_count": null,
   "metadata": {
    "collapsed": true
   },
   "outputs": [],
   "source": [
    "'''\n",
    "여러분이 직접 스크립트를 짜야 합니다.\n",
    "조금 힌트는 드립니다..!\n",
    "\n",
    "print(train_X.shape, train_Y.shape)\n",
    "(15435, 58),   (15435, 1)\n",
    "'''\n",
    "# Graph Clear & Make your Graph reproducible\n",
    "tf.reset_default_graph()\n",
    "tf.set_random_seed(2017)\n",
    "\n",
    "# Hyper-Parameters & Option\n",
    "learning_rate = 0.01\n",
    "\n",
    "# Placeholders\n",
    "X = tf.placeholder(dtype=tf.float32, shape=[None, 58], name='X_input')\n",
    "Y = tf.placeholder(dtype=tf.float32, shape=[None, 3], name='Y_input')\n",
    "\n",
    "# Weight & Bias\n",
    "W = tf.Variable(tf.random_normal([58, 3]), name='weight')\n",
    "b = tf.Variable(tf.random_normal([3]), name='bias')\n",
    "\n",
    "# Hypothesis\n",
    "Y_pred = tf.add(tf.matmul(X, W), b, name='Y_predicted')\n",
    "\n",
    "# Cost(loss) function & Optimizer\n",
    "cost = tf.reduce_mean(tf.squared_difference(Y, Y_pred), name='MSE')\n",
    "Optimizer = tf.train.AdamOptimizer(learning_rate=learning_rate).minimize(cost)\n"
   ]
  },
  {
   "cell_type": "markdown",
   "metadata": {},
   "source": [
    "## 04. Train! Session!"
   ]
  },
  {
   "cell_type": "code",
   "execution_count": null,
   "metadata": {
    "collapsed": true,
    "scrolled": true
   },
   "outputs": [],
   "source": [
    "'''\n",
    "Weight, bias 초기화를 먼저 해야함.\n",
    "\n",
    "초기화란? :\n",
    "'''\n",
    "sess = tf.Session()\n",
    "sess.run(tf.global_variables_initializer())\n",
    "\n",
    "learning_rate = 0.01\n",
    "\n",
    "start = time.clock()\n",
    "for i in range(1000):\n",
    "    # 학습 진행\n",
    "    sess.run(Optimizer, feed_dict={X: train_X, Y: train_Y})\n",
    "    \n",
    "    if (i % 100 == 0):\n",
    "        # 학습 상황 디스플레이\n",
    "        tr_l = sess.run(cost, feed_dict={X: train_X, Y: train_Y})\n",
    "        print(\"{}th training---- training loss: {:.2f}\".format(i, tr_l))\n",
    "        \n",
    "print(\"Training Complete\")\n",
    "end = time.clock()\n",
    "\n",
    "print(\"Total elapsed time: {}\".format(end - start))\n",
    "print(\"Test loss: {:.2f}\".format(sess.run(cost, feed_dict={X: test_X, Y: test_Y})))\n",
    "\n",
    "Y_predicted = sess.run(Y_pred, feed_dict={X: test_X, Y: test_Y})"
   ]
  },
  {
   "cell_type": "code",
   "execution_count": null,
   "metadata": {
    "collapsed": true,
    "scrolled": true
   },
   "outputs": [],
   "source": [
    "weight, bias = sess.run([W, b])\n",
    "print(weight)\n",
    "print(bias)"
   ]
  },
  {
   "cell_type": "code",
   "execution_count": null,
   "metadata": {
    "collapsed": true
   },
   "outputs": [],
   "source": [
    "# 세션을 닫아야 합니다.\n",
    "sess.close()"
   ]
  },
  {
   "cell_type": "markdown",
   "metadata": {},
   "source": [
    "### Check Out on Test set"
   ]
  },
  {
   "cell_type": "code",
   "execution_count": null,
   "metadata": {
    "collapsed": true
   },
   "outputs": [],
   "source": [
    "# target_fields = ['cnt', 'casual', 'registered']\n",
    "column = 'cnt'\n",
    "cindex = target_fields.index(column)\n",
    "rows = 100\n",
    "\n",
    "# 예측값도 Scaling 되어 있으므로 그것을 원래대로 되돌려주는 과정\n",
    "mean, std = scaled_features[column]\n",
    "simple_predictions = Y_predicted[:rows, cindex] * std + mean\n",
    "simple_predictions\n"
   ]
  },
  {
   "cell_type": "code",
   "execution_count": null,
   "metadata": {
    "collapsed": true
   },
   "outputs": [],
   "source": [
    "fig, ax = plt.subplots(figsize=(10, 5))\n",
    "\n",
    "ax.plot(simple_predictions, label='Simple_Prediction')\n",
    "ax.plot(test_Y[:rows, cindex] * std + mean, label='Real')\n",
    "ax.set_xlim(right=len(simple_predictions))\n",
    "ax.legend()\n",
    "\n",
    "dates = pd.to_datetime(rides.loc[test_data[:rows].index]['dteday'])\n",
    "dates = dates.apply(lambda d: d.strftime('%b %d'))\n",
    "ax.set_xticks(np.arange(len(dates))[12::24])\n",
    "_ = ax.set_xticklabels(dates[12::24], rotation=45)"
   ]
  },
  {
   "cell_type": "markdown",
   "metadata": {},
   "source": [
    "# must Summary!"
   ]
  }
 ],
 "metadata": {
  "anaconda-cloud": {},
  "kernelspec": {
   "display_name": "Python 3",
   "language": "python",
   "name": "python3"
  },
  "language_info": {
   "codemirror_mode": {
    "name": "ipython",
    "version": 3
   },
   "file_extension": ".py",
   "mimetype": "text/x-python",
   "name": "python",
   "nbconvert_exporter": "python",
   "pygments_lexer": "ipython3",
   "version": "3.6.2"
  },
  "nbpresent": {
   "slides": {
    "06673961-d8a5-4267-a63d-f313583104d9": {
     "id": "06673961-d8a5-4267-a63d-f313583104d9",
     "prev": "0879f191-9570-41d0-8172-779e645958bf",
     "regions": {
      "c4b181e9-2fef-4c54-a02d-add6a6973d29": {
       "attrs": {
        "height": 0.8,
        "width": 0.8,
        "x": 0.1,
        "y": 0.1
       },
       "content": {
        "cell": "85cfbf31-402d-4db2-8b14-0d0c0d847f8b",
        "part": "whole"
       },
       "id": "c4b181e9-2fef-4c54-a02d-add6a6973d29"
      }
     }
    },
    "0879f191-9570-41d0-8172-779e645958bf": {
     "id": "0879f191-9570-41d0-8172-779e645958bf",
     "prev": "67db25c5-f042-401f-8d2a-56ba736d31ae",
     "regions": {
      "4df75cd2-c637-493e-a7cf-5f96fb3013ca": {
       "attrs": {
        "height": 0.8,
        "width": 0.8,
        "x": 0.1,
        "y": 0.1
       },
       "content": {
        "cell": "daf8cfb3-efc8-4e87-b318-e5ad4c12f9b7",
        "part": "whole"
       },
       "id": "4df75cd2-c637-493e-a7cf-5f96fb3013ca"
      }
     }
    },
    "135b3672-2ba5-4f92-bdc7-4113351248a2": {
     "id": "135b3672-2ba5-4f92-bdc7-4113351248a2",
     "prev": "53b495c0-f73a-4af8-90a9-06052a15578c",
     "regions": {
      "29d2786a-e00f-4936-8f88-98d140ceb69d": {
       "attrs": {
        "height": 0.8,
        "width": 0.8,
        "x": 0.1,
        "y": 0.1
       },
       "content": {
        "cell": "ae941080-9b54-48d0-9c2e-d789737ca6a3",
        "part": "whole"
       },
       "id": "29d2786a-e00f-4936-8f88-98d140ceb69d"
      }
     }
    },
    "234a438e-9bbd-4d7c-aa4d-60a6ad360cad": {
     "id": "234a438e-9bbd-4d7c-aa4d-60a6ad360cad",
     "prev": "85cdfd47-b188-4127-b6ce-f2d6269764ca",
     "regions": {
      "44c764a2-1cf0-4fc0-91cb-0cb9bcefb745": {
       "attrs": {
        "height": 0.8,
        "width": 0.8,
        "x": 0.1,
        "y": 0.1
       },
       "content": {
        "cell": "dfdb1509-35cf-46ef-8552-f6b07ed1fbaf",
        "part": "whole"
       },
       "id": "44c764a2-1cf0-4fc0-91cb-0cb9bcefb745"
      }
     }
    },
    "338a1c9f-d631-4cd8-9830-35c4b298ee7d": {
     "id": "338a1c9f-d631-4cd8-9830-35c4b298ee7d",
     "prev": "f609d9b0-5a29-4ccc-84bf-e74355ab7eff",
     "regions": {
      "cd095279-4007-4e90-b96e-0b95b9ec3a3d": {
       "attrs": {
        "height": 0.8,
        "width": 0.8,
        "x": 0.1,
        "y": 0.1
       },
       "content": {
        "cell": "b5521ec6-6f3a-4b09-ab8e-955e09c040c2",
        "part": "whole"
       },
       "id": "cd095279-4007-4e90-b96e-0b95b9ec3a3d"
      }
     }
    },
    "53b495c0-f73a-4af8-90a9-06052a15578c": {
     "id": "53b495c0-f73a-4af8-90a9-06052a15578c",
     "prev": "be1c5d87-98b8-4a00-8fee-ab6aa9209fa8",
     "regions": {
      "ae2aebd0-8691-47f8-8aab-528a9c1ce2bf": {
       "attrs": {
        "height": 0.8,
        "width": 0.8,
        "x": 0.1,
        "y": 0.1
       },
       "content": {
        "cell": "41a29509-236f-4951-a9d2-6c2cf4963c6b",
        "part": "whole"
       },
       "id": "ae2aebd0-8691-47f8-8aab-528a9c1ce2bf"
      }
     }
    },
    "579d08fd-aae6-4977-a954-3bfed185e258": {
     "id": "579d08fd-aae6-4977-a954-3bfed185e258",
     "prev": "338a1c9f-d631-4cd8-9830-35c4b298ee7d",
     "regions": {
      "12149eb4-94d4-40e8-8ed1-5b01b3dc17ab": {
       "attrs": {
        "height": 0.8,
        "width": 0.8,
        "x": 0.1,
        "y": 0.1
       },
       "content": {
        "cell": "d1c43f06-e63a-4006-84fe-a80d43007720",
        "part": "whole"
       },
       "id": "12149eb4-94d4-40e8-8ed1-5b01b3dc17ab"
      }
     }
    },
    "67db25c5-f042-401f-8d2a-56ba736d31ae": {
     "id": "67db25c5-f042-401f-8d2a-56ba736d31ae",
     "prev": "579d08fd-aae6-4977-a954-3bfed185e258",
     "regions": {
      "8a7cf766-88b1-4512-ba59-c0907d84e812": {
       "attrs": {
        "height": 0.8,
        "width": 0.8,
        "x": 0.1,
        "y": 0.1
       },
       "content": {
        "cell": "6d01f784-fa77-43fc-a1de-5dca9733fe37",
        "part": "whole"
       },
       "id": "8a7cf766-88b1-4512-ba59-c0907d84e812"
      }
     }
    },
    "6864bc82-39ed-4597-9643-1f9eaebaa4ad": {
     "id": "6864bc82-39ed-4597-9643-1f9eaebaa4ad",
     "prev": null,
     "regions": {
      "458e5b71-90c5-4b8b-946f-3dbd0acabdd0": {
       "attrs": {
        "height": 0.8,
        "width": 0.8,
        "x": 0.1,
        "y": 0.1
       },
       "content": {
        "cell": "324c3256-4054-4685-a71c-ae0fe87670c2",
        "part": "whole"
       },
       "id": "458e5b71-90c5-4b8b-946f-3dbd0acabdd0"
      }
     }
    },
    "85cdfd47-b188-4127-b6ce-f2d6269764ca": {
     "id": "85cdfd47-b188-4127-b6ce-f2d6269764ca",
     "prev": "135b3672-2ba5-4f92-bdc7-4113351248a2",
     "regions": {
      "660896c7-2008-4690-a456-0f728323a4e9": {
       "attrs": {
        "height": 0.8,
        "width": 0.8,
        "x": 0.1,
        "y": 0.1
       },
       "content": {
        "cell": "ff5d24f2-939f-4007-9892-f241c94b9e6f",
        "part": "whole"
       },
       "id": "660896c7-2008-4690-a456-0f728323a4e9"
      }
     }
    },
    "be1c5d87-98b8-4a00-8fee-ab6aa9209fa8": {
     "id": "be1c5d87-98b8-4a00-8fee-ab6aa9209fa8",
     "prev": "6864bc82-39ed-4597-9643-1f9eaebaa4ad",
     "regions": {
      "02737d00-d567-4b1e-b981-39dc866fb994": {
       "attrs": {
        "height": 0.8,
        "width": 0.8,
        "x": 0.1,
        "y": 0.1
       },
       "content": {
        "cell": "77420740-c7d1-42dc-8cbf-f131e6ac7001",
        "part": "whole"
       },
       "id": "02737d00-d567-4b1e-b981-39dc866fb994"
      }
     }
    },
    "f609d9b0-5a29-4ccc-84bf-e74355ab7eff": {
     "id": "f609d9b0-5a29-4ccc-84bf-e74355ab7eff",
     "prev": "234a438e-9bbd-4d7c-aa4d-60a6ad360cad",
     "regions": {
      "aec5f004-bdc5-449c-80b3-52d3a1ae4596": {
       "attrs": {
        "height": 0.8,
        "width": 0.8,
        "x": 0.1,
        "y": 0.1
       },
       "content": {
        "cell": "439e3e1e-bdee-49a7-9a18-11f87ded9522",
        "part": "whole"
       },
       "id": "aec5f004-bdc5-449c-80b3-52d3a1ae4596"
      }
     }
    }
   },
   "themes": {}
  }
 },
 "nbformat": 4,
 "nbformat_minor": 1
}
