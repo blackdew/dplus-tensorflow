{
 "cells": [
  {
   "cell_type": "markdown",
   "metadata": {
    "nbpresent": {
     "id": "324c3256-4054-4685-a71c-ae0fe87670c2"
    }
   },
   "source": [
    "# 00. TensorFlow Basics\n",
    "\n",
    "<p style=\"text-align: right;\">\n",
    "rayleigh@dplus.company<br>\n",
    "Your name :\n",
    "</p>\n",
    "\n",
    "### 텐서플로 실습시간 그 첫번째!<br>\n",
    "\n",
    "\n",
    "#### 선행지식\n",
    "0. 파이썬 / 텐서플로우 환경 세팅\n",
    "1. 파이썬과의 추억.\n",
    "2. 더하기, 빼기, 곱하기, 나누기\n",
    "3. (Optional)행렬과 행렬의 연산\n",
    "4. (Advanced)Machine Learning Basics\n",
    "\n",
    "#### 실습목표\n",
    "1. 텐서플로우와 인사해본다.\n",
    "2. Dataflow graph를 이해한다.\n",
    "3. 텐서플로우를 이용해 코딩하는 과정을 익힌다.\n",
    "3. 텐서플로우의 기본 사용법들을 익힌다.\n",
    "\n",
    "#### 우리의 실습자료는 아래의 좋은 자료들과 함께 합니다.\n",
    "* [TensorFlow 공식 사이트](https://www.tensorflow.org/get_started/)\n",
    "* [CS 20SI : TensorFlow for Deep Learning Research](https://web.stanford.edu/class/cs20si/syllabus.html)"
   ]
  },
  {
   "cell_type": "markdown",
   "metadata": {
    "nbpresent": {
     "id": "77420740-c7d1-42dc-8cbf-f131e6ac7001"
    }
   },
   "source": [
    "## 00. 라이브러리 불러오기"
   ]
  },
  {
   "cell_type": "code",
   "execution_count": null,
   "metadata": {
    "nbpresent": {
     "id": "41a29509-236f-4951-a9d2-6c2cf4963c6b"
    }
   },
   "outputs": [],
   "source": [
    "import tensorflow as tf\n",
    "import numpy as np\n",
    "from tbij import show_graph # Tensor Board In Jupyter notebook. You can see this later."
   ]
  },
  {
   "cell_type": "markdown",
   "metadata": {},
   "source": [
    "## 잠깐, 텐서(TENSOR)가 뭔데?\n",
    "\n",
    "*우리는 구글링을 사랑해야합니다. 아래 같은 이미지가 많이 나올거에요.\n",
    "\n",
    "![이런거](https://leonardoaraujosantos.gitbooks.io/artificial-inteligence/content/Images/enter-the-matrix-10-638.jpg)\n",
    "\n",
    "#### 그래서, 예를 들면?\n",
    "강의노트에 자신만의 언어로 텐서를 정의 해보길 바랍니다."
   ]
  },
  {
   "cell_type": "markdown",
   "metadata": {
    "nbpresent": {
     "id": "ae941080-9b54-48d0-9c2e-d789737ca6a3"
    }
   },
   "source": [
    "## 01. Hello World...?"
   ]
  },
  {
   "cell_type": "code",
   "execution_count": null,
   "metadata": {
    "collapsed": true,
    "nbpresent": {
     "id": "ff5d24f2-939f-4007-9892-f241c94b9e6f"
    }
   },
   "outputs": [],
   "source": [
    "print(\"Hello World!\")\n",
    "print('I said, HELLO')\n",
    "a = 'Yes, Yes, y\\'all'\n",
    "print(a)"
   ]
  },
  {
   "cell_type": "code",
   "execution_count": null,
   "metadata": {
    "collapsed": true
   },
   "outputs": [],
   "source": [
    "a"
   ]
  },
  {
   "cell_type": "markdown",
   "metadata": {},
   "source": [
    "파이썬하고는 사실 어제도 인사했죠? 텐서플로우와 인사를 해야죠!"
   ]
  },
  {
   "cell_type": "code",
   "execution_count": null,
   "metadata": {
    "collapsed": true,
    "nbpresent": {
     "id": "dfdb1509-35cf-46ef-8552-f6b07ed1fbaf"
    },
    "scrolled": false
   },
   "outputs": [],
   "source": [
    "a = tf.constant(\"Hello, Tensorflow\")\n",
    "print(a)"
   ]
  },
  {
   "cell_type": "code",
   "execution_count": null,
   "metadata": {
    "collapsed": true
   },
   "outputs": [],
   "source": [
    "a"
   ]
  },
  {
   "cell_type": "code",
   "execution_count": null,
   "metadata": {
    "collapsed": true
   },
   "outputs": [],
   "source": [
    "'''\n",
    "텐서플로우에게 예의 가르치기 챌린지.\n",
    "\n",
    "수단과 방법을 가리지 않고 a 에 저장된 'Hello, Tensorflow'를 출력해보자.\n",
    "\n",
    "혹은, b = tf.constant( ) <-안에 숫자나, 리스트, 문자 다양한 걸 넣어가면서 관찰해보자.\n",
    "'''\n",
    "?tf.constant # 여러분의 코딩을 도울 수단이 여기저기 널려있습니다!\n",
    "# Shift + Tab 을 눌러도 어메이징!\n",
    "\n",
    "\n"
   ]
  },
  {
   "cell_type": "markdown",
   "metadata": {},
   "source": [
    "<img src=\"http://legalinsight.co.kr/wp-content/uploads/2014/05/thinking-272677.jpg\" width=\"500\">\n"
   ]
  },
  {
   "cell_type": "code",
   "execution_count": null,
   "metadata": {
    "collapsed": true
   },
   "outputs": [],
   "source": [
    "'''\n",
    "솔루션 #01\n",
    "'''\n",
    "\n",
    "sess = tf.Session()\n",
    "SAY = sess.run(a)\n",
    "print(SAY)\n",
    "sess.close()"
   ]
  },
  {
   "cell_type": "code",
   "execution_count": null,
   "metadata": {
    "collapsed": true
   },
   "outputs": [],
   "source": [
    "'''\n",
    "솔루션 #02\n",
    "'''\n",
    "\n",
    "with tf.Session() as sess:\n",
    "    SAY = sess.run(a)\n",
    "\n",
    "print(SAY)"
   ]
  },
  {
   "cell_type": "code",
   "execution_count": null,
   "metadata": {
    "collapsed": true
   },
   "outputs": [],
   "source": [
    "'''\n",
    "b = tf.constant( ) <-안에 숫자나, 리스트, 문자 등 다른 걸 이용해서 출력해보자\n",
    "'''\n",
    "\n",
    "\n",
    "\n",
    "\n",
    "\n",
    "\n",
    "\n",
    "\n"
   ]
  },
  {
   "cell_type": "markdown",
   "metadata": {},
   "source": [
    "## 02. Data Flow Graphs & Session\n",
    "\n",
    "#### Session 이라는 것을 생성하고, 그를 통해서만 안의 값을 볼 수 있습니다. 왜 이렇게 복잡스런 구조를 취하는 걸까요?\n",
    "\n",
    "![데이터플로우그래프](https://www.tensorflow.org/images/tensors_flowing.gif)\n",
    "\n",
    "\n",
    "\n",
    "\n",
    "쉬운 것을 먼저 보죠. <del>위 사진은 너무 폭력적</del>\n",
    "\n",
    "\n",
    "![데이터플로](data_flow.PNG)\n",
    "\n",
    "손으로 직접 해봅시다!\n",
    "\n",
    "너무 복잡하게 말고, 간단한 수준에서만!\n",
    "\n",
    "우리는 반드시 텐서플로우를 이용해서 코딩하는 것이 무엇인지, 결론을 내야합니다.\n",
    "\n",
    "\n",
    "\n",
    "\n",
    "P.S\n",
    "우리는 [stackoverflow](https://stackoverflow.com)도 사랑해야합니다.\n",
    "예를 들면 b의 정체는 도대체 [뭘까요?](https://stackoverflow.com/questions/45511011/tensorflow-run-and-eval-print-b-before-constants)"
   ]
  },
  {
   "cell_type": "markdown",
   "metadata": {
    "nbpresent": {
     "id": "439e3e1e-bdee-49a7-9a18-11f87ded9522"
    }
   },
   "source": [
    "# 03. Basic Operations & Data Flow graphs"
   ]
  },
  {
   "cell_type": "markdown",
   "metadata": {},
   "source": [
    "### tf.add / tf.subtract / tf.multiply / tf.pow"
   ]
  },
  {
   "cell_type": "code",
   "execution_count": null,
   "metadata": {
    "collapsed": true,
    "nbpresent": {
     "id": "b5521ec6-6f3a-4b09-ab8e-955e09c040c2"
    }
   },
   "outputs": [],
   "source": [
    "tf.reset_default_graph()\n",
    "\n",
    "input0 = tf.constant(2)\n",
    "input1 = tf.constant(8)\n",
    "a = tf.add(input0, input1)\n",
    "print(a) \n",
    "\n",
    "sess = tf.Session()\n",
    "print(sess.run(a))\n",
    "sess.close()\n",
    "show_graph(tf.get_default_graph().as_graph_def())"
   ]
  },
  {
   "cell_type": "code",
   "execution_count": null,
   "metadata": {
    "collapsed": true
   },
   "outputs": [],
   "source": [
    "tf.reset_default_graph()\n",
    "\n",
    "input0 = tf.constant(3)\n",
    "input1 = tf.constant(7)\n",
    "input2 = tf.constant(4)\n",
    "a = tf.add(input0, input1)\n",
    "b = tf.subtract(a, input2)\n",
    "\n",
    "sess = tf.Session()\n",
    "print(sess.run([input2, a, b]))\n",
    "sess.close()\n",
    "\n",
    "show_graph(tf.get_default_graph().as_graph_def())"
   ]
  },
  {
   "cell_type": "code",
   "execution_count": null,
   "metadata": {
    "collapsed": true
   },
   "outputs": [],
   "source": [
    "tf.reset_default_graph()\n",
    "\n",
    "a = tf.add(3, 7)\n",
    "b = tf.subtract(a, 3)\n",
    "c = tf.multiply(a, b)\n",
    "\n",
    "\n",
    "sess = tf.Session()\n",
    "print(sess.run(c))\n",
    "sess.close()\n",
    "\n",
    "\n",
    "show_graph(tf.get_default_graph().as_graph_def())"
   ]
  },
  {
   "cell_type": "code",
   "execution_count": null,
   "metadata": {
    "collapsed": true
   },
   "outputs": [],
   "source": [
    "tf.reset_default_graph()\n",
    "\n",
    "a = tf.add(3, 7)\n",
    "b = tf.subtract(a, 3)\n",
    "c = tf.multiply(a, b)\n",
    "d = tf.pow(c, 2)\n",
    "\n",
    "sess = tf.Session()\n",
    "print(sess.run(d))\n",
    "\n",
    "sess.close()\n",
    "\n",
    "\n",
    "show_graph(tf.get_default_graph().as_graph_def())"
   ]
  },
  {
   "cell_type": "code",
   "execution_count": null,
   "metadata": {
    "collapsed": true,
    "scrolled": false
   },
   "outputs": [],
   "source": [
    "tf.reset_default_graph()\n",
    "\n",
    "a = tf.add(3, 7)\n",
    "b = tf.subtract(a, 3)\n",
    "c = tf.multiply(a, b)\n",
    "d = tf.pow(c, 2)\n",
    "\n",
    "e = 4\n",
    "f = 17\n",
    "\n",
    "g = tf.div(f,e)\n",
    "h = g + d\n",
    "\n",
    "sess = tf.Session()\n",
    "print(sess.run(d))\n",
    "print(sess.run(g))\n",
    "print(sess.run([d,g]))\n",
    "sess.close()\n",
    "\n",
    "\n",
    "show_graph(tf.get_default_graph().as_graph_def())"
   ]
  },
  {
   "cell_type": "code",
   "execution_count": null,
   "metadata": {
    "collapsed": true
   },
   "outputs": [],
   "source": [
    "'''\n",
    "Play GROUND!\n",
    "막 해보세요.\n",
    "'''\n",
    "tf.reset_default_graph()\n",
    "##############################################################\n",
    "## 아래에 코딩하시면 됩니다 ##\n",
    "\n",
    "\n",
    "\n",
    "\n",
    "\n",
    "\n",
    "\n",
    "\n",
    "\n",
    "\n",
    "\n",
    "\n",
    "\n",
    "\n",
    "\n",
    "\n",
    "#############################################################\n",
    "show_graph(tf.get_default_graph().as_graph_def())\n"
   ]
  },
  {
   "cell_type": "markdown",
   "metadata": {},
   "source": [
    "![데이터플로](data_flow.PNG)\n",
    "\n",
    "이 그래프를 한 번 코딩 해봅시다!\n",
    "\n"
   ]
  },
  {
   "cell_type": "code",
   "execution_count": null,
   "metadata": {
    "collapsed": true
   },
   "outputs": [],
   "source": [
    "'''\n",
    "천천히 같이 해보아요. 처음에는, 보고 따라하는 것만으로도 의미가 있습니다.\n",
    "'''\n",
    "tf.reset_default_graph()\n",
    "##################################################################\n",
    "## 아래에 코딩하시면 됩니다. 배운 것만 가지고도 충분히 가능해요 ##\n",
    "\n",
    "a = tf.constant(5)\n",
    "b = tf.constant(3)\n",
    "c = tf.multiply(a, b)\n",
    "d = tf.add(a, b)\n",
    "e = tf.add(c, d)\n",
    "\n",
    "sess = tf.Session() \n",
    "print(sess.run(e))\n",
    "sess.close()\n",
    "#############################################################\n",
    "show_graph(tf.get_default_graph().as_graph_def())"
   ]
  },
  {
   "cell_type": "markdown",
   "metadata": {},
   "source": [
    "## 04. Placeholders, Variables, and more about basics\n",
    "\n",
    "\n",
    "텐서플로우를 이용해서 코딩한다는 것은?\n",
    "\n",
    "[          ]를 작성하고 [           ]하는 것!\n",
    "\n",
    "\n",
    "\n",
    "위에서 배운 것만으로는 사실, 뭔가 부족합니다.<br>\n",
    "input을 항상 똑같은 값으로 사용할 리도 없고, 텐서보드를 봐도 점점 복잡해져가고..\n",
    "\n",
    "#### 처음 해볼만한 것으로는 '이름을 붙이는 것'이 있겠네요!\n"
   ]
  },
  {
   "cell_type": "code",
   "execution_count": null,
   "metadata": {
    "collapsed": true,
    "scrolled": false
   },
   "outputs": [],
   "source": [
    "tf.reset_default_graph()\n",
    "\n",
    "X_1 = tf.constant(1, name='Input_1')\n",
    "X_2 = tf.constant(2, name='Input_2')\n",
    "\n",
    "layer1_mul = tf.multiply(X_1, X_2, name='Mul_layer1')\n",
    "layer1_add = tf.add(X_1, X_2, name='Add_layer1')\n",
    "output = tf.add(layer1_mul, layer1_add, name='Output')\n",
    "\n",
    "sess = tf.Session()\n",
    "print(sess.run(output))\n",
    "sess.close()\n",
    "\n",
    "show_graph(tf.get_default_graph().as_graph_def())"
   ]
  },
  {
   "cell_type": "code",
   "execution_count": null,
   "metadata": {
    "collapsed": true
   },
   "outputs": [],
   "source": [
    "'''\n",
    "여러분이 설계한 그래프의 노드마다 이름을 붙여서 코딩해보아요.\n",
    "'''\n",
    "tf.reset_default_graph()\n",
    "##############################################################\n",
    "## 아래에 코딩하시면 됩니다 ##\n",
    "\n",
    "\n",
    "\n",
    "\n",
    "\n",
    "\n",
    "\n",
    "\n",
    "\n",
    "\n",
    "\n",
    "\n",
    "\n",
    "\n",
    "\n",
    "\n",
    "#############################################################\n",
    "show_graph(tf.get_default_graph().as_graph_def())"
   ]
  },
  {
   "cell_type": "markdown",
   "metadata": {},
   "source": [
    "컴퓨테이션 그래프를 만든다는 것은 비어있는 함수 같은 것을 만드는 겁니다.\n",
    "\n",
    "[     ]을 몰라도 일단 [        ]를 만들 수 있습니다.\n",
    "\n",
    "tf.constant말고 다른 것을 배워 봅시다.\n",
    "\n",
    "#### tf.placeholder\n",
    "```\n",
    "tf.placeholder(dtype, shape=None, name=None)\n",
    "```\n",
    "![데이터플로](data_flow.PNG)\n",
    "계속 위 그래프를 코딩할 겁니다."
   ]
  },
  {
   "cell_type": "code",
   "execution_count": null,
   "metadata": {
    "collapsed": true
   },
   "outputs": [],
   "source": [
    "tf.reset_default_graph()\n",
    "\n",
    "data = [[1, 2], [2, 3], [3, 4]]\n",
    "\n",
    "X_1 = tf.placeholder(tf.float32, shape=(), name='Input_1')\n",
    "X_2 = tf.placeholder(tf.float32, shape=(), name='Input_2')\n",
    "\n",
    "layer1_mul = tf.multiply(X_1, X_2, name='Mul_layer1')\n",
    "layer1_add = tf.add(X_1, X_2, name='Add_layer1')\n",
    "output = tf.add(layer1_mul, layer1_add, name='Output')\n",
    "\n",
    "sess = tf.Session()\n",
    "##################\n",
    "for d in data:\n",
    "    result = sess.run(output, feed_dict={X_1: d[0], X_2: d[1]})\n",
    "    print(result)\n",
    "\n",
    "##################\n",
    "sess.close()\n",
    "\n",
    "show_graph(tf.get_default_graph().as_graph_def())\n",
    "\n",
    "'''\n",
    "You must feed a value for placeholder tensor\n",
    "'''"
   ]
  },
  {
   "cell_type": "markdown",
   "metadata": {},
   "source": [
    "에러가 나는 것이 당연합니다. 왜 당연할까요?\n",
    "\n",
    "#### feed_dict = { placeholder : value , ......   }"
   ]
  },
  {
   "cell_type": "code",
   "execution_count": null,
   "metadata": {
    "collapsed": true
   },
   "outputs": [],
   "source": [
    "tf.reset_default_graph()\n",
    "\n",
    "X_1 = tf.placeholder(tf.float32, shape=(), name='Input_1')\n",
    "X_2 = tf.placeholder(tf.float32, shape=(), name='Input_2')\n",
    "\n",
    "layer1_mul = tf.multiply(X_1, X_2, name='Mul_layer1')\n",
    "layer1_add = tf.add(X_1, X_2, name='Add_layer1')\n",
    "output = tf.add(layer1_mul, layer1_add, name='Output')\n",
    "\n",
    "sess = tf.Session()\n",
    "##################\n",
    "result = sess.run(output, feed_dict={X_1: 1, X_2: 2})\n",
    "##################\n",
    "print(result)\n",
    "sess.close()\n",
    "\n",
    "show_graph(tf.get_default_graph().as_graph_def())\n",
    "\n",
    "'''\n",
    "You must feed a value for placeholder tensor\n",
    "'''"
   ]
  },
  {
   "cell_type": "code",
   "execution_count": null,
   "metadata": {
    "collapsed": true
   },
   "outputs": [],
   "source": [
    "###################################################################\n",
    "#                  코드를 감상해봅시다.\n",
    "###################################################################\n",
    "\n",
    "data1 = np.array([1, 2, 3, 4, 5, 6, 7, 8, 9, 10])\n",
    "data2 = np.array([10, 9, 8, 7, 6, 5, 4, 3, 2, 1])\n",
    "\n",
    "tf.reset_default_graph()\n",
    "\n",
    "X_1 = tf.placeholder(tf.float32, shape=[None,], name='Input_1')\n",
    "X_2 = tf.placeholder(tf.float32, shape=[None,], name='Input_2')\n",
    "\n",
    "layer1_mul = tf.multiply(X_1, X_2, name='Mul_layer1')\n",
    "layer1_add = tf.add(X_1, X_2, name='Add_layer1')\n",
    "output = tf.add(layer1_mul, layer1_add, name='Output')\n",
    "\n",
    "sess = tf.Session()\n",
    "result = sess.run(output, feed_dict={X_1: data1, X_2: data2})\n",
    "print(result)\n",
    "sess.close()\n",
    "show_graph(tf.get_default_graph().as_graph_def())\n",
    "\n",
    "'''\n",
    "You must feed a value for placeholder tensor\n",
    "'''"
   ]
  },
  {
   "cell_type": "code",
   "execution_count": null,
   "metadata": {
    "collapsed": true
   },
   "outputs": [],
   "source": [
    "###################################################################\n",
    "#                  쉬운 레벨부터 움직여 볼까요?\n",
    "###################################################################\n",
    "\n",
    "data1 = np.array([1, 2, 3, 4, 5, 6, 7, 8, 9, 10])\n",
    "data2 = np.array([10, 9, 8, 7, 6, 5, 4, 3, 2, 1])\n",
    "\n",
    "print(data1.shape, data2.shape)"
   ]
  },
  {
   "cell_type": "code",
   "execution_count": null,
   "metadata": {
    "collapsed": true
   },
   "outputs": [],
   "source": [
    "###################################################################\n",
    "#        shape에 집중합시다. shape에 집중합시다\n",
    "###################################################################\n",
    "\n",
    "tf.reset_default_graph()\n",
    "\n",
    "X_1 = tf.placeholder(tf.float32, shape=[None,], name='Input_1')\n",
    "X_2 = tf.placeholder(tf.float32, shape=[None,], name='Input_2')\n",
    "\n",
    "layer1_mul = tf.multiply(X_1, X_2, name='Mul_layer1')\n",
    "\n",
    "print(X_1.shape, X_2.shape)"
   ]
  },
  {
   "cell_type": "code",
   "execution_count": null,
   "metadata": {
    "collapsed": true
   },
   "outputs": [],
   "source": [
    "sess = tf.Session()\n",
    "result = sess.run(layer1_mul, feed_dict={X_1: data1, X_2: data2})\n",
    "print(result)\n",
    "sess.close()\n",
    "show_graph(tf.get_default_graph().as_graph_def(add_shapes=True))\n",
    "\n",
    "'''\n",
    "You must feed a value for placeholder tensor\n",
    "'''"
   ]
  },
  {
   "cell_type": "code",
   "execution_count": null,
   "metadata": {
    "collapsed": true
   },
   "outputs": [],
   "source": [
    "'''\n",
    "위를 참고하여 data1과 data2를 feed할 플레이스 홀더들을 만들고 더하여, 결과를 출력하여 보세요.\n",
    "다음의 코드를 완성시키면 됩니다.\n",
    "'''\n",
    "data1 = np.array([1, 2, 3, 4, 5, 6, 7, 8, 9, 10])\n",
    "data2 = np.array([10, 9, 8, 7, 6, 5, 4, 3, 2, 1])\n",
    "\n",
    "tf.reset_default_graph()\n",
    "##############################################################\n",
    "## 아래에 코딩하시면 됩니다 ##\n",
    "\n",
    "X_1 = tf.placeholder(tf.float32, shape='''수정''', name='''이름''')\n",
    "X_2 = tf.placeholder(tf.float32, shape='''수정''', name='''이름''')\n",
    "\n",
    "add = tf.add('''수정''')\n",
    "\n",
    "\n",
    "\n",
    "with tf.Session() as sess:\n",
    "    result = sess.run(add, feed_dict={X_1: '''수정''', '''수정''': data2})\n",
    "    print(result)\n",
    "\n",
    "#############################################################\n",
    "show_graph(tf.get_default_graph().as_graph_def())"
   ]
  },
  {
   "cell_type": "code",
   "execution_count": null,
   "metadata": {},
   "outputs": [],
   "source": [
    "'''\n",
    "이제, 여러분의 그래프를 코딩해보세요. 플레이스홀더가 여러개 필요하다면\n",
    "데이터도 추가하여 만들어보시면 됩니다.\n",
    "'''\n",
    "data1 = np.array([1, 2, 3, 4, 5, 6, 7, 8, 9, 10])\n",
    "data2 = np.array([10, 9, 8, 7, 6, 5, 4, 3, 2, 1])\n",
    "\n",
    "tf.reset_default_graph()\n",
    "##############################################################\n",
    "## 아래에 코딩하시면 됩니다 ##\n",
    "\n",
    "X = tf.placeholder(dtype=tf.float32, shape=[None,], name=\"X\")\n",
    "Y = tf.placeholder(dtype=tf.float32, shape=[None,], name=\"Y\")\n",
    "\n",
    "output = tf.multiply(X, Y, name=\"Output\")\n",
    "\n",
    "sess = tf.Session()\n",
    "print(sess.run(output, feed_dict={X: data1, Y: data2}))\n",
    "sess.close()\n",
    "\n",
    "\n",
    "#############################################################\n",
    "show_graph(tf.get_default_graph().as_graph_def())"
   ]
  },
  {
   "cell_type": "code",
   "execution_count": null,
   "metadata": {
    "collapsed": true
   },
   "outputs": [],
   "source": [
    "###################################################################\n",
    "#   참고만 해보는 용도랍니다, 나중에는 매우매우 중요해집니다.\n",
    "###################################################################\n",
    "tf.reset_default_graph()\n",
    "\n",
    "data1 = np.array([1, 2, 3, 4, 5, 6, 7, 8, 9, 10])\n",
    "data2 = np.array([10, 9, 8, 7, 6, 5, 4, 3, 2, 1])\n",
    "\n",
    "with tf.name_scope(\"Input_layer\"):\n",
    "    with tf.device('/cpu:0'):\n",
    "        X_1 = tf.placeholder(tf.float32, shape=[], name='Input_1')\n",
    "        X_2 = tf.placeholder(tf.float32, shape=[], name='Input_2')\n",
    "with tf.name_scope(\"hidden_layer\"):\n",
    "    with tf.device('/cpu:0'):\n",
    "        layer1_mul = tf.multiply(X_1, X_2, name='Mul_layer1')\n",
    "    with tf.device('/gpu:0'):\n",
    "        layer1_add = tf.add(X_1, X_2, name='Add_layer1')\n",
    "with tf.name_scope(\"Output_layer\"):\n",
    "    with tf.device('/gpu:0'):\n",
    "        output = tf.add(layer1_mul, layer1_add, name='Output')\n",
    "\n",
    "sess = tf.Session()    \n",
    "for i in range(len(data1)):\n",
    "    result = sess.run(output, feed_dict = {X_1: data1[i], X_2: data2[i]})\n",
    "    print(result)\n",
    "\n",
    "\n",
    "sess.close()\n",
    "\n",
    "show_graph(tf.get_default_graph().as_graph_def())"
   ]
  },
  {
   "cell_type": "markdown",
   "metadata": {},
   "source": [
    "위의 셀은  그래픽 카드가 없는 컴퓨터에서는 에러가 날겁니다.\n",
    "\n",
    "사실은, 아래처럼 아름다운 그래프가 나와야 해요.\n",
    "\n",
    "![first](img/device0.PNG)\n",
    "![second](img/device1.png)"
   ]
  },
  {
   "cell_type": "markdown",
   "metadata": {},
   "source": [
    "#### tf.Variable\n",
    "tf.Variable의 구조는 아래와 같습니다.\n",
    "\n",
    "```\n",
    "tf.Variable(initial_value = 초기 데이터, trainable = True, name = None, dtype = None, .....)\n",
    "```\n",
    "\n",
    "initial_value 부분에는 여러분의 데이터를 직접 넣어도 좋지만, 아래의 랜덤 함수를 이용하여 넣어줍니다.\n",
    "\n",
    "```\n",
    "tf.random_normal(shape, mean=0.0, stddev=1.0, dtype=tf.float32, seed=None, name=None)\n",
    "tf.truncated_normal(shape, mean=0.0, stddev=1.0, dtype=tf.float32, seed=None,\n",
    "name=None)\n",
    "tf.random_uniform(shape, minval=0, maxval=None, dtype=tf.float32, seed=None,\n",
    "name=None)\n",
    "\n",
    "```\n",
    "\n",
    "실제 사용예시를 봅시다."
   ]
  },
  {
   "cell_type": "code",
   "execution_count": null,
   "metadata": {},
   "outputs": [],
   "source": [
    "tf.reset_default_graph()\n",
    "Weight = tf.Variable([[1], [2]], name='my_first_weight')\n",
    "print(Weight)"
   ]
  },
  {
   "cell_type": "code",
   "execution_count": null,
   "metadata": {
    "scrolled": true
   },
   "outputs": [],
   "source": [
    "sess = tf.Session()\n",
    "print(sess.run(Weight))\n",
    "sess.close()"
   ]
  },
  {
   "cell_type": "markdown",
   "metadata": {},
   "source": [
    "무시무시한 에러가 보이십니까?!\n",
    "\n",
    "기억하세요.\n",
    "\n",
    "### Variable은 반드시, 반드시 [ ______________________ ] 를 하고 나서 사용해야 합니다."
   ]
  },
  {
   "cell_type": "code",
   "execution_count": null,
   "metadata": {},
   "outputs": [],
   "source": [
    "tf.reset_default_graph()\n",
    "Weight = tf.Variable([[1], [2]], name='my_first_weight')\n",
    "\n",
    "sess = tf.Session()\n",
    "sess.run(tf.global_variables_initializer())\n",
    "print(sess.run(Weight))\n",
    "sess.close()\n"
   ]
  },
  {
   "cell_type": "code",
   "execution_count": null,
   "metadata": {},
   "outputs": [],
   "source": [
    "tf.reset_default_graph()\n",
    "Weight = tf.Variable(tf.random_normal([10, 4]), name='my_first_weight')\n",
    "\n",
    "sess = tf.Session()\n",
    "sess.run(tf.global_variables_initializer())\n",
    "print(sess.run(Weight))\n",
    "sess.close()"
   ]
  },
  {
   "cell_type": "code",
   "execution_count": null,
   "metadata": {},
   "outputs": [],
   "source": [
    "'''\n",
    "아래 코드를 수정하거나, Ctrl + Enter를 통해 반복 실행해보세요.\n",
    "'''\n",
    "tf.reset_default_graph()\n",
    "tf.set_random_seed(2017)   #   주석을 풀고서도 실행해보아요.\n",
    "Weight = tf.Variable(tf.random_normal([10, 4]), name='my_first_weight')\n",
    "\n",
    "sess = tf.Session()\n",
    "sess.run(tf.global_variables_initializer())\n",
    "print(sess.run(Weight))\n",
    "sess.close()"
   ]
  },
  {
   "cell_type": "markdown",
   "metadata": {},
   "source": [
    "### 기계 학습의 개념 이해를 위한 코드"
   ]
  },
  {
   "cell_type": "code",
   "execution_count": null,
   "metadata": {
    "scrolled": false
   },
   "outputs": [],
   "source": [
    "# 코드를 음미해 봅시다.\n",
    "tf.reset_default_graph()\n",
    "tf.set_random_seed(2017)           # 주석으로 처리하고도 실행해 보아요.\n",
    "Weight = tf.Variable(tf.random_normal(shape=()), name='random')\n",
    "constant_value = tf.constant(100, tf.float32)\n",
    "\n",
    "###################################################################\n",
    "# 이 부분은 내일 설명합니다.\n",
    "cost = tf.square(tf.subtract(constant_value, Weight))\n",
    "optimizer = tf.train.AdamOptimizer(learning_rate=0.2)\n",
    "one_step_training = optimizer.minimize(cost)\n",
    "###################################################################\n",
    "\n",
    "sess = tf.Session()\n",
    "sess.run(tf.global_variables_initializer())\n",
    "\n",
    "for i in range(1401):\n",
    "    sess.run(one_step_training)\n",
    "    if (i % 100 == 0):\n",
    "        random = sess.run(Weight)\n",
    "        print('{0}th epoch, answer: {1}, current_value: {2}'.format(i, 100, random))\n",
    "\n",
    "sess.close()\n",
    "\n",
    "show_graph(tf.get_default_graph().as_graph_def())"
   ]
  },
  {
   "cell_type": "markdown",
   "metadata": {},
   "source": [
    "# 00.Summary\n",
    "\n",
    "#### 점검사항\n",
    "1. 텐서플로우와 인사할 수 있다.\n",
    "2. Dataflow graph를 이해했다.\n",
    "3. 텐서플로우를 이용해 코딩하는 과정을 익혔다.\n",
    "4. 텐서플로우의 기본 사용법들을 안다.\n"
   ]
  }
 ],
 "metadata": {
  "anaconda-cloud": {},
  "kernelspec": {
   "display_name": "Python 3",
   "language": "python",
   "name": "python3"
  },
  "language_info": {
   "codemirror_mode": {
    "name": "ipython",
    "version": 3
   },
   "file_extension": ".py",
   "mimetype": "text/x-python",
   "name": "python",
   "nbconvert_exporter": "python",
   "pygments_lexer": "ipython3",
   "version": "3.6.2"
  },
  "nbpresent": {
   "slides": {
    "06673961-d8a5-4267-a63d-f313583104d9": {
     "id": "06673961-d8a5-4267-a63d-f313583104d9",
     "prev": "0879f191-9570-41d0-8172-779e645958bf",
     "regions": {
      "c4b181e9-2fef-4c54-a02d-add6a6973d29": {
       "attrs": {
        "height": 0.8,
        "width": 0.8,
        "x": 0.1,
        "y": 0.1
       },
       "content": {
        "cell": "85cfbf31-402d-4db2-8b14-0d0c0d847f8b",
        "part": "whole"
       },
       "id": "c4b181e9-2fef-4c54-a02d-add6a6973d29"
      }
     }
    },
    "0879f191-9570-41d0-8172-779e645958bf": {
     "id": "0879f191-9570-41d0-8172-779e645958bf",
     "prev": "67db25c5-f042-401f-8d2a-56ba736d31ae",
     "regions": {
      "4df75cd2-c637-493e-a7cf-5f96fb3013ca": {
       "attrs": {
        "height": 0.8,
        "width": 0.8,
        "x": 0.1,
        "y": 0.1
       },
       "content": {
        "cell": "daf8cfb3-efc8-4e87-b318-e5ad4c12f9b7",
        "part": "whole"
       },
       "id": "4df75cd2-c637-493e-a7cf-5f96fb3013ca"
      }
     }
    },
    "135b3672-2ba5-4f92-bdc7-4113351248a2": {
     "id": "135b3672-2ba5-4f92-bdc7-4113351248a2",
     "prev": "53b495c0-f73a-4af8-90a9-06052a15578c",
     "regions": {
      "29d2786a-e00f-4936-8f88-98d140ceb69d": {
       "attrs": {
        "height": 0.8,
        "width": 0.8,
        "x": 0.1,
        "y": 0.1
       },
       "content": {
        "cell": "ae941080-9b54-48d0-9c2e-d789737ca6a3",
        "part": "whole"
       },
       "id": "29d2786a-e00f-4936-8f88-98d140ceb69d"
      }
     }
    },
    "234a438e-9bbd-4d7c-aa4d-60a6ad360cad": {
     "id": "234a438e-9bbd-4d7c-aa4d-60a6ad360cad",
     "prev": "85cdfd47-b188-4127-b6ce-f2d6269764ca",
     "regions": {
      "44c764a2-1cf0-4fc0-91cb-0cb9bcefb745": {
       "attrs": {
        "height": 0.8,
        "width": 0.8,
        "x": 0.1,
        "y": 0.1
       },
       "content": {
        "cell": "dfdb1509-35cf-46ef-8552-f6b07ed1fbaf",
        "part": "whole"
       },
       "id": "44c764a2-1cf0-4fc0-91cb-0cb9bcefb745"
      }
     }
    },
    "338a1c9f-d631-4cd8-9830-35c4b298ee7d": {
     "id": "338a1c9f-d631-4cd8-9830-35c4b298ee7d",
     "prev": "f609d9b0-5a29-4ccc-84bf-e74355ab7eff",
     "regions": {
      "cd095279-4007-4e90-b96e-0b95b9ec3a3d": {
       "attrs": {
        "height": 0.8,
        "width": 0.8,
        "x": 0.1,
        "y": 0.1
       },
       "content": {
        "cell": "b5521ec6-6f3a-4b09-ab8e-955e09c040c2",
        "part": "whole"
       },
       "id": "cd095279-4007-4e90-b96e-0b95b9ec3a3d"
      }
     }
    },
    "53b495c0-f73a-4af8-90a9-06052a15578c": {
     "id": "53b495c0-f73a-4af8-90a9-06052a15578c",
     "prev": "be1c5d87-98b8-4a00-8fee-ab6aa9209fa8",
     "regions": {
      "ae2aebd0-8691-47f8-8aab-528a9c1ce2bf": {
       "attrs": {
        "height": 0.8,
        "width": 0.8,
        "x": 0.1,
        "y": 0.1
       },
       "content": {
        "cell": "41a29509-236f-4951-a9d2-6c2cf4963c6b",
        "part": "whole"
       },
       "id": "ae2aebd0-8691-47f8-8aab-528a9c1ce2bf"
      }
     }
    },
    "579d08fd-aae6-4977-a954-3bfed185e258": {
     "id": "579d08fd-aae6-4977-a954-3bfed185e258",
     "prev": "338a1c9f-d631-4cd8-9830-35c4b298ee7d",
     "regions": {
      "12149eb4-94d4-40e8-8ed1-5b01b3dc17ab": {
       "attrs": {
        "height": 0.8,
        "width": 0.8,
        "x": 0.1,
        "y": 0.1
       },
       "content": {
        "cell": "d1c43f06-e63a-4006-84fe-a80d43007720",
        "part": "whole"
       },
       "id": "12149eb4-94d4-40e8-8ed1-5b01b3dc17ab"
      }
     }
    },
    "67db25c5-f042-401f-8d2a-56ba736d31ae": {
     "id": "67db25c5-f042-401f-8d2a-56ba736d31ae",
     "prev": "579d08fd-aae6-4977-a954-3bfed185e258",
     "regions": {
      "8a7cf766-88b1-4512-ba59-c0907d84e812": {
       "attrs": {
        "height": 0.8,
        "width": 0.8,
        "x": 0.1,
        "y": 0.1
       },
       "content": {
        "cell": "6d01f784-fa77-43fc-a1de-5dca9733fe37",
        "part": "whole"
       },
       "id": "8a7cf766-88b1-4512-ba59-c0907d84e812"
      }
     }
    },
    "6864bc82-39ed-4597-9643-1f9eaebaa4ad": {
     "id": "6864bc82-39ed-4597-9643-1f9eaebaa4ad",
     "prev": null,
     "regions": {
      "458e5b71-90c5-4b8b-946f-3dbd0acabdd0": {
       "attrs": {
        "height": 0.8,
        "width": 0.8,
        "x": 0.1,
        "y": 0.1
       },
       "content": {
        "cell": "324c3256-4054-4685-a71c-ae0fe87670c2",
        "part": "whole"
       },
       "id": "458e5b71-90c5-4b8b-946f-3dbd0acabdd0"
      }
     }
    },
    "85cdfd47-b188-4127-b6ce-f2d6269764ca": {
     "id": "85cdfd47-b188-4127-b6ce-f2d6269764ca",
     "prev": "135b3672-2ba5-4f92-bdc7-4113351248a2",
     "regions": {
      "660896c7-2008-4690-a456-0f728323a4e9": {
       "attrs": {
        "height": 0.8,
        "width": 0.8,
        "x": 0.1,
        "y": 0.1
       },
       "content": {
        "cell": "ff5d24f2-939f-4007-9892-f241c94b9e6f",
        "part": "whole"
       },
       "id": "660896c7-2008-4690-a456-0f728323a4e9"
      }
     }
    },
    "be1c5d87-98b8-4a00-8fee-ab6aa9209fa8": {
     "id": "be1c5d87-98b8-4a00-8fee-ab6aa9209fa8",
     "prev": "6864bc82-39ed-4597-9643-1f9eaebaa4ad",
     "regions": {
      "02737d00-d567-4b1e-b981-39dc866fb994": {
       "attrs": {
        "height": 0.8,
        "width": 0.8,
        "x": 0.1,
        "y": 0.1
       },
       "content": {
        "cell": "77420740-c7d1-42dc-8cbf-f131e6ac7001",
        "part": "whole"
       },
       "id": "02737d00-d567-4b1e-b981-39dc866fb994"
      }
     }
    },
    "f609d9b0-5a29-4ccc-84bf-e74355ab7eff": {
     "id": "f609d9b0-5a29-4ccc-84bf-e74355ab7eff",
     "prev": "234a438e-9bbd-4d7c-aa4d-60a6ad360cad",
     "regions": {
      "aec5f004-bdc5-449c-80b3-52d3a1ae4596": {
       "attrs": {
        "height": 0.8,
        "width": 0.8,
        "x": 0.1,
        "y": 0.1
       },
       "content": {
        "cell": "439e3e1e-bdee-49a7-9a18-11f87ded9522",
        "part": "whole"
       },
       "id": "aec5f004-bdc5-449c-80b3-52d3a1ae4596"
      }
     }
    }
   },
   "themes": {}
  }
 },
 "nbformat": 4,
 "nbformat_minor": 1
}
