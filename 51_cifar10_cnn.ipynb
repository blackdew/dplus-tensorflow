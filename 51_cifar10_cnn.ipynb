{
 "cells": [
  {
   "cell_type": "markdown",
   "metadata": {},
   "source": [
    "# 41. CIFAR-10 CNN\n",
    "\n",
    "<p style=\"text-align: right;\">\n",
    "blackdew7@gmail.com<br>\n",
    "Your name :\n",
    "</p>\n",
    "\n",
    "### 텐서플로 실습시간 그 다섯번째!<br>\n",
    "\n",
    "#### 선행지식\n",
    "1. TensorFlow 다루기 기초\n",
    "2. 모델링을 한다는 것에 대한 이해.\n",
    "3. Supervised Learning 중 Classification에 대한 기본 지식.\n",
    "4. CNN에 대한 기본 구조와 개념\n",
    "\n",
    "#### 실습목표\n",
    "1. CNN의 구조를 Graph로 그려낼 수 있다.\n",
    "2. 그려낸 Graph를 텐서플로우를 이용해 코딩할 수 있다.\n",
    "\n",
    "#### 사용데이터.\n",
    "\n",
    "01. The CIFAR-10 dataset : https://www.cs.toronto.edu/~kriz/cifar.html\n",
    "\n",
    "\n",
    "![image](./img/06_network_flowchart.png)\n"
   ]
  },
  {
   "cell_type": "markdown",
   "metadata": {},
   "source": [
    "## 00. 라이브러리 불러오기"
   ]
  },
  {
   "cell_type": "code",
   "execution_count": null,
   "metadata": {
    "collapsed": true
   },
   "outputs": [],
   "source": [
    "# 메모리 초기화\n",
    "%reset"
   ]
  },
  {
   "cell_type": "code",
   "execution_count": null,
   "metadata": {},
   "outputs": [],
   "source": [
    "import tensorflow as tf\n",
    "import random"
   ]
  },
  {
   "cell_type": "markdown",
   "metadata": {},
   "source": [
    "## 01. 데이터 불러오기 & 전처리"
   ]
  },
  {
   "cell_type": "code",
   "execution_count": null,
   "metadata": {
    "scrolled": true
   },
   "outputs": [],
   "source": [
    "import cifar10\n",
    "\n",
    "cifar10.data_path = \"./data/CIFAR-10/\"\n",
    "# cifar10.maybe_download_and_extract()\n",
    "class_names = cifar10.load_class_names()\n",
    "print(class_names)"
   ]
  },
  {
   "cell_type": "markdown",
   "metadata": {},
   "source": [
    "### train, test 데이터 셋 분리 "
   ]
  },
  {
   "cell_type": "code",
   "execution_count": null,
   "metadata": {},
   "outputs": [],
   "source": [
    "images_train, cls_train, labels_train = cifar10.load_training_data()\n",
    "images_test, cls_test, labels_test = cifar10.load_test_data()\n",
    "\n",
    "print(\"Size of:\")\n",
    "print(\"- Training-set:\\t\\t{}\".format(len(images_train)))\n",
    "print(\"- Test-set:\\t\\t{}\".format(len(images_test)))"
   ]
  },
  {
   "cell_type": "markdown",
   "metadata": {},
   "source": [
    "### 데이터가 어떻게 생겼는지 확인해보자."
   ]
  },
  {
   "cell_type": "code",
   "execution_count": null,
   "metadata": {
    "collapsed": true
   },
   "outputs": [],
   "source": [
    "%matplotlib inline\n",
    "%config InlineBackend.figure_format = 'retina'\n",
    "\n",
    "import matplotlib.pyplot as plt\n",
    "\n",
    "# 이미지 출력을 위한 함수\n",
    "def cifar10_plot(i):\n",
    "    pixels = images_train[i]\n",
    "    a = int(cls_train[i])\n",
    "    print(class_names[a])\n",
    "    plt.title('Label: {}'.format(class_names[a]))\n",
    "    plt.imshow(pixels, cmap='gray')\n",
    "    return plt.show()"
   ]
  },
  {
   "cell_type": "code",
   "execution_count": null,
   "metadata": {},
   "outputs": [],
   "source": [
    "print(images_train[0].shape)\n",
    "print(cls_train[0])\n",
    "print(labels_train[0])\n"
   ]
  },
  {
   "cell_type": "code",
   "execution_count": null,
   "metadata": {},
   "outputs": [],
   "source": [
    "cifar10_plot(9999)"
   ]
  },
  {
   "cell_type": "code",
   "execution_count": null,
   "metadata": {},
   "outputs": [],
   "source": [
    "tf.convert_to_tensor(images_train).get_shape()"
   ]
  },
  {
   "cell_type": "markdown",
   "metadata": {},
   "source": [
    "### CIFAR-10 dataset\n",
    "* 총 60,000장\n",
    "* 가로, 세로 길이 = 32, RGB\n",
    "* 데이터는 32 * 32 * 3 의 배열로 담겨있음"
   ]
  },
  {
   "cell_type": "markdown",
   "metadata": {},
   "source": [
    "## 02. 실습 - Prepare Variables for a CNN Graph with TF "
   ]
  },
  {
   "cell_type": "code",
   "execution_count": null,
   "metadata": {
    "collapsed": true
   },
   "outputs": [],
   "source": [
    "'''\n",
    "Prepare Variables 코드를 완성해보자.\n",
    "\n",
    "여러분이 직접 스크립트를 짜야 합니다.\n",
    "복사하여 붙여넣기를 하지 마시고, 직접 타이핑 하는 것을 권장합니다.\n",
    "'''\n"
   ]
  },
  {
   "cell_type": "markdown",
   "metadata": {},
   "source": [
    "## 03. 실습 - Make a CNN Graph with TF"
   ]
  },
  {
   "cell_type": "code",
   "execution_count": null,
   "metadata": {
    "collapsed": true
   },
   "outputs": [],
   "source": [
    "'''\n",
    "CNN Graph 코드를 완성해보자. \n",
    "\n",
    "여러분이 직접 스크립트를 짜야 합니다.\n",
    "복사하여 붙여넣기를 하지 마시고, 직접 타이핑 하는 것을 권장합니다.\n",
    "'''\n",
    "# First Hidden Layer 코드를 완성해보자\n",
    "\n",
    "\n",
    "\n",
    "# Second Hidden Layer 코드를 완성해보자\n",
    "\n",
    "\n",
    "\n",
    "# Fully Connected Layer 코드를 완성해보자\n",
    "\n",
    "\n",
    "\n",
    "# Cost & Optimizer 코드를 완성해보자\n",
    "\n",
    "\n"
   ]
  },
  {
   "cell_type": "markdown",
   "metadata": {},
   "source": [
    "## 04. 실습 - Traning & Evaluation"
   ]
  },
  {
   "cell_type": "code",
   "execution_count": null,
   "metadata": {
    "collapsed": true
   },
   "outputs": [],
   "source": [
    "'''\n",
    "Traning & Evaluation 코드를 완성해보자\n",
    "'''\n",
    "\n",
    "# Initialize\n",
    "\n",
    "\n",
    "# Training\n",
    "\n",
    "print('Learning started. It takes sometime.')\n",
    "\n",
    "\n",
    "print(\"Training Complete\")\n",
    "\n",
    "# Evaluation\n",
    "# Test model and check accuracy\n",
    "\n",
    "\n"
   ]
  },
  {
   "cell_type": "markdown",
   "metadata": {},
   "source": [
    "## 05. 실습 해답"
   ]
  },
  {
   "cell_type": "markdown",
   "metadata": {},
   "source": [
    "### 05.1 Import Library & Prepare CIFAR-10 Data"
   ]
  },
  {
   "cell_type": "code",
   "execution_count": null,
   "metadata": {},
   "outputs": [],
   "source": [
    "import tensorflow as tf\n",
    "from tbij import show_graph # Tensor Board In Jupyter notebook. You can see this later.\n",
    "\n",
    "import cifar10\n",
    "cifar10.data_path = \"./CIFAR-10/\"\n",
    "# cifar10.maybe_download_and_extract()\n",
    "class_names = cifar10.load_class_names()\n",
    "\n",
    "images_train, cls_train, labels_train = cifar10.load_training_data()\n",
    "images_test, cls_test, labels_test = cifar10.load_test_data()"
   ]
  },
  {
   "cell_type": "markdown",
   "metadata": {},
   "source": [
    "### 05.2 Prepare Variables for a CNN Graph with TF"
   ]
  },
  {
   "cell_type": "code",
   "execution_count": null,
   "metadata": {
    "collapsed": true
   },
   "outputs": [],
   "source": [
    "# Graph Clear\n",
    "tf.reset_default_graph()\n",
    "tf.set_random_seed(2017) # random seeding - reproduct\n",
    "\n",
    "############################\n",
    "# Place Holders\n",
    "\n",
    "X = tf.placeholder(tf.float32, [None, 32, 32, 3], name=\"X\")\n",
    "Y = tf.placeholder(tf.float32, [None, 10], name=\"Y\")"
   ]
  },
  {
   "cell_type": "markdown",
   "metadata": {},
   "source": [
    "### 05.3 Make a CNN Graph & Run Session with TF"
   ]
  },
  {
   "cell_type": "code",
   "execution_count": null,
   "metadata": {
    "collapsed": true
   },
   "outputs": [],
   "source": [
    "#########################\n",
    "# ConvLayer 01 \n",
    "\n",
    "with tf.name_scope(\"layer1_conv\"):\n",
    "\n",
    "    # for Conv Layer 01 filter - shape=(3, 3, 1)\n",
    "    W1 = tf.Variable(tf.random_normal([3, 3, 3, 32], stddev=0.01), name=\"W1\")\n",
    "\n",
    "    # Convolution Layer 01 -> (?, 32, 32, 32)\n",
    "    L1_conv = tf.nn.conv2d(X, W1, strides=[1, 1, 1, 1], padding='SAME', name=\"L1_conv\")\n",
    "    L1_conv = tf.nn.relu(L1_conv, name=\"L1_relu\")\n",
    "\n",
    "    # Pooling Layer 01 -> (?, 16, 16, 32)\n",
    "    L1_pool = tf.nn.max_pool(L1_conv, ksize=[1, 2, 2, 1], strides=[1, 2, 2, 1], padding='SAME', name=\"L1_max_pool\")\n",
    "\n",
    "    \n",
    "#########################\n",
    "# ConvLayer 02\n",
    "\n",
    "with tf.name_scope(\"layer2_conv\"):\n",
    "\n",
    "    # for Conv Layer 02 filter - shape=(3, 3, 32)\n",
    "    W2 = tf.Variable(tf.random_normal([3, 3, 32, 64], stddev=0.01), name=\"W2\")\n",
    "\n",
    "    # Convolution Layer 02 -> (?, 16, 16, 32)\n",
    "    L2_conv = tf.nn.conv2d(L1_pool, W2, strides=[1, 1, 1, 1], padding='SAME', name=\"L2_conv\")\n",
    "    L2_conv = tf.nn.relu(L2_conv, name=\"L2_relu\")\n",
    "\n",
    "    # Pooling Layer 02 -> (?, 8, 8, 64)\n",
    "    L2_pool = tf.nn.max_pool(L2_conv, ksize=[1, 2, 2, 1], strides=[1, 2, 2, 1], padding='SAME', name=\"L2_max_pool\")\n",
    "\n",
    "    \n",
    "#########################\n",
    "# Flatten layer & Fully Connected Layer\n",
    "\n",
    "with tf.name_scope(\"L_FC\"):\n",
    "\n",
    "    ###############################\n",
    "    # Flatten layer\n",
    "    L_flat = tf.reshape(L2_pool, [-1, 8 * 8 * 64], name=\"L_flat\")\n",
    "\n",
    "    ###############################\n",
    "    # Fully Connected Layer 01\n",
    "\n",
    "    # for Final FC 8x8x64 inputs -> 100 outputs\n",
    "    W_fc1 = tf.Variable(tf.random_normal([8 * 8 * 64, 1000], stddev=0.01), name=\"W_fc1\")\n",
    "\n",
    "    # bias\n",
    "    b_fc1 = tf.Variable(tf.random_normal([1000]), name=\"b_fc1\")\n",
    "    \n",
    "    # fc layer\n",
    "    _fc_layer1 = tf.add(tf.matmul(L_flat, W_fc1), b_fc1, name='fc_layer1')\n",
    "    fc_layer1 = tf.nn.relu(_fc_layer1, name=\"fc_layer1_relu\")\n",
    "\n",
    "    ###############################\n",
    "    # Fully Connected Layer 02\n",
    "\n",
    "    # for Final FC 7x7x64 inputs -> 10 outputs\n",
    "    W_fc2 = tf.Variable(tf.random_normal([1000, 10], stddev=0.01), name=\"W_fc2\")\n",
    "\n",
    "    # bias\n",
    "    b_fc2 = tf.Variable(tf.random_normal([10]), name=\"b_fc2\")\n",
    "    \n",
    "    # fc layer\n",
    "    logits = tf.add(tf.matmul(fc_layer1, W_fc2), b_fc2, name='logits')\n",
    "\n",
    "    \n",
    "#########################\n",
    "# Cost & Optimizer\n",
    "\n",
    "learning_rate = 0.001\n",
    "\n",
    "with tf.name_scope(\"Optimizer\"):\n",
    "    # Cost(loss) function & Optimizer\n",
    "    cost = tf.reduce_mean(tf.nn.softmax_cross_entropy_with_logits(logits=logits, labels=Y), name=\"cost\")\n",
    "    optimizer = tf.train.AdamOptimizer(learning_rate=learning_rate).minimize(cost)\n",
    "    \n",
    "with tf.name_scope(\"Prediction\"):\n",
    "    # Test model and check accuracy\n",
    "    correct_prediction = tf.equal(tf.argmax(logits, 1), tf.argmax(Y, 1), name=\"compare\")\n",
    "    acc = tf.reduce_mean(tf.cast(correct_prediction, tf.float32), name=\"accuracy\")\n"
   ]
  },
  {
   "cell_type": "markdown",
   "metadata": {},
   "source": [
    "### 05.4 Training & Evaluation"
   ]
  },
  {
   "cell_type": "code",
   "execution_count": null,
   "metadata": {
    "scrolled": false
   },
   "outputs": [],
   "source": [
    "#########################\n",
    "# Session initialize\n",
    "\n",
    "# sess = tf.Session()\n",
    "# sess.run(tf.global_variables_initializer())\n",
    "\n",
    "###########################\n",
    "# Traning\n",
    "\n",
    "print('Learning started. It takes sometime.')\n",
    "\n",
    "# 50000개의 데이터 200개씩 250번 가져와야 전체를 학습하게 된다.\n",
    "epochs = 3\n",
    "batch_size = 200\n",
    "n_of_batches = int(len(labels_train) / batch_size)\n",
    "\n",
    "for epoch in range(epochs): \n",
    "    print(\"%dth epoch\" % (epoch + 1))\n",
    "    # n_of_batches회 동안 batch_size개씩 가져와서 학습 진행\n",
    "    for i in range(n_of_batches):\n",
    "\n",
    "        X_batch = images_train[(i * batch_size):((i + 1) * batch_size)]\n",
    "        Y_batch = labels_train[(i * batch_size):((i + 1) * batch_size)]\n",
    "\n",
    "        sess.run(optimizer, feed_dict={X: X_batch, Y: Y_batch})\n",
    "\n",
    "        # 학습 상황 디스플레이\n",
    "        if ((i + 1) % 5 == 0): \n",
    "            loss, accuracy = sess.run([cost, acc], feed_dict={X: X_batch, Y: Y_batch})\n",
    "            print(\"%dth records, training cost: %.3f, accuracy: %.2f\" % ((i + 1) * batch_size, loss, accuracy * 100))\n",
    "\n",
    "print(\"Training Complete\")"
   ]
  },
  {
   "cell_type": "code",
   "execution_count": null,
   "metadata": {
    "collapsed": true
   },
   "outputs": [],
   "source": [
    "###########################\n",
    "# Evaluation\n",
    "accuracy = sess.run(acc, feed_dict={X: images_test, Y: labels_test})\n",
    "print('Accuracy: %.2f' % (accuracy * 100))"
   ]
  },
  {
   "cell_type": "markdown",
   "metadata": {},
   "source": [
    "### 성능을 한 번 확인해 보자. 제대로 되고 있는걸까?"
   ]
  },
  {
   "cell_type": "code",
   "execution_count": null,
   "metadata": {
    "collapsed": true
   },
   "outputs": [],
   "source": [
    "import random\n",
    "\n",
    "# Get one and predict\n",
    "r = random.randint(0, len(images_test) - 1)\n",
    "print(\"Label: \", class_names[int(sess.run(tf.argmax(labels_test[r:r + 1], 1)))])\n",
    "print(\"Prediction: \", class_names[int(sess.run(tf.argmax(logits, 1), feed_dict={X: images_test[r:r + 1]}))])\n",
    "\n",
    "import matplotlib.pyplot as plt\n",
    "plt.imshow(images_test[r:r + 1].reshape(32, 32, 3), cmap='Greys', interpolation='nearest')\n",
    "plt.show()"
   ]
  },
  {
   "cell_type": "markdown",
   "metadata": {},
   "source": [
    "## 06. 대체 뭘 학습한 것인가? "
   ]
  },
  {
   "cell_type": "code",
   "execution_count": null,
   "metadata": {
    "collapsed": true
   },
   "outputs": [],
   "source": [
    "%matplotlib inline\n",
    "import matplotlib.pyplot as plt\n",
    "import math\n",
    "import numpy as np\n",
    "\n",
    "def plot_conv_weights(weights, input_channel=0):\n",
    "    \n",
    "    with tf.Session() as sess:\n",
    "        sess.run(tf.global_variables_initializer())\n",
    "\n",
    "        w = sess.run(weights)\n",
    "\n",
    "        w_min = np.min(w)\n",
    "        w_max = np.max(w)\n",
    "\n",
    "        num_filters = w.shape[3]\n",
    "        num_grids = math.ceil(math.sqrt(num_filters))\n",
    "        fig, axes = plt.subplots(num_grids, num_grids)\n",
    "\n",
    "        for i, ax in enumerate(axes.flat):\n",
    "            if i < num_filters:\n",
    "                img = w[:, :, input_channel, i]\n",
    "                ax.imshow(img, vmin=w_min, vmax=w_max, interpolation='nearest', cmap='seismic')\n",
    "\n",
    "            ax.set_xticks([])\n",
    "            ax.set_yticks([])\n",
    "\n",
    "        plt.show()\n",
    "        \n",
    "def plot_conv_layer(layer, image):\n",
    "\n",
    "    with tf.Session() as sess:\n",
    "\n",
    "        sess.run(tf.global_variables_initializer())\n",
    "\n",
    "        feed_dict = {X: [image]}\n",
    "        values = sess.run(layer, feed_dict=feed_dict)\n",
    "\n",
    "        num_filters = values.shape[3]\n",
    "        num_grids = math.ceil(math.sqrt(num_filters))\n",
    "        fig, axes = plt.subplots(num_grids, num_grids)\n",
    "\n",
    "        for i, ax in enumerate(axes.flat):\n",
    "            if i < num_filters:\n",
    "                img = values[0, :, :, i]\n",
    "                ax.imshow(img, interpolation='nearest', cmap='binary')\n",
    "                \n",
    "            ax.set_xticks([])\n",
    "            ax.set_yticks([])\n",
    "\n",
    "        plt.show()"
   ]
  },
  {
   "cell_type": "code",
   "execution_count": null,
   "metadata": {
    "collapsed": true
   },
   "outputs": [],
   "source": [
    "plot_conv_weights(weights=W1)"
   ]
  },
  {
   "cell_type": "code",
   "execution_count": null,
   "metadata": {
    "collapsed": true
   },
   "outputs": [],
   "source": [
    "plot_conv_weights(weights=W2, input_channel=0)"
   ]
  },
  {
   "cell_type": "code",
   "execution_count": null,
   "metadata": {
    "collapsed": true
   },
   "outputs": [],
   "source": [
    "plot_conv_weights(weights=W2, input_channel=1)"
   ]
  },
  {
   "cell_type": "code",
   "execution_count": null,
   "metadata": {
    "collapsed": true
   },
   "outputs": [],
   "source": [
    "img_shape = (32, 32, 3)\n",
    "\n",
    "def plot_image(image):\n",
    "    plt.imshow(image.reshape(img_shape),\n",
    "               interpolation='nearest',\n",
    "               cmap='binary')\n",
    "\n",
    "    plt.show()\n",
    "    \n",
    "image1 = images_test[0]\n",
    "plot_image(image1)\n",
    "\n",
    "image2 = images_test[1]\n",
    "plot_image(image2)"
   ]
  },
  {
   "cell_type": "code",
   "execution_count": null,
   "metadata": {
    "collapsed": true
   },
   "outputs": [],
   "source": [
    "plot_conv_layer(layer=L1_pool, image=image2)"
   ]
  },
  {
   "cell_type": "code",
   "execution_count": null,
   "metadata": {
    "collapsed": true
   },
   "outputs": [],
   "source": [
    "plot_conv_layer(layer=L2_pool, image=image2)"
   ]
  },
  {
   "cell_type": "code",
   "execution_count": null,
   "metadata": {
    "collapsed": true
   },
   "outputs": [],
   "source": [
    "session.close()"
   ]
  },
  {
   "cell_type": "code",
   "execution_count": null,
   "metadata": {
    "collapsed": true
   },
   "outputs": [],
   "source": []
  }
 ],
 "metadata": {
  "kernelspec": {
   "display_name": "Python 3",
   "language": "python",
   "name": "python3"
  },
  "language_info": {
   "codemirror_mode": {
    "name": "ipython",
    "version": 3
   },
   "file_extension": ".py",
   "mimetype": "text/x-python",
   "name": "python",
   "nbconvert_exporter": "python",
   "pygments_lexer": "ipython3",
   "version": "3.6.2"
  }
 },
 "nbformat": 4,
 "nbformat_minor": 2
}
