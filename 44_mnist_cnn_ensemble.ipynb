{
 "cells": [
  {
   "cell_type": "markdown",
   "metadata": {},
   "source": [
    "# 34. MNIST CNN with Ensemble\n",
    "\n",
    "<p style=\"text-align: right;\">\n",
    "blackdew7@gmail.com<br>\n",
    "Your name :\n",
    "</p>\n",
    "\n",
    "### 텐서플로 실습시간 그 여덟번째!<br>\n",
    "\n",
    "#### 선행지식\n",
    "1. TensorFlow 다루기 기초\n",
    "2. 모델링을 한다는 것에 대한 이해.\n",
    "3. Supervised Learning 중 Classification에 대한 기본 지식.\n",
    "4. CNN에 대한 기본 구조와 개념\n",
    "\n",
    "#### 실습목표\n",
    "1. CNN의 구조를 Graph로 그려낼 수 있다.\n",
    "2. 그려낸 Graph를 텐서플로우를 이용해 코딩할 수 있다.\n",
    "3. Dropout을 이해하고 사용할 수 있다.\n",
    "4. Ensemble을 이해하고 사용할 수 있다.\n",
    "5. CNN 레이어 구조를 Class로 구현할 수 있다.\n",
    "\n",
    "#### 사용데이터.\n",
    "\n",
    "01. Multinomial Classification : http://yann.lecun.com/exdb/mnist/"
   ]
  },
  {
   "cell_type": "markdown",
   "metadata": {},
   "source": [
    "## 00. 라이브러리 불러오기"
   ]
  },
  {
   "cell_type": "code",
   "execution_count": null,
   "metadata": {},
   "outputs": [],
   "source": [
    "# 메모리 초기화\n",
    "%reset"
   ]
  },
  {
   "cell_type": "code",
   "execution_count": null,
   "metadata": {},
   "outputs": [],
   "source": [
    "# MNIST and Convolutional Neural Network\n",
    "import numpy as np\n",
    "import tensorflow as tf\n",
    "import random"
   ]
  },
  {
   "cell_type": "markdown",
   "metadata": {},
   "source": [
    "## 01. 데이터 불러오기 & 전처리"
   ]
  },
  {
   "cell_type": "code",
   "execution_count": null,
   "metadata": {},
   "outputs": [],
   "source": [
    "# Graph Clear\n",
    "tf.reset_default_graph()\n",
    "tf.set_random_seed(2017) # random seeding - reproduct\n",
    "\n",
    "from tensorflow.examples.tutorials.mnist import input_data\n",
    "mnist = input_data.read_data_sets(\"./MNIST_data/\", one_hot=True)"
   ]
  },
  {
   "cell_type": "markdown",
   "metadata": {},
   "source": [
    "## 02. 제대로 복습해보자"
   ]
  },
  {
   "cell_type": "code",
   "execution_count": null,
   "metadata": {
    "collapsed": true
   },
   "outputs": [],
   "source": [
    "'''\n",
    "지난 시간에 배운 Prepare Variables 코드를 완성해보자.\n",
    "\n",
    "여러분이 직접 스크립트를 짜야 합니다.\n",
    "복사하여 붙여넣기를 하지 마시고, 직접 타이핑 하는 것을 권장합니다.\n",
    "'''\n",
    "\n",
    "############################\n",
    "# Place Holders\n",
    "\n",
    "############################\n",
    "# Weights & bias\n"
   ]
  },
  {
   "cell_type": "code",
   "execution_count": null,
   "metadata": {
    "collapsed": true
   },
   "outputs": [],
   "source": [
    "'''\n",
    "지난 시간에 배운 CNN Graph 코드를 완성해보자\n",
    "\n",
    "여러분이 직접 스크립트를 짜야 합니다.\n",
    "복사하여 붙여넣기를 하지 마시고, 직접 타이핑 하는 것을 권장합니다.\n",
    "'''\n",
    "\n",
    "#########################\n",
    "# ConvLayer 01 \n",
    "\n",
    "#########################\n",
    "# ConvLayer 02\n",
    "\n",
    "#########################\n",
    "# Dropout\n",
    "\n",
    "#########################\n",
    "# Fully Connected Layer\n",
    "\n",
    "#########################\n",
    "# Cost & Optimizer\n"
   ]
  },
  {
   "cell_type": "code",
   "execution_count": null,
   "metadata": {
    "collapsed": true
   },
   "outputs": [],
   "source": [
    "'''\n",
    "지난 시간에 배운 Traning & Evaluation 코드를 완성해보자\n",
    "\n",
    "여러분이 직접 스크립트를 짜야 합니다.\n",
    "복사하여 붙여넣기를 하지 마시고, 직접 타이핑 하는 것을 권장합니다.\n",
    "'''\n",
    "\n",
    "###########################\n",
    "# Initialize\n",
    "\n",
    "###########################\n",
    "# Training\n",
    "\n",
    "###########################\n",
    "# Evaluation\n"
   ]
  },
  {
   "cell_type": "markdown",
   "metadata": {},
   "source": [
    "## 03. Class 만들기"
   ]
  },
  {
   "cell_type": "code",
   "execution_count": null,
   "metadata": {
    "collapsed": true
   },
   "outputs": [],
   "source": [
    "class ModelCNN:\n",
    "    def __init__(self, sess, name):\n",
    "        self.sess = sess\n",
    "        self.name = name\n",
    "        \n",
    "        self.prepare()\n",
    "        self.build_net()\n",
    "    \n",
    "    def build_net(self):        \n",
    "        # (28, 28, 1) => (14, 14, 32)\n",
    "        conv_layer_01 = self.conv(self.X, 1, 32) \n",
    "\n",
    "        # (14, 14, 32) => (7, 7, 64)\n",
    "        conv_layer_02 = self.conv(conv_layer_01, 32, 64)\n",
    "        \n",
    "        # (7 * 7 * 64) => (1000)\n",
    "        flat = tf.reshape(conv_layer_02, [-1, 7 * 7 * 64])\n",
    "        fc_layer = self.fc(flat, 7 * 7 * 64, 1000, activation=True, dropout=True)\n",
    "        \n",
    "        self.logits = self.fc(fc_layer, 1000, 10, activation=False, dropout=False)\n",
    "        self.cost = self.cost(self.logits, self.Y)\n",
    "        self.accuracy = self.accuracy(self.logits, self.Y)\n",
    "\n",
    "        self.optimizer = self.optimizer(self.cost)\n",
    "        \n",
    "    def prepare(self):\n",
    "        self.learning_rate = 0.001\n",
    "        self.X = tf.placeholder(tf.float32, [None, 28, 28, 1])\n",
    "        self.Y = tf.placeholder(tf.float32, [None, 10])\n",
    "        self.keep_prob = tf.placeholder(tf.float32)\n",
    "        \n",
    "    def conv(self, x, in_cnt, out_cnt):\n",
    "        # for Conv Layer filter - shape=(3, 3, 1)\n",
    "        W = tf.Variable(tf.random_normal([3, 3, in_cnt, out_cnt], stddev=0.01))\n",
    "\n",
    "        # Convolution Layer\n",
    "        conv = tf.nn.conv2d(x, W, strides=[1, 1, 1, 1], padding='SAME')\n",
    "        conv = tf.nn.relu(conv)\n",
    "\n",
    "        # Pooling Layer\n",
    "        pool = tf.nn.max_pool(conv, ksize=[1, 2, 2, 1], strides=[1, 2, 2, 1], padding='SAME')\n",
    "        \n",
    "        return pool\n",
    "    \n",
    "    def fc(self, x, in_cnt, out_cnt, activation=True, dropout=True):\n",
    "        # for Final FC\n",
    "        W = tf.Variable(tf.random_normal([in_cnt, out_cnt], stddev=0.01))\n",
    "        b = tf.Variable(tf.random_normal([out_cnt], stddev=0.01))\n",
    "\n",
    "        # for Final FC\n",
    "        fc = tf.add(tf.matmul(x, W), b)\n",
    "        \n",
    "        # activation\n",
    "        if (activation):\n",
    "            fc = tf.nn.relu(fc)\n",
    "            \n",
    "        # dropout\n",
    "        if (dropout):\n",
    "            fc = tf.nn.dropout(fc, keep_prob=self.keep_prob)\n",
    "        \n",
    "        return fc\n",
    "    \n",
    "    def cost(self, logits, Y):\n",
    "        cross_entropy = tf.nn.softmax_cross_entropy_with_logits(logits=logits, labels=Y)\n",
    "        cost = tf.reduce_mean(cross_entropy)\n",
    "        return cost\n",
    "    \n",
    "    def optimizer(self, cost):\n",
    "        optimizer = tf.train.AdamOptimizer(learning_rate=self.learning_rate).minimize(cost)\n",
    "        return optimizer\n",
    "\n",
    "    def accuracy(self, logits, Y):\n",
    "        correct_prediction = tf.equal(tf.argmax(logits, 1), tf.argmax(Y, 1))\n",
    "        accuracy = tf.reduce_mean(tf.cast(correct_prediction, tf.float32))\n",
    "        return accuracy\n",
    "\n",
    "    def train(self, x_data, y_data, prob=0.7):\n",
    "        return self.sess.run(self.optimizer, feed_dict={self.X: x_data, self.Y: y_data, self.keep_prob: prob})\n",
    "\n",
    "    def predict(self, x_test, prob=1.0):\n",
    "        return self.sess.run(self.logits, feed_dict={self.X: x_test, self.keep_prob: prob})\n",
    "\n",
    "    def get_cost(self, x_data, y_data, prob=0.7):\n",
    "        return self.sess.run(self.cost, feed_dict={self.X: x_data, self.Y: y_data, self.keep_prob: prob})\n",
    "        \n",
    "    def get_accuracy(self, x_test, y_test, prob=1.0):\n",
    "        return self.sess.run(self.accuracy, feed_dict={self.X: x_test, self.Y: y_test, self.keep_prob: prob})"
   ]
  },
  {
   "cell_type": "markdown",
   "metadata": {},
   "source": [
    "## 04. Ensemble"
   ]
  },
  {
   "cell_type": "code",
   "execution_count": null,
   "metadata": {
    "scrolled": false
   },
   "outputs": [],
   "source": [
    "# initialize\n",
    "sess = tf.Session()\n",
    "\n",
    "models = []\n",
    "num_models = 5\n",
    "for m in range(num_models):\n",
    "    models.append(ModelCNN(sess, \"model\" + str(m)))\n",
    "\n",
    "sess.run(tf.global_variables_initializer())\n",
    "\n",
    "print('Learning Started!')\n",
    "\n",
    "epochs = 3\n",
    "batch_size = 200\n",
    "\n",
    "# train each model\n",
    "for m_idx, m in enumerate(models):\n",
    "    print(\"%dth models\" % (m_idx + 1))\n",
    "    \n",
    "    for epoch in range(epochs):\n",
    "        print(\"%dth epoch\" % (epoch + 1))\n",
    "        n_of_batches = int(mnist.train.num_examples / batch_size)\n",
    "        \n",
    "        for i in range(n_of_batches):\n",
    "            batch_xs, batch_ys = mnist.train.next_batch(batch_size)\n",
    "            m.train(batch_xs.reshape([-1, 28, 28, 1]), batch_ys)\n",
    "\n",
    "            # 학습 상황 디스플레이\n",
    "            if ((i + 1) % 5 == 0):\n",
    "                loss = m.get_cost(batch_xs.reshape([-1, 28, 28, 1]), batch_ys)\n",
    "                print(\"%dth records, training cost: %.3f\" % (((i + 1) * batch_size), loss))\n",
    "\n",
    "        print('Accuracy:', m.get_accuracy(mnist.test.images.reshape([-1, 28, 28, 1]), mnist.test.labels))\n",
    "    \n",
    "print('Learning Finished!')\n"
   ]
  },
  {
   "cell_type": "code",
   "execution_count": null,
   "metadata": {},
   "outputs": [],
   "source": [
    "# Test model and check accuracy\n",
    "test_size = len(mnist.test.labels)\n",
    "predictions = np.zeros([test_size, 10])\n",
    "for m_idx, m in enumerate(models):\n",
    "    print((m_idx + 1), 'Accuracy:', m.get_accuracy(mnist.test.images.reshape([-1, 28, 28, 1]), mnist.test.labels))\n",
    "    p = m.predict(mnist.test.images.reshape([-1, 28, 28, 1]))\n",
    "    predictions += p\n",
    "    \n",
    "print(predictions)\n",
    "print(tf.argmax(predictions, 1))\n",
    "\n",
    "# ensemble accuracy\n",
    "ensemble_correct_prediction = tf.equal(tf.argmax(predictions, 1), tf.argmax(mnist.test.labels, 1))\n",
    "ensemble_accuracy = tf.reduce_mean(tf.cast(ensemble_correct_prediction, tf.float32))\n",
    "\n",
    "print('Ensemble accuracy:', sess.run(ensemble_accuracy))"
   ]
  },
  {
   "cell_type": "markdown",
   "metadata": {},
   "source": [
    "### 성능을 한 번 확인해 보자. 제대로 되고 있는걸까?"
   ]
  },
  {
   "cell_type": "code",
   "execution_count": null,
   "metadata": {
    "collapsed": true
   },
   "outputs": [],
   "source": [
    "# Get one and predict\n",
    "r = random.randint(0, mnist.test.num_examples - 1)\n",
    "predictions = np.zeros([1, 10])\n",
    "for m_idx, m in enumerate(models):\n",
    "    p = m.predict(mnist.test.images[r:r + 1].reshape([-1, 28, 28, 1]))\n",
    "    predictions += p\n",
    "    \n",
    "print(\"Label: \", sess.run(tf.argmax(mnist.test.labels[r:r + 1], 1)))\n",
    "print(\"Prediction: \", sess.run(tf.argmax(predictions, 1)))\n",
    "\n",
    "import matplotlib.pyplot as plt\n",
    "plt.imshow(mnist.test.images[r:r + 1].reshape(28, 28), cmap='Greys', interpolation='nearest')\n",
    "plt.show()"
   ]
  },
  {
   "cell_type": "code",
   "execution_count": null,
   "metadata": {
    "collapsed": true
   },
   "outputs": [],
   "source": [
    "# 세션을 종료하자\n",
    "sess.close()"
   ]
  },
  {
   "cell_type": "code",
   "execution_count": null,
   "metadata": {
    "collapsed": true
   },
   "outputs": [],
   "source": []
  }
 ],
 "metadata": {
  "kernelspec": {
   "display_name": "Python 3",
   "language": "python",
   "name": "python3"
  },
  "language_info": {
   "codemirror_mode": {
    "name": "ipython",
    "version": 3
   },
   "file_extension": ".py",
   "mimetype": "text/x-python",
   "name": "python",
   "nbconvert_exporter": "python",
   "pygments_lexer": "ipython3",
   "version": "3.6.2"
  }
 },
 "nbformat": 4,
 "nbformat_minor": 2
}
