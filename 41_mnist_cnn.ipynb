{
 "cells": [
  {
   "cell_type": "markdown",
   "metadata": {},
   "source": [
    "# 41. MNIST CNN\n",
    "\n",
    "<p style=\"text-align: right;\">\n",
    "blackdew7@gmail.com<br>\n",
    "Your name :\n",
    "</p>\n",
    "\n",
    "### 텐서플로 실습시간 그 다섯번째!<br>\n",
    "\n",
    "#### 선행지식\n",
    "1. TensorFlow 다루기 기초\n",
    "2. 모델링을 한다는 것에 대한 이해.\n",
    "3. Supervised Learning 중 Classification에 대한 기본 지식.\n",
    "4. CNN에 대한 기본 구조와 개념\n",
    "\n",
    "#### 실습목표\n",
    "1. CNN의 구조를 Graph로 그려낼 수 있다.\n",
    "2. 그려낸 Graph를 텐서플로우를 이용해 코딩할 수 있다.\n",
    "\n",
    "#### 사용데이터.\n",
    "\n",
    "01. Multinomial Classification : http://yann.lecun.com/exdb/mnist/"
   ]
  },
  {
   "cell_type": "markdown",
   "metadata": {},
   "source": [
    "## 00. 라이브러리 불러오기"
   ]
  },
  {
   "cell_type": "code",
   "execution_count": null,
   "metadata": {
    "collapsed": true
   },
   "outputs": [],
   "source": [
    "# 메모리 초기화\n",
    "%reset"
   ]
  },
  {
   "cell_type": "code",
   "execution_count": null,
   "metadata": {
    "collapsed": true
   },
   "outputs": [],
   "source": [
    "# MNIST and Convolutional Neural Network\n",
    "import tensorflow as tf\n",
    "import random"
   ]
  },
  {
   "cell_type": "markdown",
   "metadata": {},
   "source": [
    "## 01. 데이터 불러오기 & 전처리"
   ]
  },
  {
   "cell_type": "code",
   "execution_count": null,
   "metadata": {
    "collapsed": true
   },
   "outputs": [],
   "source": [
    "from tensorflow.examples.tutorials.mnist import input_data\n",
    "mnist = input_data.read_data_sets(\"./data/MNIST_data/\", one_hot=True)"
   ]
  },
  {
   "cell_type": "code",
   "execution_count": null,
   "metadata": {
    "collapsed": true
   },
   "outputs": [],
   "source": [
    "tf.convert_to_tensor(mnist.train.images).get_shape()"
   ]
  },
  {
   "cell_type": "markdown",
   "metadata": {},
   "source": [
    "### MNIST training dataset\n",
    "* 총 55,000장\n",
    "* 가로, 세로 길이 = 28\n",
    "* 데이터는 28 * 28 = 784 길이의 배열로 담겨있음"
   ]
  },
  {
   "cell_type": "markdown",
   "metadata": {},
   "source": [
    "## 02. Prepare Variables for a CNN Graph with TF"
   ]
  },
  {
   "cell_type": "markdown",
   "metadata": {},
   "source": [
    "### Matrix Convolution Example\n",
    "![image](https://docs.gimp.org/en/images/filters/examples/convolution-calculate.png)"
   ]
  },
  {
   "cell_type": "markdown",
   "metadata": {},
   "source": [
    "### Clear Graph"
   ]
  },
  {
   "cell_type": "code",
   "execution_count": null,
   "metadata": {
    "collapsed": true
   },
   "outputs": [],
   "source": [
    "# Graph Clear\n",
    "tf.reset_default_graph()\n",
    "tf.set_random_seed(2017) # random seeding - reproduct"
   ]
  },
  {
   "cell_type": "markdown",
   "metadata": {},
   "source": [
    "### 02.1 Place Holders"
   ]
  },
  {
   "cell_type": "markdown",
   "metadata": {},
   "source": [
    "#### Input Layer"
   ]
  },
  {
   "cell_type": "code",
   "execution_count": null,
   "metadata": {
    "collapsed": true
   },
   "outputs": [],
   "source": [
    "X = tf.placeholder(tf.float32, [None, 28 * 28], name=\"X\")\n",
    "X_img = tf.reshape(X, [-1, 28, 28, 1], name=\"X_img\") \n",
    "\n",
    "# 2차원 array로 변환: 784 -> 28x28x1 (black/white)"
   ]
  },
  {
   "cell_type": "code",
   "execution_count": null,
   "metadata": {
    "collapsed": true
   },
   "outputs": [],
   "source": [
    "# Layer Shape 확인\n",
    "X.shape\n",
    "X_img.shape"
   ]
  },
  {
   "cell_type": "markdown",
   "metadata": {},
   "source": [
    "#### Output Layer"
   ]
  },
  {
   "cell_type": "code",
   "execution_count": null,
   "metadata": {
    "collapsed": true
   },
   "outputs": [],
   "source": [
    "Y = tf.placeholder(tf.float32, [None, 10], name=\"Y\")"
   ]
  },
  {
   "cell_type": "code",
   "execution_count": null,
   "metadata": {
    "collapsed": true
   },
   "outputs": [],
   "source": [
    "# Layer Shape 확인\n",
    "Y.shape"
   ]
  },
  {
   "cell_type": "markdown",
   "metadata": {},
   "source": [
    "### 02.3 실습 - Prepare Variables for a CNN Graph with TF "
   ]
  },
  {
   "cell_type": "code",
   "execution_count": null,
   "metadata": {
    "collapsed": true
   },
   "outputs": [],
   "source": [
    "'''\n",
    "위의 02 코드를 모아서 Prepare Variables 코드를 완성해보자.\n",
    "\n",
    "여러분이 직접 스크립트를 짜야 합니다.\n",
    "복사하여 붙여넣기를 하지 마시고, 직접 타이핑 하는 것을 권장합니다.\n",
    "'''\n",
    "\n",
    "X = tf.placeholder(tf.float32, shape=[None, 784])\n",
    "X_img = tf.reshape(X, [-1, 28, 28, 1])\n",
    "Y = tf.placeholder(tf.float32, shape=[None, 10])"
   ]
  },
  {
   "cell_type": "markdown",
   "metadata": {},
   "source": [
    "## 03. Make a CNN Graph with TF"
   ]
  },
  {
   "cell_type": "markdown",
   "metadata": {},
   "source": [
    "### 03.1 First Hidden Layer"
   ]
  },
  {
   "cell_type": "markdown",
   "metadata": {},
   "source": [
    "#### Weight for Conv Layer01"
   ]
  },
  {
   "cell_type": "code",
   "execution_count": null,
   "metadata": {
    "collapsed": true
   },
   "outputs": [],
   "source": [
    "# for Conv Layer 01 filter - shape=(3, 3, 1)\n",
    "W1 = tf.Variable(tf.random_normal([3, 3, 1, 32], stddev=0.01), name=\"W1\")"
   ]
  },
  {
   "cell_type": "markdown",
   "metadata": {},
   "source": [
    "#### Convolution Layer"
   ]
  },
  {
   "cell_type": "code",
   "execution_count": null,
   "metadata": {
    "collapsed": true
   },
   "outputs": [],
   "source": [
    "# Convolution Layer 01 -> (?, 28, 28, 32)\n",
    "L1_conv = tf.nn.conv2d(X_img, W1, strides=[1, 1, 1, 1], padding='SAME', name=\"L1_conv\")"
   ]
  },
  {
   "cell_type": "markdown",
   "metadata": {},
   "source": [
    "#### Activation Function: ReLU"
   ]
  },
  {
   "cell_type": "code",
   "execution_count": null,
   "metadata": {
    "collapsed": true
   },
   "outputs": [],
   "source": [
    "L1_conv = tf.nn.relu(L1_conv, name=\"L1_relu\")"
   ]
  },
  {
   "cell_type": "markdown",
   "metadata": {},
   "source": [
    "#### Max Pooling Layer"
   ]
  },
  {
   "cell_type": "code",
   "execution_count": null,
   "metadata": {
    "collapsed": true
   },
   "outputs": [],
   "source": [
    "# Pooling Layer 01 -> (?, 14, 14, 32)\n",
    "L1_pool = tf.nn.max_pool(L1_conv, ksize=[1, 2, 2, 1], strides=[1, 2, 2, 1], \n",
    "                         padding='SAME', name=\"L1_poos\")"
   ]
  },
  {
   "cell_type": "markdown",
   "metadata": {},
   "source": [
    "#### 실습"
   ]
  },
  {
   "cell_type": "code",
   "execution_count": null,
   "metadata": {
    "collapsed": true
   },
   "outputs": [],
   "source": [
    "'''\n",
    "위의 코드를 모아서 First Hidden Layer 코드를 완성해보자\n",
    "\n",
    "여러분이 직접 스크립트를 짜야 합니다.\n",
    "복사하여 붙여넣기를 하지 마시고, 직접 타이핑 하는 것을 권장합니다.\n",
    "'''\n",
    "# input X_img: (28, 28, 1)\n",
    "W1 = tf.Variable(tf.random_normal([3, 3, 1, 32], stddev=0.01))\n",
    "L1_conv = tf.nn.conv2d(X_img, W1, strides=[1, 1, 1, 1], padding='SAME')\n",
    "L1_conv = tf.nn.relu(L1_conv)\n",
    "L1_pool = tf.nn.max_pool(L1_conv, \n",
    "                         ksize=[1, 2, 2, 1], \n",
    "                         strides=[1, 2, 2, 1], padding='SAME')\n",
    "\n",
    "# L1_conv: (28, 28, 32)\n",
    "# L1_pool: (14, 14, 32)"
   ]
  },
  {
   "cell_type": "markdown",
   "metadata": {},
   "source": [
    "### 03.2 Second Hidden Layer"
   ]
  },
  {
   "cell_type": "markdown",
   "metadata": {},
   "source": [
    "#### 바로 실습"
   ]
  },
  {
   "cell_type": "code",
   "execution_count": null,
   "metadata": {
    "collapsed": true
   },
   "outputs": [],
   "source": [
    "'''\n",
    "위의 First Hidden Layer 코드를 참고하여\n",
    "아래 Second Hidden Layer 코드를 완성해보자\n",
    "\n",
    "__ <= 이렇게 된 빈 칸을 채워주시면 됩니다. \n",
    "'''\n",
    "\n",
    "# for Conv Layer 02 filter - shape=(3, 3, 32)\n",
    "W2 = tf.Variable(tf.random_normal([3, 3, 32, 64], stddev=0.01), name=\"W2\")\n",
    "\n",
    "# Convolution Layer 02 -> (?, 14, 14, 64)\n",
    "L2_conv = tf.nn.conv2d(L1_pool, W2, strides=[1, 1, 1, 1], padding='SAME', name=\"L2_conv\")\n",
    "L2_conv = tf.nn.relu(L2_conv, name=\"L2_relu\")\n",
    "\n",
    "# Pooling Layer 02 -> (?, 7, 7, 64)\n",
    "L2_pool = tf.nn.max_pool(L2_conv, ksize=[1, 2, 2, 1], \n",
    "                         strides=[1, 2, 2, 1], \n",
    "                         padding='SAME', name=\"L2_pool\")"
   ]
  },
  {
   "cell_type": "markdown",
   "metadata": {},
   "source": [
    "### 03.3 Flatten Layer & Fully Connected Layer"
   ]
  },
  {
   "cell_type": "markdown",
   "metadata": {},
   "source": [
    "#### Flatten Layer"
   ]
  },
  {
   "cell_type": "code",
   "execution_count": null,
   "metadata": {
    "collapsed": true
   },
   "outputs": [],
   "source": [
    "# Flatten layer - 레이어 펼치기\n",
    "L_flat = tf.reshape(L2_pool, [-1, 7 * 7 * 64], name=\"L_flat\")\n",
    "# tf.flattern 확인"
   ]
  },
  {
   "cell_type": "markdown",
   "metadata": {},
   "source": [
    "#### weight for FC"
   ]
  },
  {
   "cell_type": "code",
   "execution_count": null,
   "metadata": {
    "collapsed": true
   },
   "outputs": [],
   "source": [
    "# for Final FC 7x7x64 inputs -> 10 outputs\n",
    "W_fc = tf.Variable(tf.random_normal([7 * 7 * 64, 10], stddev=0.01), \n",
    "                   name=\"W_fc\")"
   ]
  },
  {
   "cell_type": "markdown",
   "metadata": {},
   "source": [
    "#### bias"
   ]
  },
  {
   "cell_type": "code",
   "execution_count": null,
   "metadata": {
    "collapsed": true
   },
   "outputs": [],
   "source": [
    "# bias\n",
    "b = tf.Variable(tf.random_normal([10]), name=\"bias\")"
   ]
  },
  {
   "cell_type": "markdown",
   "metadata": {},
   "source": [
    "#### Fully connected layer"
   ]
  },
  {
   "cell_type": "code",
   "execution_count": null,
   "metadata": {
    "collapsed": true
   },
   "outputs": [],
   "source": [
    "# logits = W_fc * L_flat + bias\n",
    "logits = tf.add(tf.matmul(L_flat, W_fc), b, name='logits')"
   ]
  },
  {
   "cell_type": "markdown",
   "metadata": {},
   "source": [
    "#### 실습"
   ]
  },
  {
   "cell_type": "code",
   "execution_count": null,
   "metadata": {
    "collapsed": true
   },
   "outputs": [],
   "source": [
    "'''\n",
    "위의 코드를 모아서 Fully Connected Layer 코드를 완성해보자\n",
    "\n",
    "여러분이 직접 스크립트를 짜야 합니다.\n",
    "복사하여 붙여넣기를 하지 마시고, 직접 타이핑 하는 것을 권장합니다.\n",
    "'''\n",
    "\n",
    "L_flat = tf.reshape(L2_pool, [-1, 7 * 7 * 64])\n",
    "W_fc = tf.Variable(tf.random_normal([7 * 7 * 64, 10], stddev=0.01))\n",
    "b_fc = tf.Variable(tf.random_normal([10]))\n",
    "logits = tf.add(tf.matmul(L_flat, W_fc), b_fc)\n"
   ]
  },
  {
   "cell_type": "markdown",
   "metadata": {},
   "source": [
    "### 03.4 Cost & Optimizer"
   ]
  },
  {
   "cell_type": "markdown",
   "metadata": {},
   "source": [
    "#### Hyper parameters - learning late"
   ]
  },
  {
   "cell_type": "code",
   "execution_count": null,
   "metadata": {
    "collapsed": true
   },
   "outputs": [],
   "source": [
    "learning_rate = 0.001"
   ]
  },
  {
   "cell_type": "markdown",
   "metadata": {},
   "source": [
    "#### Cost(Loss) Function - SoftMax"
   ]
  },
  {
   "cell_type": "code",
   "execution_count": null,
   "metadata": {
    "collapsed": true
   },
   "outputs": [],
   "source": [
    "# Cost(loss) function - softmax\n",
    "cost = tf.reduce_mean(tf.nn.softmax_cross_entropy_with_logits(logits=logits, labels=Y), name=\"cost\")"
   ]
  },
  {
   "cell_type": "markdown",
   "metadata": {},
   "source": [
    "#### Optimizer - Adam"
   ]
  },
  {
   "cell_type": "code",
   "execution_count": null,
   "metadata": {
    "collapsed": true
   },
   "outputs": [],
   "source": [
    "# Optimizer - Adam\n",
    "optimizer = tf.train.AdamOptimizer(learning_rate=learning_rate).minimize(cost)"
   ]
  },
  {
   "cell_type": "code",
   "execution_count": null,
   "metadata": {
    "collapsed": true
   },
   "outputs": [],
   "source": [
    "'''\n",
    "위의 코드를 모아서 Cost& Optimizer 코드를 완성해보자\n",
    "\n",
    "여러분이 직접 스크립트를 짜야 합니다.\n",
    "'''\n"
   ]
  },
  {
   "cell_type": "markdown",
   "metadata": {},
   "source": [
    "### 03.5 실습 - Make a CNN Graph with TF"
   ]
  },
  {
   "cell_type": "code",
   "execution_count": null,
   "metadata": {
    "collapsed": true
   },
   "outputs": [],
   "source": [
    "'''\n",
    "위의 03 실습 코드를 모아서 CNN Graph 코드를 완성해보자\n",
    "\n",
    "여러분이 직접 스크립트를 짜야 합니다.\n",
    "복사하여 붙여넣기를 하지 마시고, 직접 타이핑 하는 것을 권장합니다.\n",
    "'''\n",
    "\n",
    "W1 = tf.Variable(tf.random_normal([3, 3, 1, 32], stddev=0.01), name=\"W1\")\n",
    "L1_conv = tf.nn.conv2d(X_img, W1, strides=[1, 1, 1, 1], padding='SAME', name=\"L1_conv\")\n",
    "L1_conv = tf.nn.relu(L1_conv, name=\"L1_relu\")\n",
    "L1_pool = tf.nn.max_pool(L1_conv, ksize=[1, 2, 2, 1], strides=[1, 2, 2, 1], padding='SAME', name='L1_pool')\n",
    "# Pooling Layer 02 -> (?, __, __, __)\n",
    "\n",
    "\n",
    "# for Conv Layer 02 filter - shape=(3, 3, 32)\n",
    "W2 = tf.Variable(tf.random_normal([3, 3, 32, 64], stddev=0.01), name=\"W2\")\n",
    "# Convolution Layer 02 -> (?, 14, 14, 32)\n",
    "L2_conv = tf.nn.conv2d(L1_pool, W2, strides=[1, 1, 1, 1], padding='SAME', name=\"L2_conv\")\n",
    "L2_conv = tf.nn.relu(L2_conv, name=\"L2_relu\")\n",
    "L2_pool = tf.nn.max_pool(L2_conv, ksize=[1, 2, 2, 1], strides=[1, 2, 2, 1], padding='SAME', name=\"L2_pool\")\n",
    "# Pooling Layer 02 -> (?, __, __, __)\n",
    "\n",
    "\n",
    "L_flat = tf.reshape(L2_pool, [-1, 7 * 7 * 64], name=\"L_flat\")\n",
    "W_fc = tf.Variable(tf.random_normal([7 * 7 * 64, 10], stddev=0.01))\n",
    "b = tf.Variable(tf.random_normal([10]), name=\"bias\")\n",
    "logits = tf.add(tf.matmul(L_flat, W_fc), b, name='logits')\n",
    "\n",
    "\n",
    "learning_rate = 0.001\n",
    "# Cost(loss) function - softmax\n",
    "cost = tf.reduce_mean(tf.nn.softmax_cross_entropy_with_logits(logits=logits, labels=Y), name=\"cost\")\n",
    "# Optimizer - Adam\n",
    "optimizer = tf.train.AdamOptimizer(learning_rate=learning_rate).minimize(cost)"
   ]
  },
  {
   "cell_type": "markdown",
   "metadata": {},
   "source": [
    "## 04. Traning & Evaluation"
   ]
  },
  {
   "cell_type": "markdown",
   "metadata": {},
   "source": [
    "### 04.1 initialize"
   ]
  },
  {
   "cell_type": "code",
   "execution_count": null,
   "metadata": {
    "collapsed": true
   },
   "outputs": [],
   "source": [
    "# initialize\n",
    "sess = tf.Session()\n",
    "sess.run(tf.global_variables_initializer())"
   ]
  },
  {
   "cell_type": "markdown",
   "metadata": {},
   "source": [
    "### 04.2 traning test code - 10개 데이터를 가져와서 5회 학습"
   ]
  },
  {
   "cell_type": "code",
   "execution_count": null,
   "metadata": {
    "collapsed": true
   },
   "outputs": [],
   "source": [
    "# 500개씩 가져와서 학습\n",
    "batch_size = 500\n",
    "\n",
    "# 55000개의 데이터 500개씩 110번 가져와야 전체를 학습하게 된다.\n",
    "n_of_batches = int(mnist.train.num_examples / batch_size)\n"
   ]
  },
  {
   "cell_type": "code",
   "execution_count": null,
   "metadata": {
    "collapsed": true
   },
   "outputs": [],
   "source": [
    "# n_of_batches회 동안 batch_size개씩 가져와서 학습 진행\n",
    "\n",
    "for i in range(n_of_batches):\n",
    "    X_batch, Y_batch = mnist.train.next_batch(batch_size)\n",
    "    sess.run(optimizer, feed_dict={X: X_batch, Y: Y_batch})\n",
    "\n",
    "    # 학습 상황 디스플레이\n",
    "    if ((i + 1) % 2 == 0):\n",
    "        loss = sess.run(cost, feed_dict={X: X_batch, Y: Y_batch})\n",
    "        print(\"training cost: %.3f\" % loss)"
   ]
  },
  {
   "cell_type": "markdown",
   "metadata": {},
   "source": [
    "### 04.3 Evaluation"
   ]
  },
  {
   "cell_type": "code",
   "execution_count": null,
   "metadata": {
    "collapsed": true
   },
   "outputs": [],
   "source": [
    "# Test model and check accuracy\n",
    "correct_prediction = tf.equal(tf.argmax(logits, 1), tf.argmax(Y, 1))\n",
    "acc = tf.reduce_mean(tf.cast(correct_prediction, tf.float32))\n",
    "accuracy = sess.run(acc, feed_dict={X: mnist.test.images, Y: mnist.test.labels})\n",
    "\n",
    "print('Accuracy: %.2f' % (accuracy * 100))"
   ]
  },
  {
   "cell_type": "markdown",
   "metadata": {},
   "source": [
    "### 04.4 실습 - Traning & Evaluation"
   ]
  },
  {
   "cell_type": "code",
   "execution_count": null,
   "metadata": {
    "collapsed": true
   },
   "outputs": [],
   "source": [
    "'''\n",
    "위의 04 코드를 참고해서 \n",
    "Traning & Evaluation 코드를 완성해보자\n",
    "\n",
    "__ <= 이렇게 된 빈 칸을 채워주시면 됩니다. \n",
    "'''\n",
    "\n",
    "###########################\n",
    "# Initialize\n",
    "sess = tf.Session()\n",
    "sess.run(tf.global_variables_initializer())\n",
    "\n",
    "###########################\n",
    "# Training\n",
    "\n",
    "print('Learning started. It takes sometime.')\n",
    "\n",
    "# 55000개의 데이터 500개씩 110번 가져와야 전체를 학습하게 된다.\n",
    "batch_size = 500\n",
    "n_of_batches = int(mnist.train.num_examples / batch_size)\n",
    "\n",
    "for i in range(n_of_batches):\n",
    "    X_batch, Y_batch = mnist.train.next_batch(batch_size)\n",
    "    sess.run(optimizer, feed_dict={X: X_batch, Y: Y_batch})\n",
    "\n",
    "    # 학습 상황 디스플레이\n",
    "    if ((i + 1) % 2 == 0):\n",
    "        loss = sess.run(cost, feed_dict={X: X_batch, Y: Y_batch})\n",
    "        print(\"training cost: %.3f\" % loss)\n",
    "\n",
    "print(\"Training Complete\")\n",
    "\n",
    "###########################\n",
    "# Evaluation\n",
    "\n",
    "# Test model and check accuracy\n",
    "correct_prediction = tf.equal(tf.argmax(logits, 1), tf.argmax(Y, 1))\n",
    "acc = tf.reduce_mean(tf.cast(correct_prediction, tf.float32))\n",
    "accuracy = sess.run(acc, feed_dict={X: mnist.test.images, Y: mnist.test.labels})\n",
    "\n",
    "print('Accuracy: %.2f' % (accuracy * 100))"
   ]
  },
  {
   "cell_type": "markdown",
   "metadata": {},
   "source": [
    "## 05. 실습 해답"
   ]
  },
  {
   "cell_type": "markdown",
   "metadata": {},
   "source": [
    "### 05.1 Import Library & Prepare MNIST Data"
   ]
  },
  {
   "cell_type": "code",
   "execution_count": null,
   "metadata": {
    "collapsed": true
   },
   "outputs": [],
   "source": [
    "import tensorflow as tf\n",
    "from tbij import show_graph # Tensor Board In Jupyter notebook. You can see this later.\n",
    "\n",
    "from tensorflow.examples.tutorials.mnist import input_data\n",
    "mnist = input_data.read_data_sets(\"./data/MNIST_data/\", one_hot=True)\n"
   ]
  },
  {
   "cell_type": "markdown",
   "metadata": {},
   "source": [
    "### 05.2 Prepare Variables for a CNN Graph with TF"
   ]
  },
  {
   "cell_type": "code",
   "execution_count": null,
   "metadata": {
    "collapsed": true
   },
   "outputs": [],
   "source": [
    "# Graph Clear\n",
    "tf.reset_default_graph()\n",
    "tf.set_random_seed(2017) # random seeding - reproduct\n",
    "\n",
    "############################\n",
    "# Place Holders\n",
    "\n",
    "X = tf.placeholder(tf.float32, [None, 784], name=\"X\")\n",
    "X_img = tf.reshape(X, [-1, 28, 28, 1], name=\"X_img\")\n",
    "Y = tf.placeholder(tf.float32, [None, 10], name=\"Y\")\n"
   ]
  },
  {
   "cell_type": "markdown",
   "metadata": {},
   "source": [
    "### 05.3 Make a CNN Graph & Run Session with TF"
   ]
  },
  {
   "cell_type": "code",
   "execution_count": null,
   "metadata": {
    "collapsed": true
   },
   "outputs": [],
   "source": [
    "#########################\n",
    "# ConvLayer 01 \n",
    "\n",
    "with tf.name_scope(\"layer1_conv\"):\n",
    "\n",
    "    # for Conv Layer 01 filter - shape=(3, 3, 1)\n",
    "    W1 = tf.Variable(tf.random_normal([3, 3, 1, 24], stddev=0.01), name=\"W1\")\n",
    "\n",
    "    # Convolution Layer 01 -> (?, 28, 28, 32)\n",
    "    L1_conv = tf.nn.conv2d(X_img, W1, strides=[1, 1, 1, 1], padding='SAME', name=\"L1_conv\")\n",
    "    L1_conv = tf.nn.relu(L1_conv, name=\"L1_relu\")\n",
    "\n",
    "    # Pooling Layer 01 -> (?, 14, 14, 32)\n",
    "    L1_pool = tf.nn.max_pool(L1_conv, ksize=[1, 2, 2, 1], strides=[1, 2, 2, 1], padding='SAME', name=\"L1_max_pool\")\n",
    "\n",
    "    \n",
    "#########################\n",
    "# ConvLayer 02\n",
    "\n",
    "with tf.name_scope(\"layer2_conv\"):\n",
    "\n",
    "    # for Conv Layer 02 filter - shape=(3, 3, 32)\n",
    "    W2 = tf.Variable(tf.random_normal([3, 3, 24, 64], stddev=0.01), name=\"W2\")\n",
    "\n",
    "    # Convolution Layer 02 -> (?, 14, 14, 32)\n",
    "    L2_conv = tf.nn.conv2d(L1_pool, W2, strides=[1, 1, 1, 1], padding='SAME', name=\"L2_conv\")\n",
    "    L2_conv = tf.nn.relu(L2_conv, name=\"L2_relu\")\n",
    "\n",
    "    # Pooling Layer 02 -> (?, 7, 7, 64)\n",
    "    L2_pool = tf.nn.max_pool(L2_conv, ksize=[1, 2, 2, 1], strides=[1, 2, 2, 1], padding='SAME', name=\"L2_max_pool\")\n",
    "\n",
    "    \n",
    "#########################\n",
    "# Flatten layer & Fully Connected Layer\n",
    "\n",
    "with tf.name_scope(\"L_FC\"):\n",
    "\n",
    "    ###############################\n",
    "    # Flatten layer\n",
    "    L_flat = tf.reshape(L2_pool, [-1, 7 * 7 * 64], name=\"L_flat\")\n",
    "\n",
    "    ###############################\n",
    "    # Fully Connected Layer\n",
    "\n",
    "    # for Final FC 7x7x64 inputs -> 10 outputs\n",
    "    W_fc = tf.Variable(tf.random_normal([7 * 7 * 64, 10], stddev=0.01), name=\"W_fc\")\n",
    "\n",
    "    # bias\n",
    "    b = tf.Variable(tf.random_normal([10]), name=\"b\")\n",
    "    \n",
    "    # fc layer\n",
    "    logits = tf.add(tf.matmul(L_flat, W_fc), b, name='logits')\n",
    "\n",
    "    \n",
    "#########################\n",
    "# Cost & Optimizer\n",
    "\n",
    "learning_rate = 0.001\n",
    "\n",
    "with tf.name_scope(\"Optimizer\"):\n",
    "    # Cost(loss) function & Optimizer\n",
    "    cost = tf.reduce_mean(tf.nn.softmax_cross_entropy_with_logits(logits=logits, labels=Y), name=\"cost\")\n",
    "    optimizer = tf.train.AdamOptimizer(learning_rate=learning_rate).minimize(cost)\n"
   ]
  },
  {
   "cell_type": "markdown",
   "metadata": {},
   "source": [
    "### 05.4 Training & Evaluation"
   ]
  },
  {
   "cell_type": "code",
   "execution_count": null,
   "metadata": {
    "collapsed": true
   },
   "outputs": [],
   "source": [
    "#########################\n",
    "# Session initialize\n",
    "\n",
    "sess = tf.Session()\n",
    "sess.run(tf.global_variables_initializer())\n",
    "\n",
    "\n",
    "###########################\n",
    "# Traning\n",
    "\n",
    "print('Learning started. It takes sometime.')\n",
    "\n",
    "# 55000개의 데이터 500개씩 110번 가져와야 전체를 학습하게 된다.\n",
    "batch_size = 500\n",
    "n_of_batches = int(mnist.train.num_examples / batch_size)\n",
    "\n",
    "# n_of_batches회 동안 batch_size개씩 가져와서 학습 진행\n",
    "for i in range(n_of_batches):\n",
    "    X_batch, Y_batch = mnist.train.next_batch(batch_size)\n",
    "    sess.run(optimizer, feed_dict={X: X_batch, Y: Y_batch})\n",
    "\n",
    "    # 학습 상황 디스플레이\n",
    "    if ((i + 1) % 2 == 0):\n",
    "        loss = sess.run(cost, feed_dict={X: X_batch, Y: Y_batch})\n",
    "        print(\"training cost: %.3f\" % loss)\n",
    "        \n",
    "print(\"Training Complete\")\n",
    "\n",
    "\n",
    "###########################\n",
    "# Evaluation\n",
    "with tf.name_scope(\"Prediction\"):\n",
    "    # Test model and check accuracy\n",
    "    correct_prediction = tf.equal(tf.argmax(logits, 1), tf.argmax(Y, 1), name=\"compare\")\n",
    "    acc = tf.reduce_mean(tf.cast(correct_prediction, tf.float32), name=\"accuracy\")\n",
    "    accuracy = sess.run(acc, feed_dict={X: mnist.test.images, Y: mnist.test.labels})\n",
    "\n",
    "print('Accuracy: %.2f' % (accuracy * 100))"
   ]
  },
  {
   "cell_type": "markdown",
   "metadata": {},
   "source": [
    "#### 그래프도 그려보자"
   ]
  },
  {
   "cell_type": "code",
   "execution_count": null,
   "metadata": {
    "collapsed": true
   },
   "outputs": [],
   "source": [
    "from tbij import show_graph # Tensor Board In Jupyter notebook. You can see this later.\n",
    "show_graph(tf.get_default_graph().as_graph_def())"
   ]
  },
  {
   "cell_type": "markdown",
   "metadata": {},
   "source": [
    "### 성능을 한 번 확인해 보자. 제대로 되고 있는걸까?"
   ]
  },
  {
   "cell_type": "code",
   "execution_count": null,
   "metadata": {
    "collapsed": true
   },
   "outputs": [],
   "source": [
    "import random\n",
    "\n",
    "# Get one and predict\n",
    "r = random.randint(0, mnist.test.num_examples - 1)\n",
    "print(\"Label: \", sess.run(tf.argmax(mnist.test.labels[r:r + 1], 1)))\n",
    "print(\"Prediction: \", sess.run(tf.argmax(logits, 1), feed_dict={X: mnist.test.images[r:r + 1]}))\n",
    "\n",
    "import matplotlib.pyplot as plt\n",
    "plt.imshow(mnist.test.images[r:r + 1].reshape(28, 28), cmap='Greys', interpolation='nearest')\n",
    "plt.show()"
   ]
  },
  {
   "cell_type": "markdown",
   "metadata": {},
   "source": [
    "### 05.5 More Training"
   ]
  },
  {
   "cell_type": "markdown",
   "metadata": {},
   "source": [
    "#### build cnn"
   ]
  },
  {
   "cell_type": "code",
   "execution_count": null,
   "metadata": {
    "collapsed": true
   },
   "outputs": [],
   "source": [
    "# Graph Clear\n",
    "tf.reset_default_graph()\n",
    "tf.set_random_seed(2017) # random seeding - reproduct\n",
    "\n",
    "############################\n",
    "# Place Holders\n",
    "\n",
    "X = tf.placeholder(tf.float32, [None, 784], name=\"X\")\n",
    "X_img = tf.reshape(X, [-1, 28, 28, 1], name=\"X_img\")\n",
    "Y = tf.placeholder(tf.float32, [None, 10], name=\"Y\")\n",
    "\n",
    "\n",
    "#########################\n",
    "# ConvLayer 01 \n",
    "\n",
    "with tf.name_scope(\"layer1_conv\"):\n",
    "\n",
    "    # for Conv Layer 01 filter - shape=(3, 3, 1)\n",
    "    W1 = tf.Variable(tf.random_normal([3, 3, 1, 32], stddev=0.01), name=\"W1\")\n",
    "\n",
    "    # Convolution Layer 01 -> (?, 28, 28, 32)\n",
    "    L1 = tf.nn.conv2d(X_img, W1, strides=[1, 1, 1, 1], padding='SAME', name=\"L1_conv\")\n",
    "    L1 = tf.nn.relu(L1, name=\"L1_relu\")\n",
    "\n",
    "    # Pooling Layer 01 -> (?, 14, 14, 32)\n",
    "    L1 = tf.nn.max_pool(L1, ksize=[1, 2, 2, 1], strides=[1, 2, 2, 1], padding='SAME', name=\"L1_max_pool\")\n",
    "\n",
    "    \n",
    "#########################\n",
    "# ConvLayer 02\n",
    "\n",
    "with tf.name_scope(\"layer2_conv\"):\n",
    "\n",
    "    # for Conv Layer 02 filter - shape=(3, 3, 32)\n",
    "    W2 = tf.Variable(tf.random_normal([3, 3, 32, 64], stddev=0.01), name=\"W2\")\n",
    "\n",
    "    # Convolution Layer 02 -> (?, 14, 14, 64)\n",
    "    L2 = tf.nn.conv2d(L1, W2, strides=[1, 1, 1, 1], padding='SAME', name=\"L2_conv\")\n",
    "    L2 = tf.nn.relu(L2, name=\"L2_relu\")\n",
    "\n",
    "    # Pooling Layer 02 -> (?, 7, 7, 64)\n",
    "    L2 = tf.nn.max_pool(L2, ksize=[1, 2, 2, 1], strides=[1, 2, 2, 1], padding='SAME', name=\"L2_max_pool\")\n",
    "\n",
    "    \n",
    "#########################\n",
    "# Fully Connected Layer\n",
    "\n",
    "with tf.name_scope(\"L_FC\"):\n",
    "\n",
    "    ###############################\n",
    "    # Flatten layer\n",
    "    L_flat = tf.reshape(L2, [-1, 7 * 7 * 64], name=\"L_flat\")\n",
    "\n",
    "    ###############################\n",
    "    # Fully Connected Layer\n",
    "\n",
    "    # for Final FC 7x7x64 inputs -> 10 outputs\n",
    "    W_fc = tf.Variable(tf.random_normal([7 * 7 * 64, 10], stddev=0.01), name=\"W_fc\")\n",
    "\n",
    "    # bias\n",
    "    b = tf.Variable(tf.random_normal([10]), name=\"b\")\n",
    "    \n",
    "    # fc layer\n",
    "    logits = tf.add(tf.matmul(L_flat, W_fc), b, name='logits')\n",
    "\n",
    "    \n",
    "#########################\n",
    "# Cost & Optimizer\n",
    "\n",
    "learning_rate = 0.001\n",
    "\n",
    "with tf.name_scope(\"Optimizer\"):\n",
    "    # Cost(loss) function & Optimizer\n",
    "    cost = tf.reduce_mean(\n",
    "             tf.nn.softmax_cross_entropy_with_logits(logits=logits, labels=Y), name=\"cost\")\n",
    "    optimizer = tf.train.AdamOptimizer(learning_rate=learning_rate).minimize(cost)\n"
   ]
  },
  {
   "cell_type": "markdown",
   "metadata": {},
   "source": [
    "#### traning epoch & evaluation"
   ]
  },
  {
   "cell_type": "code",
   "execution_count": null,
   "metadata": {
    "collapsed": true
   },
   "outputs": [],
   "source": [
    "#########################\n",
    "# Session initialize\n",
    "\n",
    "sess = tf.Session()\n",
    "sess.run(tf.global_variables_initializer())\n",
    "\n",
    "###########################\n",
    "# Traning\n",
    "\n",
    "# train my model\n",
    "print('Learning started. It takes sometime.')\n",
    "        \n",
    "epochs = 2\n",
    "batch_size = 500\n",
    "\n",
    "for epoch in range(epochs):\n",
    "    print(\"%dth epoch\" % epoch)\n",
    "\n",
    "    # 총 갯수: 55000개를 500개씩 (batch_size) 나누어 훈련 \n",
    "    #        => 110번 (n_of_batches) 훈련하게 된다. \n",
    "    n_of_batches = int(mnist.train.num_examples / batch_size)\n",
    "    \n",
    "    for i in range(n_of_batches):\n",
    "        X_batch, Y_batch = mnist.train.next_batch(batch_size)\n",
    "        # 학습 진행\n",
    "        sess.run(optimizer, feed_dict={X: X_batch, Y: Y_batch})\n",
    "        \n",
    "        if ((i + 1) % 2 == 0):\n",
    "            # 학습 상황 디스플레이\n",
    "            loss = sess.run(cost, feed_dict={X: X_batch, Y: Y_batch})\n",
    "            print(\"%dth records, training cost: %.3f\" % (((i + 1) * batch_size), loss))\n",
    "        \n",
    "        \n",
    "print(\"Training Complete\")\n",
    "\n",
    "###########################\n",
    "# Evaluation\n",
    "\n",
    "# Test model and check accuracy\n",
    "correct_prediction = tf.equal(tf.argmax(logits, 1, name=\"predict\"), tf.argmax(Y, 1, name=\"real\"), name=\"compare\")\n",
    "acc = tf.reduce_mean(tf.cast(correct_prediction, tf.float32), name=\"accuracy\")\n",
    "accuracy= sess.run(acc, feed_dict={X: mnist.test.images, Y: mnist.test.labels})\n",
    "\n",
    "print('Accuracy: %.2f' % (accuracy * 100))\n"
   ]
  },
  {
   "cell_type": "markdown",
   "metadata": {},
   "source": [
    "## 06. 대체 뭘 학습한 것인가? "
   ]
  },
  {
   "cell_type": "code",
   "execution_count": null,
   "metadata": {
    "collapsed": true
   },
   "outputs": [],
   "source": [
    "%matplotlib inline\n",
    "import matplotlib.pyplot as plt\n",
    "import math\n",
    "import numpy as np\n",
    "\n",
    "def plot_conv_weights(weights, input_channel=0):\n",
    "    \n",
    "    with tf.Session() as sess:\n",
    "        sess.run(tf.global_variables_initializer())\n",
    "\n",
    "        w = sess.run(weights)\n",
    "\n",
    "        w_min = np.min(w)\n",
    "        w_max = np.max(w)\n",
    "\n",
    "        num_filters = w.shape[3]\n",
    "        num_grids = math.ceil(math.sqrt(num_filters))\n",
    "        fig, axes = plt.subplots(num_grids, num_grids)\n",
    "\n",
    "        for i, ax in enumerate(axes.flat):\n",
    "            if i < num_filters:\n",
    "                img = w[:, :, input_channel, i]\n",
    "                ax.imshow(img, vmin=w_min, vmax=w_max, interpolation='nearest', cmap='seismic')\n",
    "\n",
    "            ax.set_xticks([])\n",
    "            ax.set_yticks([])\n",
    "\n",
    "        plt.show()"
   ]
  },
  {
   "cell_type": "code",
   "execution_count": null,
   "metadata": {
    "collapsed": true
   },
   "outputs": [],
   "source": [
    "plot_conv_weights(weights=W1)"
   ]
  },
  {
   "cell_type": "code",
   "execution_count": null,
   "metadata": {
    "collapsed": true
   },
   "outputs": [],
   "source": [
    "plot_conv_weights(weights=W2, input_channel=0)"
   ]
  },
  {
   "cell_type": "code",
   "execution_count": null,
   "metadata": {
    "collapsed": true
   },
   "outputs": [],
   "source": [
    "plot_conv_weights(weights=W2, input_channel=1)"
   ]
  },
  {
   "cell_type": "code",
   "execution_count": null,
   "metadata": {
    "collapsed": true
   },
   "outputs": [],
   "source": [
    "%matplotlib inline\n",
    "import matplotlib.pyplot as plt\n",
    "import math\n",
    "import numpy as np\n",
    "\n",
    "def plot_conv_layer(layer, image):\n",
    "\n",
    "    with tf.Session() as sess:\n",
    "\n",
    "        sess.run(tf.global_variables_initializer())\n",
    "\n",
    "        feed_dict = {X: [image]}\n",
    "        values = sess.run(layer, feed_dict=feed_dict)\n",
    "\n",
    "        num_filters = values.shape[3]\n",
    "        num_grids = math.ceil(math.sqrt(num_filters))\n",
    "        fig, axes = plt.subplots(num_grids, num_grids)\n",
    "\n",
    "        for i, ax in enumerate(axes.flat):\n",
    "            if i < num_filters:\n",
    "                img = values[0, :, :, i]\n",
    "                ax.imshow(img, interpolation='nearest', cmap='binary')\n",
    "                \n",
    "            ax.set_xticks([])\n",
    "            ax.set_yticks([])\n",
    "\n",
    "        plt.show()"
   ]
  },
  {
   "cell_type": "code",
   "execution_count": null,
   "metadata": {
    "collapsed": true
   },
   "outputs": [],
   "source": [
    "img_shape = (28, 28)\n",
    "\n",
    "def plot_image(image):\n",
    "    plt.imshow(image.reshape(img_shape),\n",
    "               interpolation='nearest',\n",
    "               cmap='binary')\n",
    "\n",
    "    plt.show()\n",
    "    \n",
    "image1 = mnist.test.images[0]\n",
    "plot_image(image1)\n",
    "\n",
    "image2 = mnist.test.images[1]\n",
    "plot_image(image2)"
   ]
  },
  {
   "cell_type": "code",
   "execution_count": null,
   "metadata": {
    "collapsed": true
   },
   "outputs": [],
   "source": [
    "plot_conv_layer(layer=L1_pool, image=image2)"
   ]
  },
  {
   "cell_type": "code",
   "execution_count": null,
   "metadata": {
    "collapsed": true
   },
   "outputs": [],
   "source": [
    "plot_conv_layer(layer=L2_pool, image=image2)"
   ]
  },
  {
   "cell_type": "code",
   "execution_count": null,
   "metadata": {
    "collapsed": true
   },
   "outputs": [],
   "source": [
    "session.close()"
   ]
  },
  {
   "cell_type": "code",
   "execution_count": null,
   "metadata": {
    "collapsed": true
   },
   "outputs": [],
   "source": []
  }
 ],
 "metadata": {
  "kernelspec": {
   "display_name": "Python 3",
   "language": "python",
   "name": "python3"
  },
  "language_info": {
   "codemirror_mode": {
    "name": "ipython",
    "version": 3
   },
   "file_extension": ".py",
   "mimetype": "text/x-python",
   "name": "python",
   "nbconvert_exporter": "python",
   "pygments_lexer": "ipython3",
   "version": "3.6.2"
  }
 },
 "nbformat": 4,
 "nbformat_minor": 2
}
