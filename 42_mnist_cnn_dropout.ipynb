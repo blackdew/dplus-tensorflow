{
 "cells": [
  {
   "cell_type": "markdown",
   "metadata": {},
   "source": [
    "# 42. MNIST CNN with Dropout\n",
    "\n",
    "<p style=\"text-align: right;\">\n",
    "blackdew7@gmail.com<br>\n",
    "Your name :\n",
    "</p>\n",
    "\n",
    "### 텐서플로 실습시간 그 여섯번째!<br>\n",
    "\n",
    "#### 선행지식\n",
    "1. TensorFlow 다루기 기초\n",
    "2. 모델링을 한다는 것에 대한 이해.\n",
    "3. Supervised Learning 중 Classification에 대한 기본 지식.\n",
    "4. CNN에 대한 기본 구조와 개념\n",
    "\n",
    "#### 실습목표\n",
    "1. CNN의 구조를 Graph로 그려낼 수 있다.\n",
    "2. 그려낸 Graph를 텐서플로우를 이용해 코딩할 수 있다.\n",
    "3. Dropout을 이해하고 사용할 수 있다.\n",
    "\n",
    "#### 사용데이터.\n",
    "\n",
    "01. Multinomial Classification : http://yann.lecun.com/exdb/mnist/"
   ]
  },
  {
   "cell_type": "markdown",
   "metadata": {},
   "source": [
    "## 00. 라이브러리 불러오기"
   ]
  },
  {
   "cell_type": "code",
   "execution_count": null,
   "metadata": {
    "collapsed": true
   },
   "outputs": [],
   "source": [
    "# 메모리 초기화\n",
    "%reset\n",
    "\n",
    "# MNIST and Convolutional Neural Network\n",
    "import tensorflow as tf\n",
    "import random"
   ]
  },
  {
   "cell_type": "markdown",
   "metadata": {},
   "source": [
    "## 01. 데이터 불러오기 & 전처리"
   ]
  },
  {
   "cell_type": "code",
   "execution_count": null,
   "metadata": {
    "collapsed": true
   },
   "outputs": [],
   "source": [
    "from tensorflow.examples.tutorials.mnist import input_data\n",
    "mnist = input_data.read_data_sets(\"./data/MNIST_data/\", one_hot=True)"
   ]
  },
  {
   "cell_type": "markdown",
   "metadata": {},
   "source": [
    "## 02. Prepare Variables for a CNN Graph with TF"
   ]
  },
  {
   "cell_type": "code",
   "execution_count": null,
   "metadata": {
    "collapsed": true
   },
   "outputs": [],
   "source": [
    "'''\n",
    "지난 시간에 배운 Prepare Variables 코드를 완성해보자.\n",
    "\n",
    "여러분이 직접 스크립트를 짜야 합니다.\n",
    "복사하여 붙여넣기를 하지 마시고, 직접 타이핑 하는 것을 권장합니다.\n",
    "'''\n",
    "\n",
    "# Graph Clear\n",
    "tf.reset_default_graph()\n",
    "tf.set_random_seed(2017) # random seeding - reproduct\n",
    "\n",
    "############################\n",
    "# Place Holders\n",
    "\n",
    "X = tf.placeholder(tf.float32, [None, 784], name=\"X\")\n",
    "X_img = tf.reshape(X, [-1, 28, 28, 1], name=\"X_img\")\n",
    "Y = tf.placeholder(tf.float32, [None, 10], name=\"Y\")\n"
   ]
  },
  {
   "cell_type": "markdown",
   "metadata": {},
   "source": [
    "## 03. Make a CNN Graph with TF"
   ]
  },
  {
   "cell_type": "markdown",
   "metadata": {},
   "source": [
    "### 03.1 First HIdden Layer"
   ]
  },
  {
   "cell_type": "code",
   "execution_count": null,
   "metadata": {
    "collapsed": true
   },
   "outputs": [],
   "source": [
    "'''\n",
    "지난 시간에 배운 First Hidden Layer 코드를 완성해보자\n",
    "\n",
    "__ <= 이렇게 된 빈 칸을 채워주시면 됩니다. \n",
    "'''\n",
    "\n",
    "# for Conv Layer 01 filter - shape=(3, 3, 1)\n",
    "W1 = tf.Variable(tf.random_normal([3, 3, 1, 64], stddev=0.01), name=\"W1\")\n",
    "\n",
    "# Convolution Layer 01 -> (?, 28, 28, 32)\n",
    "L1_conv = tf.nn.conv2d(X_img, W1, strides=[1, 1, 1, 1], padding='SAME', name=\"L1_conv\")\n",
    "L1_conv = tf.nn.relu(L1_conv, name=\"L1_relu\")\n",
    "\n",
    "# Pooling Layer 01 -> (?, 14, 14, 32)\n",
    "L1_pool = tf.nn.max_pool(L1_conv, ksize=[1, 2, 2, 1], \n",
    "                         strides=[1, 2, 2, 1], padding='SAME', name=\"L1_pool\")"
   ]
  },
  {
   "cell_type": "markdown",
   "metadata": {},
   "source": [
    "### 03.2 Second Hidden Layer"
   ]
  },
  {
   "cell_type": "code",
   "execution_count": null,
   "metadata": {
    "collapsed": true
   },
   "outputs": [],
   "source": [
    "'''\n",
    "지난 시간에 배운 Second Hidden Layer 코드를 완성해보자\n",
    "\n",
    "__ <= 이렇게 된 빈 칸을 채워주시면 됩니다. \n",
    "'''\n",
    "\n",
    "# for Conv Layer 02 filter - shape=(3, 3, 32)\n",
    "W2 = tf.Variable(tf.random_normal([3, 3, 64, 128], stddev=0.01), name=\"W2\")\n",
    "\n",
    "# Convolution Layer 02 -> (?, 14, 14, 32)\n",
    "L2_conv = tf.nn.conv2d(L1_pool, W2, strides=[1, 1, 1, 1], padding='SAME', name=\"L2_conv\")\n",
    "L2_conv = tf.nn.relu(L2_conv, name=\"L2_relu\")\n",
    "\n",
    "# Pooling Layer 02 -> (?, 7, 7, 64)\n",
    "L2_pool = tf.nn.max_pool(L2_conv, ksize=[1, 2, 2, 1], \n",
    "                         strides=[1, 2, 2, 1], padding='SAME', name=\"L2_pool\")"
   ]
  },
  {
   "cell_type": "markdown",
   "metadata": {},
   "source": [
    "### 03.3 Fully Connected Layer"
   ]
  },
  {
   "cell_type": "markdown",
   "metadata": {},
   "source": [
    "#### 지난 시간에 배운 fc layer"
   ]
  },
  {
   "cell_type": "code",
   "execution_count": null,
   "metadata": {
    "collapsed": true
   },
   "outputs": [],
   "source": [
    "'''\n",
    "지난 시간에 배운 Fully Connected Layer 코드를 완성해보자\n",
    "\n",
    "__ <= 이렇게 된 빈 칸을 채워주시면 됩니다. \n",
    "'''\n",
    "\n",
    "###############################\n",
    "# flatten layer\n",
    "L_flat = tf.reshape(L2_pool, [-1, 7 * 7 * 128], name=\"L_flat\")\n",
    "\n",
    "\n",
    "###############################\n",
    "# fully connected layer\n",
    "\n",
    "# for Final FC 7x7x64 inputs -> 10 outputs\n",
    "W_fc = tf.Variable(tf.random_normal([7 * 7 * 128, 10], stddev=0.01), name=\"W_fc\")\n",
    "\n",
    "# bias\n",
    "b = tf.Variable(tf.random_normal([10]), name=\"b\")\n",
    "\n",
    "# fc layer\n",
    "logits = tf.add(tf.matmul(L_flat, W_fc), b, name='logits')"
   ]
  },
  {
   "cell_type": "markdown",
   "metadata": {},
   "source": [
    "#### flattern layer"
   ]
  },
  {
   "cell_type": "code",
   "execution_count": null,
   "metadata": {
    "collapsed": true
   },
   "outputs": [],
   "source": [
    "# flatten layer\n",
    "L_flat = tf.reshape(L2_pool, [-1, 7 * 7 * 128], name=\"L_flat\")"
   ]
  },
  {
   "cell_type": "markdown",
   "metadata": {},
   "source": [
    "#### first FC layer"
   ]
  },
  {
   "cell_type": "code",
   "execution_count": null,
   "metadata": {
    "collapsed": true
   },
   "outputs": [],
   "source": [
    "# for Final FC 7x7x64 inputs -> 1000\n",
    "W1_fc = tf.Variable(tf.random_normal([7 * 7 * 128, 1000], stddev=0.01), name=\"W1_fc\")\n",
    "\n",
    "# for Final FC Layer 1: 7x7x64 inputs -> 1000\n",
    "L1_fc = tf.matmul(L_flat, W1_fc, name=\"L1_fc\")\n",
    "L1_fc = tf.nn.relu(L1_fc, name=\"L1_fc_relu\")"
   ]
  },
  {
   "cell_type": "markdown",
   "metadata": {},
   "source": [
    "#### Dropout\n",
    "\n",
    "![image](https://2.bp.blogspot.com/-WXlVLu2mT4g/WGUcrNdmzcI/AAAAAAAALHA/LmUZbEsJHrw4EjpIkGDVgPzZte4rcM8bwCLcB/s1600/dropout.png)"
   ]
  },
  {
   "cell_type": "code",
   "execution_count": null,
   "metadata": {
    "collapsed": true
   },
   "outputs": [],
   "source": [
    "# dropout 비율 결정\n",
    "keep_prob = tf.placeholder(tf.float32, name=\"keep_prob\")\n",
    "L1_fc_dropout = tf.nn.dropout(L1_fc, keep_prob=keep_prob, name=\"dropout\")"
   ]
  },
  {
   "cell_type": "markdown",
   "metadata": {},
   "source": [
    "#### second FC layer"
   ]
  },
  {
   "cell_type": "code",
   "execution_count": null,
   "metadata": {
    "collapsed": true
   },
   "outputs": [],
   "source": [
    "# for Final FC 1000 inputs -> 10\n",
    "W2_fc = tf.Variable(tf.random_normal([1000, 10], stddev=0.01), name=\"W2_fc\")\n",
    "\n",
    "# bias\n",
    "b = tf.Variable(tf.random_normal([10]), name=\"bias\")\n",
    "\n",
    "# for Final FC Layer 2: 1000 inputs -> 10\n",
    "logits = tf.add(tf.matmul(L1_fc_dropout, W2_fc), b, name=\"logits\")"
   ]
  },
  {
   "cell_type": "markdown",
   "metadata": {},
   "source": [
    "### 03.4 Cost & Optimizer"
   ]
  },
  {
   "cell_type": "code",
   "execution_count": null,
   "metadata": {
    "collapsed": true
   },
   "outputs": [],
   "source": [
    "'''\n",
    "지난 시간에 배운 Cost & Optimizer 코드를 완성해보자\n",
    "\n",
    "__ <= 이렇게 된 빈 칸을 채워주시면 됩니다. \n",
    "'''\n",
    "\n",
    "learning_rate = 0.001\n",
    "\n",
    "# Cost(loss) function & Optimizer\n",
    "cost = tf.reduce_mean(tf.nn.softmax_cross_entropy_with_logits(logits=logits, labels=Y))\n",
    "optimizer = tf.train.AdamOptimizer(learning_rate=learning_rate).minimize(cost)"
   ]
  },
  {
   "cell_type": "markdown",
   "metadata": {},
   "source": [
    "### 03.6 실습 - Make a CNN Graph with TF"
   ]
  },
  {
   "cell_type": "code",
   "execution_count": null,
   "metadata": {
    "collapsed": true
   },
   "outputs": [],
   "source": [
    "'''\n",
    "CNN Graph 코드를 완성해보자\n",
    "\n",
    "여러분이 직접 스크립트를 짜야 합니다.\n",
    "복사하여 붙여넣기를 하지 마시고, 직접 타이핑 하는 것을 권장합니다.\n",
    "'''\n",
    "\n",
    "#########################\n",
    "# ConvLayer 01 \n",
    "\n",
    "with tf.name_scope(\"layer1_conv\"):\n",
    "\n",
    "    # for Conv Layer 01 filter - shape=(3, 3, 1)\n",
    "    W1 = \n",
    "\n",
    "    # Convolution Layer 01 -> (?, 28, 28, 32)\n",
    "    L1_conv = \n",
    "    L1_conv = \n",
    "    \n",
    "    # Pooling Layer 01 -> (?, 14, 14, 32)\n",
    "    L1_pool = \n",
    "\n",
    "    \n",
    "#########################\n",
    "# ConvLayer 02\n",
    "\n",
    "with tf.name_scope(\"layer2_conv\"):\n",
    "\n",
    "    # for Conv Layer 02 filter - shape=(3, 3, 32)\n",
    "    W2 = \n",
    "\n",
    "    # Convolution Layer 02 -> (?, 14, 14, 32)\n",
    "    L2_conv = \n",
    "    L2_conv = \n",
    "\n",
    "    # Pooling Layer 02 -> (?, 7, 7, 64)\n",
    "    L2_pool = \n",
    "\n",
    "    \n",
    "#########################\n",
    "# Fully Connected Layer 01\n",
    "\n",
    "with tf.name_scope(\"layer1_fc\"):\n",
    "\n",
    "    ###############################\n",
    "    # Flatten layer\n",
    "    L_flat = \n",
    "\n",
    "    # for Final FC 7x7x64 inputs -> 1000\n",
    "    W1_fc = tf.Variable(tf.random_normal([7 * 7 * 64, 1000], stddev=0.01), name=\"W1_fc\")\n",
    "\n",
    "    # for Final FC Layer 1: 7x7x64 inputs -> 1000\n",
    "    L1_fc = tf.matmul(L_flat, W1_fc, name=\"L1_fc\")\n",
    "    L1_fc = tf.nn.relu(L1_fc, name=\"L1_fc_relu\")\n",
    "\n",
    "    #########################\n",
    "    # Dropout\n",
    "    keep_prob = tf.placeholder(tf.float32, name=\"keep_prob\")\n",
    "    L1_fc_dropout = tf.nn.dropout(L1_fc, keep_prob=keep_prob, name=\"dropout\")\n",
    "    #########################\n",
    "    \n",
    "#########################\n",
    "# Fully Connected Layer 02\n",
    "\n",
    "with tf.name_scope(\"layer2_fc\"):\n",
    "\n",
    "    # for Final FC 1000 inputs -> 10\n",
    "    W2_fc = tf.Variable(tf.random_normal([1000, 10], stddev=0.01), name=\"W2_fc\")\n",
    "\n",
    "    # bias\n",
    "    b = tf.Variable(tf.random_normal([10]), name=\"bias\")\n",
    "\n",
    "    # for Final FC Layer 2: 1000 inputs -> 10\n",
    "    logits = tf.add(tf.matmul(L1_fc_dropout, W2_fc), b, name=\"logits\")\n",
    "\n",
    "    \n",
    "#########################\n",
    "# Cost & Optimizer\n",
    "\n",
    "learning_rate = 0.001\n",
    "\n",
    "with tf.name_scope(\"Optimizer\"):\n",
    "    # Cost(loss) function & Optimizer\n",
    "    cost = tf.reduce_mean(tf.nn.softmax_cross_entropy_with_logits(logits=logits, labels=Y), name=\"cost\")\n",
    "    optimizer = tf.train.AdamOptimizer(learning_rate=learning_rate).minimize(cost)\n"
   ]
  },
  {
   "cell_type": "markdown",
   "metadata": {},
   "source": [
    "## 04. Traning & Evaluation"
   ]
  },
  {
   "cell_type": "code",
   "execution_count": null,
   "metadata": {
    "collapsed": true,
    "scrolled": false
   },
   "outputs": [],
   "source": [
    "'''\n",
    "지난 시간에 배운 Traning & Evaluation 코드를 완성해보자\n",
    "\n",
    "여러분이 직접 스크립트를 짜야 합니다.\n",
    "복사하여 붙여넣기를 하지 마시고, 직접 타이핑 하는 것을 권장합니다.\n",
    "'''\n",
    "\n",
    "###########################\n",
    "# Initialize\n",
    "sess = \n",
    "sess.run(tf.______())\n",
    "\n",
    "###########################\n",
    "# Training\n",
    "\n",
    "print('Learning started. It takes sometime.')\n",
    "\n",
    "epochs = 2\n",
    "batch_size = 500\n",
    "\n",
    "for epoch in range(epochs):\n",
    "    print(\"%dth epoch\" % (epoch + 1))\n",
    "\n",
    "    # 총 갯수: 55000개를 500개씩 (batch_size) 나누어 훈련 \n",
    "    #        => 110번 (n_of_batches) 훈련하게 된다. \n",
    "    n_of_batches = int(mnist.train.num_examples / batch_size)\n",
    "    \n",
    "    for i in range(n_of_batches):\n",
    "        X_batch, Y_batch = mnist.train.next_batch(batch_size)\n",
    "        # 학습 진행\n",
    "        sess.run(optimizer, feed_dict={______})\n",
    "        \n",
    "        if ((i + 1) % 2 == 0):\n",
    "            # 학습 상황 디스플레이\n",
    "            loss = sess.run(cost, feed_dict={______})\n",
    "            print(\"%dth records, training cost: %.3f\" % (((i + 1) * batch_size), loss))\n",
    "            \n",
    "###########################\n",
    "# Evaluation\n",
    "\n",
    "# Test model and check accuracy\n",
    "correct_prediction = tf.equal(tf.argmax(logits, 1), tf.argmax(Y, 1))\n",
    "acc = tf.reduce_mean(tf.cast(correct_prediction, tf.float32))\n",
    "accuracy = sess.run(acc, feed_dict={______})\n",
    "\n",
    "print('Accuracy: %.2f' % (acc * 100))"
   ]
  },
  {
   "cell_type": "markdown",
   "metadata": {},
   "source": [
    "## 05. 실습 해답"
   ]
  },
  {
   "cell_type": "markdown",
   "metadata": {},
   "source": [
    "### 05.1 Import Library & Prepare MNIST Data"
   ]
  },
  {
   "cell_type": "code",
   "execution_count": null,
   "metadata": {
    "collapsed": true
   },
   "outputs": [],
   "source": [
    "import tensorflow as tf\n",
    "from tbij import show_graph # Tensor Board In Jupyter notebook. You can see this later.\n",
    "\n",
    "from tensorflow.examples.tutorials.mnist import input_data\n",
    "mnist = input_data.read_data_sets(\"./data/MNIST_data/\", one_hot=True)\n"
   ]
  },
  {
   "cell_type": "markdown",
   "metadata": {},
   "source": [
    "### 05.2 Prepare Variables for a CNN Graph with TF"
   ]
  },
  {
   "cell_type": "code",
   "execution_count": null,
   "metadata": {
    "collapsed": true
   },
   "outputs": [],
   "source": [
    "# Graph Clear\n",
    "tf.reset_default_graph()\n",
    "tf.set_random_seed(2017) # random seeding - reproduct\n",
    "\n",
    "############################\n",
    "# Place Holders\n",
    "\n",
    "X = tf.placeholder(tf.float32, [None, 784], name=\"X\")\n",
    "X_img = tf.reshape(X, [-1, 28, 28, 1], name=\"X_img\")\n",
    "Y = tf.placeholder(tf.float32, [None, 10], name=\"Y\")\n"
   ]
  },
  {
   "cell_type": "markdown",
   "metadata": {},
   "source": [
    "### 05.3 Make a CNN Graph & Run Session with TF"
   ]
  },
  {
   "cell_type": "code",
   "execution_count": null,
   "metadata": {
    "collapsed": true
   },
   "outputs": [],
   "source": [
    "#########################\n",
    "# ConvLayer 01 \n",
    "\n",
    "with tf.name_scope(\"layer1_conv\"):\n",
    "\n",
    "    # for Conv Layer 01 filter - shape=(3, 3, 1)\n",
    "    W1 = tf.Variable(tf.random_normal([3, 3, 1, 64], stddev=0.01), name=\"W1\")\n",
    "\n",
    "    # Convolution Layer 01 -> (?, 28, 28, 32)\n",
    "    L1_conv = tf.nn.conv2d(X_img, W1, strides=[1, 1, 1, 1], padding='SAME', name=\"L1_conv\")\n",
    "    L1_conv = tf.nn.relu(L1_conv, name=\"L1_relu\")\n",
    "\n",
    "    # Pooling Layer 01 -> (?, 14, 14, 32)\n",
    "    L1_pool = tf.nn.max_pool(L1_conv, ksize=[1, 2, 2, 1], strides=[1, 2, 2, 1], padding='SAME', name=\"L1_max_pool\")\n",
    "\n",
    "    \n",
    "#########################\n",
    "# ConvLayer 02\n",
    "\n",
    "with tf.name_scope(\"layer2_conv\"):\n",
    "\n",
    "    # for Conv Layer 02 filter - shape=(3, 3, 32)\n",
    "    W2 = tf.Variable(tf.random_normal([3, 3, 64, 128], stddev=0.01), name=\"W2\")\n",
    "\n",
    "    # Convolution Layer 02 -> (?, 14, 14, 32)\n",
    "    L2_conv = tf.nn.conv2d(L1_pool, W2, strides=[1, 1, 1, 1], padding='SAME', name=\"L2_conv\")\n",
    "    L2_conv = tf.nn.relu(L2_conv, name=\"L2_relu\")\n",
    "\n",
    "    # Pooling Layer 02 -> (?, 7, 7, 64)\n",
    "    L2_pool = tf.nn.max_pool(L2_conv, ksize=[1, 2, 2, 1], strides=[1, 2, 2, 1], padding='SAME', name=\"L2_max_pool\")\n",
    "\n",
    "    \n",
    "#########################\n",
    "# Fully Connected Layer 01\n",
    "\n",
    "with tf.name_scope(\"layer1_fc\"):\n",
    "\n",
    "    ###############################\n",
    "    # Flatten layer\n",
    "    L_flat = tf.reshape(L2_pool, [-1, 7 * 7 * 128], name=\"L_flat\")\n",
    "\n",
    "    # for Final FC 7x7x64 inputs -> 1000\n",
    "    W1_fc = tf.Variable(tf.random_normal([7 * 7 * 128, 1000], stddev=0.01), name=\"W1_fc\")\n",
    "\n",
    "    # for Final FC Layer 1: 7x7x64 inputs -> 1000\n",
    "    L1_fc = tf.matmul(L_flat, W1_fc, name=\"L1_fc\")\n",
    "    L1_fc = tf.nn.relu(L1_fc, name=\"L1_fc_relu\")\n",
    "\n",
    "    #########################\n",
    "    # Dropout\n",
    "    keep_prob = tf.placeholder(tf.float32, name=\"keep_prob\")\n",
    "    L1_fc_dropout = tf.nn.dropout(L1_fc, keep_prob=keep_prob, name=\"dropout\")\n",
    "    #########################\n",
    "    \n",
    "    \n",
    "#########################\n",
    "# Fully Connected Layer 02\n",
    "\n",
    "with tf.name_scope(\"layer2_fc\"):\n",
    "\n",
    "    # for Final FC 1000 inputs -> 10\n",
    "    W2_fc = tf.Variable(tf.random_normal([1000, 10], stddev=0.01), name=\"W2_fc\")\n",
    "\n",
    "    # bias\n",
    "    b = tf.Variable(tf.random_normal([10]), name=\"bias\")\n",
    "\n",
    "    # for Final FC Layer 2: 1000 inputs -> 10\n",
    "    logits = tf.add(tf.matmul(L1_fc_dropout, W2_fc), b, name=\"logits\")\n",
    "\n",
    "    \n",
    "#########################\n",
    "# Cost & Optimizer\n",
    "\n",
    "learning_rate = 0.001\n",
    "\n",
    "with tf.name_scope(\"Optimizer\"):\n",
    "    # Cost(loss) function & Optimizer\n",
    "    cross_entropy = tf.nn.softmax_cross_entropy_with_logits(logits=logits, labels=Y, name=\"cross_entropy\")\n",
    "    cost = tf.reduce_mean(cross_entropy, name=\"cost\")\n",
    "    optimizer = tf.train.AdamOptimizer(learning_rate=learning_rate).minimize(cost)\n"
   ]
  },
  {
   "cell_type": "markdown",
   "metadata": {},
   "source": [
    "### 05.4 Train & Evaluation"
   ]
  },
  {
   "cell_type": "code",
   "execution_count": null,
   "metadata": {
    "collapsed": true
   },
   "outputs": [],
   "source": [
    "#########################\n",
    "# Session initialize\n",
    "\n",
    "sess = tf.Session()\n",
    "sess.run(tf.global_variables_initializer())\n",
    "\n",
    "###########################\n",
    "# Traning\n",
    "\n",
    "print('Learning started. It takes sometime.')\n",
    "\n",
    "epochs = 2\n",
    "batch_size = 500\n",
    "\n",
    "for epoch in range(epochs):\n",
    "    print(\"%dth epoch\" % (epoch + 1))\n",
    "\n",
    "    # 총 갯수: 55000개를 500개씩 (batch_size) 나누어 훈련 \n",
    "    #        => 110번 (n_of_batches) 훈련하게 된다. \n",
    "    n_of_batches = int(mnist.train.num_examples / batch_size)\n",
    "    \n",
    "    for i in range(n_of_batches):\n",
    "        X_batch, Y_batch = mnist.train.next_batch(batch_size)\n",
    "        # 학습 진행\n",
    "        sess.run(optimizer, feed_dict={X: X_batch, Y: Y_batch, keep_prob: 0.7})\n",
    "        \n",
    "        if ((i + 1) % 2 == 0):\n",
    "            # 학습 상황 디스플레이\n",
    "            loss = sess.run(cost, feed_dict={X: X_batch, Y: Y_batch, keep_prob: 0.7})\n",
    "            print(\"%dth records, training cost: %.3f\" % (((i + 1) * batch_size), loss))\n",
    "            \n",
    "print(\"Training Complete\")\n",
    "\n",
    "\n",
    "###########################\n",
    "# Evaluation\n",
    "with tf.name_scope(\"Prediction\"):\n",
    "    # Test model and check accuracy\n",
    "    correct_prediction = tf.equal(tf.argmax(logits, 1), tf.argmax(Y, 1), name=\"compare\")\n",
    "    acc = tf.reduce_mean(tf.cast(correct_prediction, tf.float32), name=\"accuracy\")\n",
    "    accuracy = sess.run(acc, feed_dict={X: mnist.test.images, Y: mnist.test.labels, keep_prob: 1.0})\n",
    "    \n",
    "print('Accuracy: %.2f' % (accuracy * 100))"
   ]
  },
  {
   "cell_type": "markdown",
   "metadata": {},
   "source": [
    "#### 그래프도 그려보자"
   ]
  },
  {
   "cell_type": "code",
   "execution_count": null,
   "metadata": {
    "collapsed": true
   },
   "outputs": [],
   "source": [
    "from tbij import show_graph # Tensor Board In Jupyter notebook. You can see this later.\n",
    "show_graph(tf.get_default_graph().as_graph_def())"
   ]
  },
  {
   "cell_type": "markdown",
   "metadata": {},
   "source": [
    "### 성능을 한 번 확인해 보자. 제대로 되고 있는걸까?"
   ]
  },
  {
   "cell_type": "code",
   "execution_count": null,
   "metadata": {
    "collapsed": true
   },
   "outputs": [],
   "source": [
    "# Get one and predict\n",
    "r = random.randint(0, mnist.test.num_examples - 1)\n",
    "print(\"Label: \", sess.run(tf.argmax(mnist.test.labels[r:r + 1], 1)))\n",
    "print(\"Prediction: \", sess.run(tf.argmax(logits, 1), \n",
    "                               feed_dict={X: mnist.test.images[r:r + 1],\n",
    "                                         keep_prob: 1.0}))\n",
    "\n",
    "import matplotlib.pyplot as plt\n",
    "plt.imshow(mnist.test.images[r:r + 1].reshape(28, 28), cmap='Greys', interpolation='nearest')\n",
    "plt.show()"
   ]
  },
  {
   "cell_type": "code",
   "execution_count": null,
   "metadata": {
    "collapsed": true
   },
   "outputs": [],
   "source": [
    "# 세션을 종료하자\n",
    "sess.close()"
   ]
  },
  {
   "cell_type": "markdown",
   "metadata": {},
   "source": [
    "## 06. 대체 뭘 학습한 것인가? "
   ]
  },
  {
   "cell_type": "code",
   "execution_count": null,
   "metadata": {
    "collapsed": true
   },
   "outputs": [],
   "source": [
    "%matplotlib inline\n",
    "import matplotlib.pyplot as plt\n",
    "import math\n",
    "import numpy as np\n",
    "\n",
    "def plot_conv_weights(weights, input_channel=0):\n",
    "    \n",
    "    with tf.Session() as sess:\n",
    "        sess.run(tf.global_variables_initializer())\n",
    "\n",
    "        w = sess.run(weights)\n",
    "\n",
    "        w_min = np.min(w)\n",
    "        w_max = np.max(w)\n",
    "\n",
    "        num_filters = w.shape[3]\n",
    "        num_grids = math.ceil(math.sqrt(num_filters))\n",
    "        fig, axes = plt.subplots(num_grids, num_grids)\n",
    "\n",
    "        for i, ax in enumerate(axes.flat):\n",
    "            if i < num_filters:\n",
    "                img = w[:, :, input_channel, i]\n",
    "                ax.imshow(img, vmin=w_min, vmax=w_max, interpolation='nearest', cmap='seismic')\n",
    "\n",
    "            ax.set_xticks([])\n",
    "            ax.set_yticks([])\n",
    "\n",
    "        plt.show()"
   ]
  },
  {
   "cell_type": "code",
   "execution_count": null,
   "metadata": {
    "collapsed": true
   },
   "outputs": [],
   "source": [
    "plot_conv_weights(weights=W1)"
   ]
  },
  {
   "cell_type": "code",
   "execution_count": null,
   "metadata": {
    "collapsed": true
   },
   "outputs": [],
   "source": [
    "plot_conv_weights(weights=W2, input_channel=0)"
   ]
  },
  {
   "cell_type": "code",
   "execution_count": null,
   "metadata": {
    "collapsed": true
   },
   "outputs": [],
   "source": [
    "plot_conv_weights(weights=W2, input_channel=1)"
   ]
  },
  {
   "cell_type": "code",
   "execution_count": null,
   "metadata": {
    "collapsed": true
   },
   "outputs": [],
   "source": [
    "%matplotlib inline\n",
    "import matplotlib.pyplot as plt\n",
    "import math\n",
    "import numpy as np\n",
    "\n",
    "def plot_conv_layer(layer, image):\n",
    "\n",
    "    with tf.Session() as sess:\n",
    "\n",
    "        sess.run(tf.global_variables_initializer())\n",
    "\n",
    "        feed_dict = {X: [image]}\n",
    "        values = sess.run(layer, feed_dict=feed_dict)\n",
    "\n",
    "        num_filters = values.shape[3]\n",
    "        num_grids = math.ceil(math.sqrt(num_filters))\n",
    "        fig, axes = plt.subplots(num_grids, num_grids)\n",
    "\n",
    "        for i, ax in enumerate(axes.flat):\n",
    "            if i < num_filters:\n",
    "                img = values[0, :, :, i]\n",
    "                ax.imshow(img, interpolation='nearest', cmap='binary')\n",
    "                \n",
    "            ax.set_xticks([])\n",
    "            ax.set_yticks([])\n",
    "\n",
    "        plt.show()"
   ]
  },
  {
   "cell_type": "code",
   "execution_count": null,
   "metadata": {
    "collapsed": true
   },
   "outputs": [],
   "source": [
    "img_shape = (28, 28)\n",
    "\n",
    "def plot_image(image):\n",
    "    plt.imshow(image.reshape(img_shape),\n",
    "               interpolation='nearest',\n",
    "               cmap='binary')\n",
    "\n",
    "    plt.show()\n",
    "    \n",
    "image1 = mnist.test.images[0]\n",
    "plot_image(image1)\n",
    "\n",
    "image2 = mnist.test.images[1]\n",
    "plot_image(image2)"
   ]
  },
  {
   "cell_type": "code",
   "execution_count": null,
   "metadata": {
    "collapsed": true
   },
   "outputs": [],
   "source": [
    "plot_conv_layer(layer=L1_pool, image=image1)"
   ]
  },
  {
   "cell_type": "code",
   "execution_count": null,
   "metadata": {
    "collapsed": true
   },
   "outputs": [],
   "source": [
    "plot_conv_layer(layer=L2_pool, image=image2)"
   ]
  },
  {
   "cell_type": "code",
   "execution_count": null,
   "metadata": {
    "collapsed": true
   },
   "outputs": [],
   "source": []
  }
 ],
 "metadata": {
  "kernelspec": {
   "display_name": "Python 3",
   "language": "python",
   "name": "python3"
  },
  "language_info": {
   "codemirror_mode": {
    "name": "ipython",
    "version": 3
   },
   "file_extension": ".py",
   "mimetype": "text/x-python",
   "name": "python",
   "nbconvert_exporter": "python",
   "pygments_lexer": "ipython3",
   "version": "3.6.2"
  }
 },
 "nbformat": 4,
 "nbformat_minor": 2
}
