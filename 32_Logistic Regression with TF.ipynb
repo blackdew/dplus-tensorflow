{
 "cells": [
  {
   "cell_type": "markdown",
   "metadata": {
    "nbpresent": {
     "id": "324c3256-4054-4685-a71c-ae0fe87670c2"
    }
   },
   "source": [
    "# 02. Logistic Regression with TF\n",
    "\n",
    "<p style=\"text-align: right;\">\n",
    "rayleigh@dplus.company<br>\n",
    "Your name :\n",
    "</p>\n",
    "\n",
    "### 텐서플로 실습시간 그 세번째!<br>\n",
    "\n",
    "#### 선행지식\n",
    "1. 모델링을 한다는 것에 대한 이해.\n",
    "2. Supervised Learning 중 Classification에 대한 기본 지식.\n",
    "3. 로지스틱 리그레션에 대한 기본 구조와 개념\n",
    "4. 앞서 진행한 2번의 실습에 대한 추억(00. Hello World with TF, 01. Linear Regression with TF)\n",
    "\n",
    "#### 실습목표\n",
    "1. Logistic Regression의 구조를 Graph로 그려낼 수 있다.\n",
    "2. 그려낸 Graph를 텐서플로우를 이용해 코딩할 수 있다.\n",
    "3. (Optional) Encoding이 무엇인지 이해한다. --> Dummy Variable, Onehot-encoding 등의 필요성을 이해한다.\n",
    "4. (Optional) Logistic Regression 과 Softmax Regression이 사실상 같은 내용임을 알 수 있다.\n",
    "\n",
    "#### 사용데이터.\n",
    "\n",
    "01. Binary Classification : https://stats.idre.ucla.edu/stat/data/binary.csv\n",
    "02. Multinomial Classification : http://yann.lecun.com/exdb/mnist/"
   ]
  },
  {
   "cell_type": "markdown",
   "metadata": {
    "nbpresent": {
     "id": "77420740-c7d1-42dc-8cbf-f131e6ac7001"
    }
   },
   "source": [
    "## 00. 라이브러리 불러오기"
   ]
  },
  {
   "cell_type": "code",
   "execution_count": null,
   "metadata": {
    "collapsed": true,
    "nbpresent": {
     "id": "41a29509-236f-4951-a9d2-6c2cf4963c6b"
    }
   },
   "outputs": [],
   "source": [
    "import pandas as pd\n",
    "import numpy as np\n",
    "import tensorflow as tf\n",
    "import time\n",
    "import os\n",
    "\n",
    "# 현재 작업 디렉토리 확인\n",
    "os.getcwd()"
   ]
  },
  {
   "cell_type": "markdown",
   "metadata": {
    "nbpresent": {
     "id": "ae941080-9b54-48d0-9c2e-d789737ca6a3"
    }
   },
   "source": [
    "## 01. 데이터 불러오기 & 문제정의 & 전처리"
   ]
  },
  {
   "cell_type": "code",
   "execution_count": null,
   "metadata": {
    "collapsed": true,
    "nbpresent": {
     "id": "ff5d24f2-939f-4007-9892-f241c94b9e6f"
    }
   },
   "outputs": [],
   "source": [
    "'''\n",
    "pd.read_csv 뒤에, 정확한 파일 url을 넣어도 동작합니다.\n",
    "'''\n",
    "data = pd.read_csv(\"https://stats.idre.ucla.edu/stat/data/binary.csv\")\n",
    "data.head(n=10)"
   ]
  },
  {
   "cell_type": "code",
   "execution_count": null,
   "metadata": {
    "collapsed": true,
    "nbpresent": {
     "id": "dfdb1509-35cf-46ef-8552-f6b07ed1fbaf"
    },
    "scrolled": false
   },
   "outputs": [],
   "source": [
    "# rank는 더미가 필요\n",
    "dummy = pd.get_dummies(data['rank'])\n",
    "temp = data.drop('rank', axis=1)\n",
    "data = pd.concat([temp, dummy], axis=1)\n",
    "data.head(n=10)\n"
   ]
  },
  {
   "cell_type": "markdown",
   "metadata": {
    "nbpresent": {
     "id": "439e3e1e-bdee-49a7-9a18-11f87ded9522"
    }
   },
   "source": [
    "#### 데이터 설명.\n",
    "\n",
    "A researcher is interested in how variables, such as GRE (Graduate Record Exam scores), GPA (grade point average) and prestige of the undergraduate institution, effect admission into graduate school. The response variable, admit/don’t admit, is a binary variable.\n",
    "\n",
    "나는 대학원 지원자.<br>\n",
    "내가 합격할 가능성은 어느정도나 될까..?\n",
    "그리고 그것을 어떻게 확인할까..?"
   ]
  },
  {
   "cell_type": "code",
   "execution_count": null,
   "metadata": {
    "collapsed": true,
    "nbpresent": {
     "id": "b5521ec6-6f3a-4b09-ab8e-955e09c040c2"
    }
   },
   "outputs": [],
   "source": [
    "# Pandas DataFrame to Numpy Array\n",
    "data_array = data.values\n",
    "print(data_array[:5], data_array.shape)"
   ]
  },
  {
   "cell_type": "code",
   "execution_count": null,
   "metadata": {
    "collapsed": true,
    "nbpresent": {
     "id": "d1c43f06-e63a-4006-84fe-a80d43007720"
    }
   },
   "outputs": [],
   "source": [
    "# Shuffle!\n",
    "np.random.shuffle(data_array)\n",
    "print(data_array)"
   ]
  },
  {
   "cell_type": "code",
   "execution_count": null,
   "metadata": {
    "collapsed": true,
    "nbpresent": {
     "id": "6d01f784-fa77-43fc-a1de-5dca9733fe37"
    }
   },
   "outputs": [],
   "source": [
    "# Training set / Test set Split\n",
    "train, test = data_array[:300], data_array[300:]\n",
    "X_train, Y_train = train[:, 1:], train[:, :1]  # shape 확인 꼭 해볼 것.\n",
    "X_test, Y_test = test[:, 1:], test[:, :1]"
   ]
  },
  {
   "cell_type": "code",
   "execution_count": null,
   "metadata": {
    "collapsed": true
   },
   "outputs": [],
   "source": [
    "print(X_train.shape, Y_train.shape)\n",
    "print(X_train, Y_train)"
   ]
  },
  {
   "cell_type": "markdown",
   "metadata": {},
   "source": [
    "## 02. 손으로 그려보는 Logistic Regression\n",
    "\n",
    "\n",
    "\n",
    "*직접, 손으로 구조를 설계 해보는 것은 중요하다.*<br>\n",
    "\n",
    "여러분이 텐서플로우로 '그래프'를 코딩하기에 최대한 편한 설계도를 그리면 된다.<br>\n",
    "꼭 Data flow Graph, Computation Grpah, Probabilistic Graph 등의 표현을 따를 필요는 없다.(물론, 익히면 좋다.)<br>\n"
   ]
  },
  {
   "cell_type": "markdown",
   "metadata": {},
   "source": [
    "### 예시.  여러분이 직접 그려보기 전에는 실행 시키지 말기!\n",
    "\n",
    "[로지스틱01](img/Logistic_1.PNG)\n",
    "[로지스틱02](img/Logistic_2.PNG)"
   ]
  },
  {
   "cell_type": "markdown",
   "metadata": {},
   "source": [
    "### 반드시 차원을 고려 할 것!\n",
    "\n",
    "X의 shape = [ 채워넣기! , 채워넣기! ]\n",
    "\n",
    "Y의 shape = [ 채워넣기! , 채워넣기! ]\n",
    "\n",
    "W의 shape = [ 채워넣기! , 채워넣기! ]\n",
    "\n",
    "bias의 shape = [ 채워넣기! , 채워넣기! ]\n",
    "\n",
    "연산순서는?"
   ]
  },
  {
   "cell_type": "markdown",
   "metadata": {},
   "source": [
    "## 03. Make a Graph with TF"
   ]
  },
  {
   "cell_type": "code",
   "execution_count": null,
   "metadata": {
    "collapsed": true
   },
   "outputs": [],
   "source": [
    "'''\n",
    "여러분이 직접 스크립트를 짜야 합니다.\n",
    "조금 힌트는 드립니다..!\n",
    "'''\n",
    "# Graph Clear & Make your Graph reproducible\n",
    "tf.reset_default_graph()\n",
    "tf.set_random_seed(2017)\n",
    "\n",
    "# Hyper-Parameters & Option\n",
    "learning_rate = 0.01\n",
    "\n",
    "# Placeholders\n",
    "X = tf.placeholder(dtype=tf.float32, shape=[None, 6], name='X_input')\n",
    "Y = tf.placeholder(dtype=tf.float32, shape=[None, 1], name='Y_input')\n",
    "\n",
    "# Weight & Bias\n",
    "W = tf.Variable(tf.random_normal([6, 1]), name='weight')\n",
    "b = tf.Variable(tf.random_normal([1]), name=\"bias\")\n",
    "\n",
    "# Hypothesis\n",
    "logits = tf.add(tf.matmul(X, W), b, name='logits')\n",
    "Y_prob = tf.sigmoid(logits, name='Y_probability')\n",
    "\n",
    "# Classification & Accuracy\n",
    "Y_pred = tf.cast(Y_prob > 0.5, dtype=tf.float32, name='Y_predicted')\n",
    "accuracy = tf.reduce_mean(tf.cast(tf.equal(Y_pred, Y), dtype=tf.float32), name='Accuracy')\n",
    "\n",
    "# Cost(loss) function & Optimizer\n",
    "# cost = -1 * tf.reduce_mean(Y * tf.log(Y_prob) + (1 - Y) * tf.log(1 - Y_prob))\n",
    "cost = tf.reduce_mean(tf.nn.sigmoid_cross_entropy_with_logits(logits=logits, labels=Y))\n",
    "optimizer = tf.train.AdamOptimizer(learning_rate=learning_rate).minimize(cost)\n"
   ]
  },
  {
   "cell_type": "markdown",
   "metadata": {},
   "source": [
    "## 04. Train! Session!"
   ]
  },
  {
   "cell_type": "code",
   "execution_count": null,
   "metadata": {
    "collapsed": true,
    "scrolled": true
   },
   "outputs": [],
   "source": [
    "sess = tf.Session()\n",
    "tf.set_random_seed(2017)\n",
    "sess.run(tf.global_variables_initializer())\n",
    "\n",
    "learning_rate = 0.01\n",
    "\n",
    "for i in range(10000):\n",
    "    # 학습 진행\n",
    "    sess.run(optimizer, feed_dict={X: X_train, Y: Y_train})\n",
    "    \n",
    "    if (i % 100 == 0):\n",
    "        # 학습 상황 디스플레이\n",
    "        tr_l, tr_a = sess.run([cost, accuracy], feed_dict={X: X_train, Y: Y_train})        \n",
    "        print( \"{}th epoch, training accuracy: {:.2f}%, training loss: {:.2f}\".format(i, tr_a * 100, tr_l))\n",
    "\n",
    "print(\"Training Complete\")        \n",
    "test_accuracy = sess.run(accuracy, feed_dict={X: X_test, Y: Y_test})\n",
    "print(\"Test Accuracy: {:.2f}%\".format(test_accuracy * 100))\n",
    "print(\"Admit Rate: {:.2f}%\".format(data_array[:, 0].mean() * 100))\n",
    "print(sess.run([W[:, 0], b]))\n",
    "\n",
    "sess.close()"
   ]
  },
  {
   "cell_type": "markdown",
   "metadata": {},
   "source": [
    "## 이제는 MNIST를 분류해보자!"
   ]
  },
  {
   "cell_type": "code",
   "execution_count": null,
   "metadata": {
    "collapsed": true
   },
   "outputs": [],
   "source": [
    "tf.reset_default_graph()\n",
    "%reset"
   ]
  },
  {
   "cell_type": "code",
   "execution_count": null,
   "metadata": {
    "collapsed": true
   },
   "outputs": [],
   "source": [
    "%matplotlib inline\n",
    "%config InlineBackend.figure_format = 'retina'\n",
    "\n",
    "import tensorflow as tf\n",
    "import numpy as np\n",
    "import matplotlib.pyplot as plt\n",
    "import os\n",
    "\n",
    "from tensorflow.examples.tutorials.mnist import input_data\n",
    "mnist = input_data.read_data_sets(\"./MNIST_data/\", one_hot=True)\n",
    "'''\n",
    "텐서플로우의 input_data를 이용하여 MNIST를 다루면\n",
    "데이터를 처리하기가 매우 편리해진다.\n",
    "'''\n"
   ]
  },
  {
   "cell_type": "code",
   "execution_count": null,
   "metadata": {
    "collapsed": true
   },
   "outputs": [],
   "source": [
    "'''\n",
    "mnist 시각화 함수\n",
    "'''\n",
    "def mnist_plot(i):\n",
    "    pixels = mnist.test.images[i].reshape((28, 28))\n",
    "    a = mnist.test.labels.tolist()\n",
    "    plt.title('Label: {}'.format(a[i].index(1)))\n",
    "    plt.imshow(pixels, cmap='gray')\n",
    "    return plt.show()"
   ]
  },
  {
   "cell_type": "code",
   "execution_count": null,
   "metadata": {
    "collapsed": true,
    "scrolled": true
   },
   "outputs": [],
   "source": [
    "'''\n",
    "0 ~ 9999 사이의 숫자를 넣어서 확인해보자.\n",
    "'''\n",
    "mnist_plot(1000)"
   ]
  },
  {
   "cell_type": "markdown",
   "metadata": {},
   "source": [
    "### 00. 문제를 정의하고, 데이터를 확인해보자.\n",
    "\n",
    "옛날 옛적, 호랑이가 딱 담배 끊을즈음 시기에..\n",
    "\n",
    "우리는 우체국에서 일하는 직원이었다..\n",
    "\n",
    "나는 하루 종일 우편번호를 읽고 각 동별로 분류작업을 해야 했다..\n",
    "\n",
    "편지는 하루 1000여 통 이상 도착하고.. 나는 하루 4시간은 꼬박 분류만 해야한다..\n",
    "\n",
    "지친다...\n",
    "\n",
    "#### 문제상황은? :"
   ]
  },
  {
   "cell_type": "code",
   "execution_count": null,
   "metadata": {
    "collapsed": true
   },
   "outputs": [],
   "source": [
    "'''\n",
    "트레이닝 데이터로 활용할 55000개 이미지, 테스트용 10000개 이미지\n",
    "28*28 사이즈의 이미지가 그냥 주욱 784칸 짜리 어레이에 담겨있다.\n",
    "레이블은 이미 one-hot encoding이 되어 있다.\n",
    "\n",
    "'''\n",
    "print(mnist.train.images.shape, mnist.train.labels.shape)\n",
    "print(mnist.test.images.shape, mnist.test.labels.shape)"
   ]
  },
  {
   "cell_type": "code",
   "execution_count": null,
   "metadata": {
    "collapsed": true
   },
   "outputs": [],
   "source": [
    "mnist.train.images[0]"
   ]
  },
  {
   "cell_type": "code",
   "execution_count": null,
   "metadata": {
    "collapsed": true
   },
   "outputs": [],
   "source": [
    "mnist.train.labels[0]"
   ]
  },
  {
   "cell_type": "markdown",
   "metadata": {},
   "source": [
    "### 01. 손으로 설계해보자!\n",
    "\n",
    "위의 문제와는 다르다.\n",
    "Logistic Regression의 sigmoid 함수는 binary classification 용이다.<br>\n",
    "multinomial classification을 위해서는 Softmax를 사용해야 하는데,<br>\n",
    "무서워하지 말자. sigmoid의 확장판일 뿐!<br>\n",
    "Multinomial Logistic Regression을 간단히 Softmax Regression을 사용할 뿐!<br>\n",
    "\n",
    "인터넷에는 아래와 같은 이미지도 돌아다닌다.\n",
    "![이미지](https://image.slidesharecdn.com/deeplearningintheano-160311150524/95/deep-learning-in-theano-10-638.jpg?cb=1457708806)\n",
    "\n",
    "#### 하지만 손으로 직접 그려보자. 자기가 이해한 방식대로.\n",
    "\n"
   ]
  },
  {
   "cell_type": "markdown",
   "metadata": {},
   "source": [
    "### 02. 텐서서플로우로 그래프를 만들자!"
   ]
  },
  {
   "cell_type": "code",
   "execution_count": null,
   "metadata": {
    "collapsed": true
   },
   "outputs": [],
   "source": [
    "# Graph Clear & Make your Graph reproducible\n",
    "tf.reset_default_graph()\n",
    "tf.set_random_seed(2017)\n",
    "\n",
    "# Hyper parameters & Option\n",
    "learning_rate = 0.01\n",
    "\n",
    "# Place Holders\n",
    "X = tf.placeholder(dtype=tf.float32, shape=[None, 784], name='X_input')\n",
    "Y = tf.placeholder(dtype=tf.float32, shape=[None, 10], name='Y_input')\n",
    "\n",
    "# Weights & bias\n",
    "W = tf.Variable(tf.random_normal([784, 10]), name=\"weight\")\n",
    "b = tf.Variable(tf.random_normal([10]), name=\"bias\")\n",
    "\n",
    "# Hypothesis\n",
    "logits = tf.add(tf.matmul(X, W), b, name='logits')\n",
    "Y_prob = tf.nn.softmax(logits, name='Y_distribution')\n",
    "\n",
    "# Accuracy\n",
    "n_of_correct = tf.equal(tf.argmax(logits, 1), tf.argmax(Y, 1))\n",
    "accuracy =  tf.reduce_mean(tf.cast(n_of_correct, tf.float32))\n",
    "\n",
    "# Cost(loss) function & Optimizer\n",
    "cost = tf.reduce_mean(tf.nn.softmax_cross_entropy_with_logits(logits=logits, labels=Y))\n",
    "optimizer = tf.train.AdamOptimizer(learning_rate=learning_rate).minimize(cost)\n",
    "\n"
   ]
  },
  {
   "cell_type": "markdown",
   "metadata": {},
   "source": [
    "### 03. 세션을 만들고, 학습시키자!"
   ]
  },
  {
   "cell_type": "code",
   "execution_count": null,
   "metadata": {
    "collapsed": true
   },
   "outputs": [],
   "source": [
    "sess = tf.Session()\n",
    "tf.set_random_seed(2017)\n",
    "sess.run(tf.global_variables_initializer())\n",
    "\n",
    "learning_rate = 0.01\n",
    "\n",
    "print(mnist.train.num_examples)\n",
    "for i in range(100):\n",
    "    '''\n",
    "    갯수가 너무 많아서 배치로 끊어서 학습\n",
    "    '''\n",
    "    n_of_batches = int(mnist.train.num_examples / 100)\n",
    "    for batch in range(n_of_batches):\n",
    "        X_batch, Y_batch = mnist.train.next_batch(100)\n",
    "        # 학습 진행\n",
    "        sess.run(optimizer, feed_dict={X: X_batch, Y: Y_batch})\n",
    "\n",
    "    # 학습 상황 디스플레이\n",
    "    tr_a = sess.run(accuracy, feed_dict={X: X_batch, Y: Y_batch})\n",
    "    print(\"{}th epoch, training accuracy: {:.3f}%\".format(i, tr_a * 100))\n",
    "        \n",
    "print(\"Training Complete\")        \n",
    "test_accuracy = sess.run(accuracy,\n",
    "                         feed_dict={X: mnist.test.images, Y: mnist.test.labels})\n",
    "print(\"Test Accuracy: {:.2f}%\".format(test_accuracy * 100))\n",
    "# print(sess.run([W[:, 0], b]))"
   ]
  },
  {
   "cell_type": "markdown",
   "metadata": {},
   "source": [
    "#### batch & epochs"
   ]
  },
  {
   "cell_type": "code",
   "execution_count": null,
   "metadata": {
    "collapsed": true
   },
   "outputs": [],
   "source": [
    "sess = tf.Session()\n",
    "tf.set_random_seed(2017)\n",
    "sess.run(tf.global_variables_initializer())\n",
    "\n",
    "# batch_size를 바꿔가며 반복 실행해보자.\n",
    "training_epochs = 10\n",
    "batch_size = 100\n",
    "learning_rate = 0.01\n",
    "\n",
    "for i in range(training_epochs + 1):\n",
    "    # batch의 횟수 계산\n",
    "    n_of_batches = int(mnist.train.num_examples / batch_size)\n",
    "    \n",
    "    for batch in range(n_of_batches):\n",
    "        X_batch, Y_batch = mnist.train.next_batch(batch_size)\n",
    "        # 학습 진행\n",
    "        sess.run(optimizer, feed_dict={X: X_batch, Y: Y_batch})\n",
    "        \n",
    "    # 학습 상황 디스플레이\n",
    "    tr_a = sess.run(accuracy, feed_dict={X: X_batch, Y: Y_batch})\n",
    "    print(\"{}th epoch, training accuracy: {:.3f}%\".format(i, tr_a * 100))\n",
    "        \n",
    "print(\"Training Complete\")        \n",
    "test_accuracy = sess.run(accuracy,\n",
    "                         feed_dict={X: mnist.test.images, Y: mnist.test.labels})\n",
    "print(\"Test Accuracy: {:.2f}%\".format(test_accuracy * 100))\n",
    "# print(sess.run([W[:, 0], b]))"
   ]
  },
  {
   "cell_type": "markdown",
   "metadata": {},
   "source": [
    "### 성능을 한 번 확인해 보자. 제대로 되고 있는걸까?"
   ]
  },
  {
   "cell_type": "code",
   "execution_count": null,
   "metadata": {
    "collapsed": true
   },
   "outputs": [],
   "source": [
    "n = int(np.random.uniform(0, 9999, 1))\n",
    "n = 217\n",
    "Predicted_distribution = sess.run(Y_prob, feed_dict={X: [mnist.test.images[n]]})\n",
    "Predicted_distribution = Predicted_distribution[0]\n",
    "pd_dict = {i: '%.2f' % prob for i, prob in enumerate(Predicted_distribution)}\n",
    "\n",
    "print(n)\n",
    "print(pd_dict)\n",
    "mnist_plot(n)\n"
   ]
  },
  {
   "cell_type": "markdown",
   "metadata": {},
   "source": [
    "### 실습"
   ]
  },
  {
   "cell_type": "code",
   "execution_count": null,
   "metadata": {
    "collapsed": true
   },
   "outputs": [],
   "source": [
    "'''\n",
    "TensorFlow 그래프를 전체를 직접 작성해 보자\n",
    "'''\n",
    "\n",
    "\n",
    "\n",
    "\n"
   ]
  },
  {
   "cell_type": "code",
   "execution_count": null,
   "metadata": {
    "collapsed": true
   },
   "outputs": [],
   "source": [
    "'''\n",
    "학습하는 세션 코드 전체를 직접 작성해 보자\n",
    "'''\n",
    "\n",
    "\n",
    "\n",
    "\n"
   ]
  },
  {
   "cell_type": "markdown",
   "metadata": {},
   "source": [
    "# must Summary!"
   ]
  },
  {
   "cell_type": "code",
   "execution_count": null,
   "metadata": {
    "collapsed": true
   },
   "outputs": [],
   "source": []
  }
 ],
 "metadata": {
  "anaconda-cloud": {},
  "kernelspec": {
   "display_name": "Python 3",
   "language": "python",
   "name": "python3"
  },
  "language_info": {
   "codemirror_mode": {
    "name": "ipython",
    "version": 3
   },
   "file_extension": ".py",
   "mimetype": "text/x-python",
   "name": "python",
   "nbconvert_exporter": "python",
   "pygments_lexer": "ipython3",
   "version": "3.6.2"
  },
  "nbpresent": {
   "slides": {
    "06673961-d8a5-4267-a63d-f313583104d9": {
     "id": "06673961-d8a5-4267-a63d-f313583104d9",
     "prev": "0879f191-9570-41d0-8172-779e645958bf",
     "regions": {
      "c4b181e9-2fef-4c54-a02d-add6a6973d29": {
       "attrs": {
        "height": 0.8,
        "width": 0.8,
        "x": 0.1,
        "y": 0.1
       },
       "content": {
        "cell": "85cfbf31-402d-4db2-8b14-0d0c0d847f8b",
        "part": "whole"
       },
       "id": "c4b181e9-2fef-4c54-a02d-add6a6973d29"
      }
     }
    },
    "0879f191-9570-41d0-8172-779e645958bf": {
     "id": "0879f191-9570-41d0-8172-779e645958bf",
     "prev": "67db25c5-f042-401f-8d2a-56ba736d31ae",
     "regions": {
      "4df75cd2-c637-493e-a7cf-5f96fb3013ca": {
       "attrs": {
        "height": 0.8,
        "width": 0.8,
        "x": 0.1,
        "y": 0.1
       },
       "content": {
        "cell": "daf8cfb3-efc8-4e87-b318-e5ad4c12f9b7",
        "part": "whole"
       },
       "id": "4df75cd2-c637-493e-a7cf-5f96fb3013ca"
      }
     }
    },
    "135b3672-2ba5-4f92-bdc7-4113351248a2": {
     "id": "135b3672-2ba5-4f92-bdc7-4113351248a2",
     "prev": "53b495c0-f73a-4af8-90a9-06052a15578c",
     "regions": {
      "29d2786a-e00f-4936-8f88-98d140ceb69d": {
       "attrs": {
        "height": 0.8,
        "width": 0.8,
        "x": 0.1,
        "y": 0.1
       },
       "content": {
        "cell": "ae941080-9b54-48d0-9c2e-d789737ca6a3",
        "part": "whole"
       },
       "id": "29d2786a-e00f-4936-8f88-98d140ceb69d"
      }
     }
    },
    "234a438e-9bbd-4d7c-aa4d-60a6ad360cad": {
     "id": "234a438e-9bbd-4d7c-aa4d-60a6ad360cad",
     "prev": "85cdfd47-b188-4127-b6ce-f2d6269764ca",
     "regions": {
      "44c764a2-1cf0-4fc0-91cb-0cb9bcefb745": {
       "attrs": {
        "height": 0.8,
        "width": 0.8,
        "x": 0.1,
        "y": 0.1
       },
       "content": {
        "cell": "dfdb1509-35cf-46ef-8552-f6b07ed1fbaf",
        "part": "whole"
       },
       "id": "44c764a2-1cf0-4fc0-91cb-0cb9bcefb745"
      }
     }
    },
    "338a1c9f-d631-4cd8-9830-35c4b298ee7d": {
     "id": "338a1c9f-d631-4cd8-9830-35c4b298ee7d",
     "prev": "f609d9b0-5a29-4ccc-84bf-e74355ab7eff",
     "regions": {
      "cd095279-4007-4e90-b96e-0b95b9ec3a3d": {
       "attrs": {
        "height": 0.8,
        "width": 0.8,
        "x": 0.1,
        "y": 0.1
       },
       "content": {
        "cell": "b5521ec6-6f3a-4b09-ab8e-955e09c040c2",
        "part": "whole"
       },
       "id": "cd095279-4007-4e90-b96e-0b95b9ec3a3d"
      }
     }
    },
    "53b495c0-f73a-4af8-90a9-06052a15578c": {
     "id": "53b495c0-f73a-4af8-90a9-06052a15578c",
     "prev": "be1c5d87-98b8-4a00-8fee-ab6aa9209fa8",
     "regions": {
      "ae2aebd0-8691-47f8-8aab-528a9c1ce2bf": {
       "attrs": {
        "height": 0.8,
        "width": 0.8,
        "x": 0.1,
        "y": 0.1
       },
       "content": {
        "cell": "41a29509-236f-4951-a9d2-6c2cf4963c6b",
        "part": "whole"
       },
       "id": "ae2aebd0-8691-47f8-8aab-528a9c1ce2bf"
      }
     }
    },
    "579d08fd-aae6-4977-a954-3bfed185e258": {
     "id": "579d08fd-aae6-4977-a954-3bfed185e258",
     "prev": "338a1c9f-d631-4cd8-9830-35c4b298ee7d",
     "regions": {
      "12149eb4-94d4-40e8-8ed1-5b01b3dc17ab": {
       "attrs": {
        "height": 0.8,
        "width": 0.8,
        "x": 0.1,
        "y": 0.1
       },
       "content": {
        "cell": "d1c43f06-e63a-4006-84fe-a80d43007720",
        "part": "whole"
       },
       "id": "12149eb4-94d4-40e8-8ed1-5b01b3dc17ab"
      }
     }
    },
    "67db25c5-f042-401f-8d2a-56ba736d31ae": {
     "id": "67db25c5-f042-401f-8d2a-56ba736d31ae",
     "prev": "579d08fd-aae6-4977-a954-3bfed185e258",
     "regions": {
      "8a7cf766-88b1-4512-ba59-c0907d84e812": {
       "attrs": {
        "height": 0.8,
        "width": 0.8,
        "x": 0.1,
        "y": 0.1
       },
       "content": {
        "cell": "6d01f784-fa77-43fc-a1de-5dca9733fe37",
        "part": "whole"
       },
       "id": "8a7cf766-88b1-4512-ba59-c0907d84e812"
      }
     }
    },
    "6864bc82-39ed-4597-9643-1f9eaebaa4ad": {
     "id": "6864bc82-39ed-4597-9643-1f9eaebaa4ad",
     "prev": null,
     "regions": {
      "458e5b71-90c5-4b8b-946f-3dbd0acabdd0": {
       "attrs": {
        "height": 0.8,
        "width": 0.8,
        "x": 0.1,
        "y": 0.1
       },
       "content": {
        "cell": "324c3256-4054-4685-a71c-ae0fe87670c2",
        "part": "whole"
       },
       "id": "458e5b71-90c5-4b8b-946f-3dbd0acabdd0"
      }
     }
    },
    "85cdfd47-b188-4127-b6ce-f2d6269764ca": {
     "id": "85cdfd47-b188-4127-b6ce-f2d6269764ca",
     "prev": "135b3672-2ba5-4f92-bdc7-4113351248a2",
     "regions": {
      "660896c7-2008-4690-a456-0f728323a4e9": {
       "attrs": {
        "height": 0.8,
        "width": 0.8,
        "x": 0.1,
        "y": 0.1
       },
       "content": {
        "cell": "ff5d24f2-939f-4007-9892-f241c94b9e6f",
        "part": "whole"
       },
       "id": "660896c7-2008-4690-a456-0f728323a4e9"
      }
     }
    },
    "be1c5d87-98b8-4a00-8fee-ab6aa9209fa8": {
     "id": "be1c5d87-98b8-4a00-8fee-ab6aa9209fa8",
     "prev": "6864bc82-39ed-4597-9643-1f9eaebaa4ad",
     "regions": {
      "02737d00-d567-4b1e-b981-39dc866fb994": {
       "attrs": {
        "height": 0.8,
        "width": 0.8,
        "x": 0.1,
        "y": 0.1
       },
       "content": {
        "cell": "77420740-c7d1-42dc-8cbf-f131e6ac7001",
        "part": "whole"
       },
       "id": "02737d00-d567-4b1e-b981-39dc866fb994"
      }
     }
    },
    "f609d9b0-5a29-4ccc-84bf-e74355ab7eff": {
     "id": "f609d9b0-5a29-4ccc-84bf-e74355ab7eff",
     "prev": "234a438e-9bbd-4d7c-aa4d-60a6ad360cad",
     "regions": {
      "aec5f004-bdc5-449c-80b3-52d3a1ae4596": {
       "attrs": {
        "height": 0.8,
        "width": 0.8,
        "x": 0.1,
        "y": 0.1
       },
       "content": {
        "cell": "439e3e1e-bdee-49a7-9a18-11f87ded9522",
        "part": "whole"
       },
       "id": "aec5f004-bdc5-449c-80b3-52d3a1ae4596"
      }
     }
    }
   },
   "themes": {}
  }
 },
 "nbformat": 4,
 "nbformat_minor": 1
}
