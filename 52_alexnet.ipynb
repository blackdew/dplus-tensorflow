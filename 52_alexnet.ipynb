{
 "cells": [
  {
   "cell_type": "markdown",
   "metadata": {},
   "source": [
    "# 42. CNN - Alexnet\n",
    "\n",
    "<p style=\"text-align: right;\">\n",
    "blackdew7@gmail.com<br>\n",
    "Your name :\n",
    "</p>\n",
    "\n",
    "### 텐서플로 실습시간 그 다섯번째!<br>\n",
    "\n",
    "#### 선행지식\n",
    "1. TensorFlow 다루기 기초\n",
    "2. 모델링을 한다는 것에 대한 이해.\n",
    "3. Supervised Learning 중 Classification에 대한 기본 지식.\n",
    "4. CNN에 대한 기본 구조와 개념\n",
    "\n",
    "#### 실습목표\n",
    "1. Alexnet을 구현해본다. \n",
    "\n",
    "#### 사용데이터.\n",
    "1. Multinomial Classification : http://yann.lecun.com/exdb/mnist/\n",
    "\n",
    "\n",
    "![image](http://mblogthumb1.phinf.naver.net/20160314_204/laonple_14579300603930fQ7q_PNG/%C0%CC%B9%CC%C1%F6_2.png?type=w2)\n"
   ]
  },
  {
   "cell_type": "code",
   "execution_count": null,
   "metadata": {},
   "outputs": [],
   "source": [
    "import tensorflow as tf\n",
    "\n",
    "# Import MNIST data\n",
    "from tensorflow.examples.tutorials.mnist import input_data\n",
    "mnist = input_data.read_data_sets(\"./MNIST_data/\", one_hot=True)"
   ]
  },
  {
   "cell_type": "code",
   "execution_count": null,
   "metadata": {
    "collapsed": true
   },
   "outputs": [],
   "source": [
    "def weight(shape, name):\n",
    "    initial = tf.truncated_normal(shape, stddev=0.01)\n",
    "    w = tf.Variable(initial, name=name)\n",
    "    tf.add_to_collection('weights', w)\n",
    "    return w\n",
    "\n",
    "def bias(shape, name):\n",
    "    initial = tf.truncated_normal(shape, stddev=0.01)\n",
    "    return tf.Variable(initial, name=name)\n",
    "\n",
    "def conv2d(x, W, stride, padding):\n",
    "    return tf.nn.conv2d(x, W, strides=[1, stride[0], stride[1], 1], padding=padding)\n",
    "\n",
    "def max_pool2d(x, kernel, stride, padding):\n",
    "    return tf.nn.max_pool(x, ksize=kernel, strides=stride, padding=padding)\n",
    "\n",
    "def lrn(x, depth_radius, bias, alpha, beta):\n",
    "    return tf.nn.local_response_normalization(x, depth_radius, bias, alpha, beta)\n",
    "\n",
    "def relu(x):\n",
    "    return tf.nn.relu(x)\n",
    "\n",
    "def batch_norm(x):\n",
    "    epsilon = 0.001\n",
    "    batch_mean, batch_var = tf.nn.moments(x, [0])\n",
    "    return tf.nn.batch_normalization(x, batch_mean, batch_var, None, None, epsilon)"
   ]
  },
  {
   "cell_type": "code",
   "execution_count": null,
   "metadata": {
    "collapsed": true
   },
   "outputs": [],
   "source": [
    "# Graph Clear\n",
    "tf.reset_default_graph()"
   ]
  },
  {
   "cell_type": "code",
   "execution_count": null,
   "metadata": {
    "collapsed": true
   },
   "outputs": [],
   "source": [
    "lr = tf.placeholder(tf.float32)\n",
    "kp = tf.placeholder(tf.float32)\n",
    "\n",
    "X = tf.placeholder(tf.float32, [None, 28, 28, 1])\n",
    "Y = tf.placeholder(tf.float32, [None, 10])\n"
   ]
  },
  {
   "cell_type": "code",
   "execution_count": null,
   "metadata": {
    "collapsed": true
   },
   "outputs": [],
   "source": [
    "with tf.name_scope('conv1') as inner_scope:\n",
    "    wcnn1 = weight([5, 5, 1, 48], name='wcnn1')\n",
    "    bcnn1 = bias([48], name='bcnn1')\n",
    "    conv1 = tf.add(conv2d(X, wcnn1, stride=(4, 4), padding='SAME'), bcnn1)\n",
    "    conv1 = batch_norm(conv1)\n",
    "    conv1 = relu(conv1)\n",
    "    norm1 = lrn(conv1, depth_radius=5, bias=1.0, alpha=1e-04, beta=0.75)\n",
    "    pool1 = max_pool2d(norm1, kernel=[1, 3, 3, 1], stride=[1, 2, 2, 1], padding='SAME')\n",
    "    \n",
    "with tf.name_scope('conv2') as inner_scope:\n",
    "    wcnn2 = weight([3, 3, 48, 128], name='wcnn2')\n",
    "    bcnn2 = bias([128], name='bcnn2')\n",
    "    conv2 = tf.add(conv2d(pool1, wcnn2, stride=(1, 1), padding='SAME'), bcnn2)\n",
    "    conv2 = batch_norm(conv2)\n",
    "    conv2 = relu(conv2)\n",
    "    norm2 = lrn(conv2, depth_radius=5, bias=1.0, alpha=1e-04, beta=0.75)\n",
    "    pool2 = max_pool2d(norm2, kernel=[1, 3, 3, 1], stride=[1, 2, 2, 1], padding='SAME')\n",
    "\n",
    "with tf.name_scope('conv3') as inner_scope:\n",
    "    wcnn3 = weight([3, 3, 128, 192], name='wcnn3')\n",
    "    bcnn3 = bias([192], name='bcnn3')\n",
    "    conv3 = tf.add(conv2d(pool2, wcnn3, stride=(1, 1), padding='SAME'), bcnn3)\n",
    "    conv3 = batch_norm(conv3)\n",
    "    conv3 = relu(conv3)\n",
    "\n",
    "with tf.name_scope('conv4') as inner_scope:\n",
    "    wcnn4 = weight([3, 3, 192, 192], name='wcnn4')\n",
    "    bcnn4 = bias([192], name='bcnn4')\n",
    "    conv4 = tf.add(conv2d(conv3, wcnn4, stride=(1, 1), padding='SAME'), bcnn4)\n",
    "    conv4 = batch_norm(conv4)\n",
    "    conv4 = relu(conv4)\n",
    "\n",
    "with tf.name_scope('conv5') as inner_scope:\n",
    "    wcnn5 = weight([3, 3, 192, 128], name='wcnn5')\n",
    "    bcnn5 = bias([128], name='bcnn5')\n",
    "    conv5 = tf.add(conv2d(conv4, wcnn5, stride=(1, 1), padding='SAME'), bcnn5)\n",
    "    conv5 = batch_norm(conv5)\n",
    "    conv5 = relu(conv5)\n",
    "    pool5 = max_pool2d(conv5, kernel=[1, 3, 3, 1], stride=[1, 2, 2, 1], padding='SAME')\n",
    "    \n",
    "dim = pool5.get_shape().as_list()\n",
    "flat_dim = dim[1] * dim[2] * dim[3] # 6 * 6 * 256\n",
    "flat = tf.reshape(pool5, [-1, flat_dim])\n",
    "\n",
    "with tf.name_scope('fullyconected1') as inner_scope:\n",
    "    wfc1 = weight([flat_dim, 4096], name='wfc1')\n",
    "    bfc1 = bias([4096], name='bfc1')\n",
    "    fc1 = tf.add(tf.matmul(flat, wfc1), bfc1)\n",
    "    fc1 = batch_norm(fc1)\n",
    "    fc1 = relu(fc1)\n",
    "    fc1 = tf.nn.dropout(fc1, kp)\n",
    "\n",
    "with tf.name_scope('fullyconected2') as inner_scope:\n",
    "    wfc2 = weight([4096, 1000], name='wfc2')\n",
    "    bfc2 = bias([1000], name='bfc2')\n",
    "    fc2 = tf.add(tf.matmul(fc1, wfc2), bfc2)\n",
    "    fc2 = batch_norm(fc2)\n",
    "    fc2 = relu(fc2)\n",
    "    fc2 = tf.nn.dropout(fc2, kp)\n",
    "\n",
    "with tf.name_scope('classifier_output') as inner_scope:\n",
    "    wfc3 = weight([1000, 10], name='wfc3')\n",
    "    bfc3 = bias([10], name='bfc3')\n",
    "    pred = tf.add(tf.matmul(fc2, wfc3), bfc3)\n",
    "    softmax = tf.nn.softmax(pred)\n"
   ]
  },
  {
   "cell_type": "code",
   "execution_count": null,
   "metadata": {
    "collapsed": true
   },
   "outputs": [],
   "source": [
    "LAMBDA = 0.00005 # for weight decay\n",
    "\n",
    "# cross-entropy and weight decay\n",
    "cross_entropy = tf.reduce_mean(tf.nn.softmax_cross_entropy_with_logits(logits=pred, labels=Y, name='cross-entropy'))\n",
    "\n",
    "l2_loss = tf.reduce_sum(LAMBDA * tf.stack([tf.nn.l2_loss(v) for v in tf.get_collection('weights')]))\n",
    "tf.summary.scalar('l2_loss', l2_loss)\n",
    "\n",
    "loss = cross_entropy + l2_loss\n",
    "tf.summary.scalar('loss', loss)\n",
    "\n",
    "# accuracy\n",
    "correct = tf.equal(tf.argmax(pred, 1), tf.argmax(Y, 1))\n",
    "accuracy = tf.reduce_mean(tf.cast(correct, tf.float32))\n",
    "tf.summary.scalar('accuracy', accuracy)\n",
    "\n",
    "# momentum optimizer\n",
    "optimizer = tf.train.AdamOptimizer(learning_rate=lr).minimize(loss)\n"
   ]
  },
  {
   "cell_type": "code",
   "execution_count": null,
   "metadata": {
    "collapsed": true
   },
   "outputs": [],
   "source": [
    "# 세션 초기화\n",
    "sess = tf.Session()\n",
    "sess.run(tf.global_variables_initializer())"
   ]
  },
  {
   "cell_type": "code",
   "execution_count": null,
   "metadata": {
    "scrolled": false
   },
   "outputs": [],
   "source": [
    "import time \n",
    "\n",
    "learning_rate = 0.01\n",
    "epochs = 1\n",
    "batch_size = 200\n",
    "dropout = 0.7\n",
    "\n",
    "num_batches = int(mnist.train.num_examples / batch_size)\n",
    "display_step = 2 * int(2500 / batch_size)\n",
    "\n",
    "start_time = time.time()\n",
    "\n",
    "for e in range(epochs):\n",
    "    print(\"%dth epoch - total batches %d\" % ((e + 1), num_batches))\n",
    "    \n",
    "    for i in range(num_batches):\n",
    "        X_batch, Y_batch = mnist.train.next_batch(batch_size)\n",
    "        sess.run(optimizer, feed_dict={X: X_batch.reshape(-1, 28, 28, 1), \n",
    "                                       Y: Y_batch, \n",
    "                                       lr: learning_rate, \n",
    "                                       kp: dropout})\n",
    "\n",
    "        # display current training informations\n",
    "        if (i + 1) % display_step == 0:\n",
    "            temp_time=time.time()\n",
    "            c, a = sess.run([loss, accuracy], feed_dict={X: X_batch.reshape(-1, 28, 28, 1), \n",
    "                                                         Y: Y_batch, \n",
    "                                                         lr: learning_rate, \n",
    "                                                         kp: 1.0})\n",
    "            \n",
    "            log = \"time: {:.2f} Step/Batch: {} --- Loss: {:.4f} Training accuracy: {:.4f}\"\n",
    "            print(log.format((temp_time - start_time), (i + 1), c, a))\n",
    "\n",
    "    v_a = sess.run(accuracy, feed_dict={X: mnist.test.images.reshape(-1, 28, 28, 1), \n",
    "                                        Y: mnist.test.labels, \n",
    "                                        lr: learning_rate, \n",
    "                                        kp: 1.0})\n",
    "    # intermediate time\n",
    "    int_time = time.time()\n",
    "    print('Elapsed time: {:.04f}'.format(int_time - start_time))\n",
    "    print('Validation accuracy: {:.04f}'.format(v_a))\n",
    "\n",
    "end_time = time.time()\n",
    "print('Elapsed time: {:.04f}'.format(end_time - start_time))\n"
   ]
  },
  {
   "cell_type": "markdown",
   "metadata": {},
   "source": [
    "### 실습 1\n",
    "위의 alexnet을 모델을 보고 제대로 구성하여. 성능 튜닝을 해봅시다. "
   ]
  },
  {
   "cell_type": "markdown",
   "metadata": {},
   "source": [
    "## CIFAR-10 + alexnet"
   ]
  },
  {
   "cell_type": "code",
   "execution_count": null,
   "metadata": {},
   "outputs": [],
   "source": [
    "import tensorflow as tf\n",
    "from tbij import show_graph # Tensor Board In Jupyter notebook. You can see this later.\n",
    "\n",
    "import cifar10\n",
    "cifar10.data_path = \"./CIFAR-10/\"\n",
    "# cifar10.maybe_download_and_extract()\n",
    "class_names = cifar10.load_class_names()\n",
    "\n",
    "images_train, cls_train, labels_train = cifar10.load_training_data()\n",
    "images_test, cls_test, labels_test = cifar10.load_test_data()"
   ]
  },
  {
   "cell_type": "code",
   "execution_count": null,
   "metadata": {
    "collapsed": true
   },
   "outputs": [],
   "source": [
    "# Graph Clear\n",
    "tf.reset_default_graph()\n",
    "tf.set_random_seed(2017) # random seeding - reproduct\n",
    "\n",
    "############################\n",
    "# Place Holders\n",
    "lr = tf.placeholder(tf.float32)\n",
    "kp = tf.placeholder(tf.float32)\n",
    "\n",
    "X = tf.placeholder(tf.float32, [None, 32, 32, 3], name=\"X\")\n",
    "Y = tf.placeholder(tf.float32, [None, 10], name=\"Y\")"
   ]
  },
  {
   "cell_type": "markdown",
   "metadata": {},
   "source": [
    "### 실습 2\n",
    "위의 alexnet을 모델로 cifar-10을 분류하는 모델을 만들어보자."
   ]
  },
  {
   "cell_type": "code",
   "execution_count": null,
   "metadata": {
    "collapsed": true
   },
   "outputs": [],
   "source": [
    "'''\n",
    "실습 2\n",
    "alexnet 구성하기\n",
    "'''\n",
    "tf.reset_default_graph()\n",
    "\n",
    "lr = tf.placeholder(tf.float32)\n",
    "kp = tf.placeholder(tf.float32)\n",
    "\n",
    "X = tf.placeholder(tf.float32, [None, 32, 32, 3])\n",
    "Y = tf.placeholder(tf.float32, [None, 10])\n",
    "\n",
    "with tf.name_scope('conv1') as inner_scope:\n",
    "    wcnn1 = weight([5, 5, 3, 48], name='wcnn1')\n",
    "    bcnn1 = bias([48], name='bcnn1')\n",
    "    conv1 = tf.add(conv2d(X, wcnn1, stride=(4, 4), padding='SAME'), bcnn1)\n",
    "    conv1 = batch_norm(conv1)\n",
    "    conv1 = relu(conv1)\n",
    "    norm1 = lrn(conv1, depth_radius=5, bias=1.0, alpha=1e-04, beta=0.75)\n",
    "    pool1 = max_pool2d(norm1, kernel=[1, 3, 3, 1], stride=[1, 2, 2, 1], padding='SAME')\n",
    "    \n",
    "with tf.name_scope('conv2') as inner_scope:\n",
    "    wcnn2 = weight([3, 3, 48, 128], name='wcnn2')\n",
    "    bcnn2 = bias([128], name='bcnn2')\n",
    "    conv2 = tf.add(conv2d(pool1, wcnn2, stride=(1, 1), padding='SAME'), bcnn2)\n",
    "    conv2 = batch_norm(conv2)\n",
    "    conv2 = relu(conv2)\n",
    "    norm2 = lrn(conv2, depth_radius=5, bias=1.0, alpha=1e-04, beta=0.75)\n",
    "    pool2 = max_pool2d(norm2, kernel=[1, 3, 3, 1], stride=[1, 2, 2, 1], padding='SAME')\n",
    "\n",
    "with tf.name_scope('conv3') as inner_scope:\n",
    "    wcnn3 = weight([3, 3, 128, 192], name='wcnn3')\n",
    "    bcnn3 = bias([192], name='bcnn3')\n",
    "    conv3 = tf.add(conv2d(pool2, wcnn3, stride=(1, 1), padding='SAME'), bcnn3)\n",
    "    conv3 = batch_norm(conv3)\n",
    "    conv3 = relu(conv3)\n",
    "\n",
    "with tf.name_scope('conv4') as inner_scope:\n",
    "    wcnn4 = weight([3, 3, 192, 192], name='wcnn4')\n",
    "    bcnn4 = bias([192], name='bcnn4')\n",
    "    conv4 = tf.add(conv2d(conv3, wcnn4, stride=(1, 1), padding='SAME'), bcnn4)\n",
    "    conv4 = batch_norm(conv4)\n",
    "    conv4 = relu(conv4)\n",
    "\n",
    "with tf.name_scope('conv5') as inner_scope:\n",
    "    wcnn5 = weight([3, 3, 192, 128], name='wcnn5')\n",
    "    bcnn5 = bias([128], name='bcnn5')\n",
    "    conv5 = tf.add(conv2d(conv4, wcnn5, stride=(1, 1), padding='SAME'), bcnn5)\n",
    "    conv5 = batch_norm(conv5)\n",
    "    conv5 = relu(conv5)\n",
    "    pool5 = max_pool2d(conv5, kernel=[1, 3, 3, 1], stride=[1, 2, 2, 1], padding='SAME')\n",
    "    \n",
    "dim = pool5.get_shape().as_list()\n",
    "flat_dim = dim[1] * dim[2] * dim[3] # 6 * 6 * 256\n",
    "flat = tf.reshape(pool5, [-1, flat_dim])\n",
    "\n",
    "with tf.name_scope('fullyconected1') as inner_scope:\n",
    "    wfc1 = weight([flat_dim, 4096], name='wfc1')\n",
    "    bfc1 = bias([4096], name='bfc1')\n",
    "    fc1 = tf.add(tf.matmul(flat, wfc1), bfc1)\n",
    "    fc1 = batch_norm(fc1)\n",
    "    fc1 = relu(fc1)\n",
    "    fc1 = tf.nn.dropout(fc1, kp)\n",
    "\n",
    "with tf.name_scope('fullyconected2') as inner_scope:\n",
    "    wfc2 = weight([4096, 1000], name='wfc2')\n",
    "    bfc2 = bias([1000], name='bfc2')\n",
    "    fc2 = tf.add(tf.matmul(fc1, wfc2), bfc2)\n",
    "    fc2 = batch_norm(fc2)\n",
    "    fc2 = relu(fc2)\n",
    "    fc2 = tf.nn.dropout(fc2, kp)\n",
    "\n",
    "with tf.name_scope('classifier_output') as inner_scope:\n",
    "    wfc3 = weight([1000, 10], name='wfc3')\n",
    "    bfc3 = bias([10], name='bfc3')\n",
    "    pred = tf.add(tf.matmul(fc2, wfc3), bfc3)\n",
    "    softmax = tf.nn.softmax(pred)\n"
   ]
  },
  {
   "cell_type": "code",
   "execution_count": null,
   "metadata": {
    "collapsed": true
   },
   "outputs": [],
   "source": [
    "LAMBDA = 0.00005 # for weight decay\n",
    "\n",
    "# cross-entropy and weight decay\n",
    "cross_entropy = tf.reduce_mean(tf.nn.softmax_cross_entropy_with_logits(logits=pred, labels=Y, name='cross-entropy'))\n",
    "\n",
    "l2_loss = tf.reduce_sum(LAMBDA * tf.stack([tf.nn.l2_loss(v) for v in tf.get_collection('weights')]))\n",
    "tf.summary.scalar('l2_loss', l2_loss)\n",
    "\n",
    "loss = cross_entropy + l2_loss\n",
    "tf.summary.scalar('loss', loss)\n",
    "\n",
    "# accuracy\n",
    "correct = tf.equal(tf.argmax(pred, 1), tf.argmax(Y, 1))\n",
    "accuracy = tf.reduce_mean(tf.cast(correct, tf.float32))\n",
    "tf.summary.scalar('accuracy', accuracy)\n",
    "\n",
    "# momentum optimizer\n",
    "optimizer = tf.train.AdamOptimizer(learning_rate=lr).minimize(loss)\n"
   ]
  },
  {
   "cell_type": "code",
   "execution_count": null,
   "metadata": {
    "collapsed": true
   },
   "outputs": [],
   "source": [
    "# 세션 초기화\n",
    "sess = tf.Session()\n",
    "sess.run(tf.global_variables_initializer())\n",
    "times = 1"
   ]
  },
  {
   "cell_type": "code",
   "execution_count": null,
   "metadata": {
    "scrolled": false
   },
   "outputs": [],
   "source": [
    "import time \n",
    "\n",
    "learning_rate = 0.005\n",
    "epochs = 5\n",
    "batch_size = 200\n",
    "dropout = 0.7\n",
    "num_batches = int(len(images_train) / batch_size)\n",
    "display_step = int(2500 / batch_size)\n",
    "\n",
    "start_time = time.time()\n",
    "\n",
    "for e in range(epochs):\n",
    "    print(\"%dth epoch - total batches %d\" % ((e + times), num_batches))\n",
    "    \n",
    "    for i in range(num_batches):\n",
    "        X_batch = images_train[i * batch_size:(i + 1) * batch_size]\n",
    "        Y_batch = labels_train[i * batch_size:(i + 1) * batch_size]\n",
    "        sess.run(optimizer, feed_dict={X: X_batch, \n",
    "                                       Y: Y_batch, \n",
    "                                       lr: learning_rate, \n",
    "                                       kp: dropout})\n",
    "\n",
    "        # display current training informations\n",
    "        if (i + 1) % display_step == 0:\n",
    "            temp_time=time.time()\n",
    "            c, a = sess.run([loss, accuracy], feed_dict={X: X_batch, \n",
    "                                                         Y: Y_batch, \n",
    "                                                         lr: learning_rate, \n",
    "                                                         kp: 1.0})\n",
    "            \n",
    "            log = \"time: {:.2f} Step/Batch: {} --- Loss: {:.4f} Training accuracy: {:.4f}\"\n",
    "            print(log.format((temp_time - start_time), (i + 1), c, a))\n",
    "\n",
    "    v_a = sess.run(accuracy, feed_dict={X: images_test, \n",
    "                                        Y: labels_test, \n",
    "                                        lr: learning_rate, \n",
    "                                        kp: 1.0})\n",
    "    # intermediate time\n",
    "    int_time = time.time()\n",
    "    print('Elapsed time: {:.04f}'.format(int_time - start_time))\n",
    "    print('Validation accuracy: {:.04f}'.format(v_a))\n",
    "\n",
    "times += epochs\n",
    "end_time = time.time()\n",
    "print('Elapsed time: {:.04f}'.format(end_time - start_time))\n"
   ]
  },
  {
   "cell_type": "code",
   "execution_count": null,
   "metadata": {
    "collapsed": true
   },
   "outputs": [],
   "source": []
  }
 ],
 "metadata": {
  "kernelspec": {
   "display_name": "Python 3",
   "language": "python",
   "name": "python3"
  },
  "language_info": {
   "codemirror_mode": {
    "name": "ipython",
    "version": 3
   },
   "file_extension": ".py",
   "mimetype": "text/x-python",
   "name": "python",
   "nbconvert_exporter": "python",
   "pygments_lexer": "ipython3",
   "version": "3.6.2"
  }
 },
 "nbformat": 4,
 "nbformat_minor": 2
}
